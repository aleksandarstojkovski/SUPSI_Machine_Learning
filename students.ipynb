{
 "cells": [
  {
   "cell_type": "markdown",
   "metadata": {},
   "source": [
    "# Progetto Machine Learning\n",
    "Progetto per il corso di Machine Learning - SUPSI DTI 2020/2021.\n",
    "\n",
    "Gruppo formato da:\n",
    "* De Santi Massimo\n",
    "* Aleskandar Stojkovski\n",
    "\n",
    "## Dataset\n",
    "\n",
    "Dati provenienti da due scuole superiori Portoghesi.\n",
    "I dati sono stati raccolti tramite report scolastici e questionari. \n",
    "\n",
    "Attributi disponibili includono:\n",
    "- attributi demografici\n",
    "- attributi sociali\n",
    "- attributi relativi alla scuola\n",
    "- voti\n",
    "\n",
    "Attraverso due distinti dataset vengono analizzate le performance di due materie:\n",
    "- Mathematica (student-mat.csv) \n",
    "- Lingua Portoghese (student-por.csv)\n",
    "\n",
    "## Descrizione Attributi comuni:\n",
    "| i | col | description |\n",
    "| --- | :- | :- |\n",
    "| 1  | school     | student's school (binary: \"GP\" - Gabriel Pereira or \"MS\" - Mousinho da Silveira)\n",
    "| 2  | sex        | student's sex (binary: \"F\" - female or \"M\" - male)\n",
    "| 3  | age        | student's age (numeric: from 15 to 22)\n",
    "| 4  | address    | student's home address type (binary: \"U\" - urban or \"R\" - rural)\n",
    "| 5  | famsize    | family size (binary: \"LE3\" - less or equal to 3 or \"GT3\" - greater than 3)\n",
    "| 6  | Pstatus    | parent's cohabitation status (binary: \"T\" - living together or \"A\" - apart)\n",
    "| 7  | Medu       | mother's education (numeric: 0 - none,  1 - primary education (4th grade), 2 – 5th to 9th grade, 3 – secondary education or 4 – higher education)\n",
    "| 8  | Fedu       | father's education (numeric: 0 - none,  1 - primary education (4th grade), 2 – 5th to 9th grade, 3 – secondary education or 4 – higher education)\n",
    "| 9  | Mjob       | mother's job (nominal: \"teacher\", \"health\" care related, civil \"services\" (e.g. administrative or police), \"at_home\" or \"other\")\n",
    "| 10 | Fjob       | father's job (nominal: \"teacher\", \"health\" care related, civil \"services\" (e.g. administrative or police), \"at_home\" or \"other\")\n",
    "| 11 | reason     | reason to choose this school (nominal: close to \"home\", school \"reputation\", \"course\" preference or \"other\")\n",
    "| 12 | guardian   | student's guardian (nominal: \"mother\", \"father\" or \"other\")\n",
    "| 13 | traveltime | home to school travel time (numeric: 1 - <15 min., 2 - 15 to 30 min., 3 - 30 min. to 1 hour, or 4 - >1 hour)\n",
    "| 14 | studytime  | weekly study time (numeric: 1 - <2 hours, 2 - 2 to 5 hours, 3 - 5 to 10 hours, or 4 - >10 hours)\n",
    "| 15 | failures   | number of past class failures (numeric: n if 1<=n<3, else 4)\n",
    "| 16 | schoolsup  | extra educational support (binary: yes or no)\n",
    "| 17 | famsup     | family educational support (binary: yes or no)\n",
    "| 18 | paid       | extra paid classes within the course subject (Math or Portuguese) (binary: yes or no)\n",
    "| 19 | activities | extra-curricular activities (binary: yes or no)\n",
    "| 20 | nursery    | attended nursery school (binary: yes or no)\n",
    "| 21 | higher     | wants to take higher education (binary: yes or no)\n",
    "| 22 | internet   | Internet access at home (binary: yes or no)\n",
    "| 23 | romantic   | with a romantic relationship (binary: yes or no)\n",
    "| 24 | famrel     | quality of family relationships (numeric: from 1 - very bad to 5 - excellent)\n",
    "| 25 | freetime   | free time after school (numeric: from 1 - very low to 5 - very high)\n",
    "| 26 | goout      | going out with friends (numeric: from 1 - very low to 5 - very high)\n",
    "| 27 | Dalc       | workday alcohol consumption (numeric: from 1 - very low to 5 - very high)\n",
    "| 28 | Walc       | weekend alcohol consumption (numeric: from 1 - very low to 5 - very high)\n",
    "| 29 | health     | current health status (numeric: from 1 - very bad to 5 - very good)\n",
    "| 30 | absences   | number of school absences (numeric: from 0 to 93)\n",
    "| 31 | G1 | first period grade (numeric: from 0 to 20) |\n",
    "| 31 | G2 | second period grade (numeric: from 0 to 20) |\n",
    "| 32 | G3 | final grade (numeric: from 0 to 20, output target) |\n",
    "\n",
    "## Note\n",
    "* L'attributo target G3 (Voto terzo e ultimo anno) ha una forte correlazione con gli attributi G1 (voto primo anno) e G2 (voto secondo anno). \n",
    "* E' piu' difficile predire G3 senza G1 e G2, ma questa predizione e' anche piu' utile.\n",
    "* Ci sono parecchi (382) studenti che appartengono a entrambi i dataset. \n",
    "* Questi studenti possono essere indentificati facendo un match tra gli attributi demografici, come mostrato nel file student-merge.R\n",
    "\n",
    "Link dataset: https://archive.ics.uci.edu/ml/datasets/Student+Performance"
   ]
  },
  {
   "cell_type": "markdown",
   "metadata": {},
   "source": [
    "# Read dataset"
   ]
  },
  {
   "cell_type": "code",
   "execution_count": null,
   "metadata": {},
   "outputs": [],
   "source": [
    "# import libraries\n",
    "import pandas as pd\n",
    "import matplotlib.pyplot as plt\n",
    "import statsmodels.formula.api as smf\n",
    "import plotly.express as px\n",
    "import plotly.graph_objects as go\n",
    "\n",
    "# this allows plots to appear directly in the notebook\n",
    "%matplotlib inline"
   ]
  },
  {
   "cell_type": "code",
   "execution_count": null,
   "metadata": {},
   "outputs": [],
   "source": [
    "# dataset urls\n",
    "portuguese_dataset_url = \"https://raw.githubusercontent.com/aleksandarstojkovski/SUPSI_Machine_Learning/main/dataset/student-por.csv\"\n",
    "math_dataset_url = \"https://raw.githubusercontent.com/aleksandarstojkovski/SUPSI_Machine_Learning/main/dataset/student-mat.csv\"\n",
    "\n",
    "# dataframes\n",
    "df_por = pd.read_csv(portuguese_dataset_url, sep=';')\n",
    "df_math = pd.read_csv(math_dataset_url, sep=';')\n",
    "df = pd.concat([df_por, df_math], ignore_index=True)"
   ]
  },
  {
   "cell_type": "markdown",
   "metadata": {},
   "source": [
    "# Getting to know the dataset"
   ]
  },
  {
   "cell_type": "code",
   "execution_count": null,
   "metadata": {},
   "outputs": [],
   "source": [
    "df.head()"
   ]
  },
  {
   "cell_type": "code",
   "execution_count": null,
   "metadata": {},
   "outputs": [],
   "source": [
    "df.info()"
   ]
  },
  {
   "cell_type": "code",
   "execution_count": null,
   "metadata": {},
   "outputs": [],
   "source": [
    "df.duplicated().sum()"
   ]
  },
  {
   "cell_type": "code",
   "execution_count": null,
   "metadata": {},
   "outputs": [],
   "source": [
    "df.nunique()"
   ]
  },
  {
   "cell_type": "code",
   "execution_count": null,
   "metadata": {},
   "outputs": [],
   "source": [
    "df.describe()"
   ]
  },
  {
   "cell_type": "code",
   "execution_count": null,
   "metadata": {},
   "outputs": [],
   "source": [
    "df.shape"
   ]
  },
  {
   "cell_type": "markdown",
   "metadata": {},
   "source": [
    "# Data wrangling"
   ]
  },
  {
   "cell_type": "markdown",
   "metadata": {},
   "source": [
    "# Exploration"
   ]
  },
  {
   "cell_type": "code",
   "execution_count": null,
   "metadata": {},
   "outputs": [],
   "source": [
    "gender_count = df['sex'].value_counts().reset_index()\n",
    "gender_count.columns = ['gender', 'count']\n",
    "gender_count"
   ]
  },
  {
   "cell_type": "code",
   "execution_count": null,
   "metadata": {},
   "outputs": [],
   "source": [
    "fig = px.pie(gender_count, values='count', names='gender')\n",
    "fig.update_layout(\n",
    "    title=dict(\n",
    "        text='Gender Distribution',\n",
    "        y=0.95,\n",
    "        x=0.5,\n",
    "        xanchor='center',\n",
    "        yanchor='top'\n",
    "    )\n",
    ")\n",
    "fig.show()\n",
    "#############################\n",
    "# Invertire colori!!\n",
    "#############################"
   ]
  },
  {
   "cell_type": "code",
   "execution_count": null,
   "metadata": {},
   "outputs": [],
   "source": []
  },
  {
   "cell_type": "code",
   "execution_count": null,
   "metadata": {},
   "outputs": [],
   "source": []
  },
  {
   "cell_type": "code",
   "execution_count": null,
   "metadata": {},
   "outputs": [],
   "source": []
  },
  {
   "cell_type": "code",
   "execution_count": null,
   "metadata": {},
   "outputs": [],
   "source": []
  }
 ],
 "metadata": {
  "kernelspec": {
   "display_name": "Python 3",
   "language": "python",
   "name": "python3"
  },
  "language_info": {
   "codemirror_mode": {
    "name": "ipython",
    "version": 3
   },
   "file_extension": ".py",
   "mimetype": "text/x-python",
   "name": "python",
   "nbconvert_exporter": "python",
   "pygments_lexer": "ipython3",
   "version": "3.8.5"
  }
 },
 "nbformat": 4,
 "nbformat_minor": 4
}
