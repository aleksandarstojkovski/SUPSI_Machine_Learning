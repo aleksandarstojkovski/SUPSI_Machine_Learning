{
 "cells": [
  {
   "cell_type": "markdown",
   "metadata": {},
   "source": [
    "# Progetto Machine Learning\n",
    "Progetto per il corso di Machine Learning - SUPSI DTI 2020/2021.\n",
    "\n",
    "Gruppo formato da:\n",
    "* De Santi Massimo\n",
    "* Aleskandar Stojkovski\n",
    "\n",
    "## Dataset\n",
    "In Portogallo la percentuale dei studenti che abbandonano la scuola tra i 18 e i 24 anni e' particolarmente alta (40%) rispetto al resto d'europa (15%).\n",
    "L'obiettivo e' quello di poter prevedere possibili fallimenti in modo da offrire supporto in maniera tempestiva agli stundenti in difficolta'. Inoltre, potrebbe essere interessante capire se esistono fattori esterni che influenzano il rendimento degli studenti.\n",
    "\n",
    "Il seguente dataset contiente i dati di due scuole superiori Portoghesi: \n",
    "\n",
    "| Scuola | Osservazioni |\n",
    "| :-- | --- | \n",
    "| Gabriel Pereira (GP) | 772 |\n",
    "| Mousinho da Silveira (MS) | 272 |\n",
    "\n",
    "Attraverso due distinti **dataset** vengono analizzate le performance di due **materie** nell'arco del triennio di studi:\n",
    "\n",
    "| Dataset | Materia | Osservazioni |\n",
    "| :-- | :-- | --- | \n",
    "| *student-mat.csv* | Matematica | 395 |\n",
    "| *student-por.csv* | Lingua Portoghese | 649 |\n",
    "\n",
    "Tra le variabili **indipendenti** (attributi) troviamo:\n",
    "- attributi demografici\n",
    "- attributi sociali\n",
    "- attributi relativi alla scuola\n",
    "\n",
    "Variabili **dipendenti** (valore target):\n",
    "- voti dei rispettivi anni (`G1`, `G2`, `G3`) su una scala \\[0..20\\]\n",
    "\n",
    "\n",
    "## Descrizione Attributi\n",
    "\n",
    "| i | col | description |\n",
    "| --- | :- | :- |\n",
    "| 1  | school     | student's school (binary: \"GP\" - Gabriel Pereira or \"MS\" - Mousinho da Silveira)\n",
    "| 2  | sex        | student's sex (binary: \"F\" - female or \"M\" - male)\n",
    "| 3  | age        | student's age (numeric: from 15 to 22)\n",
    "| 4  | address    | student's home address type (binary: \"U\" - urban or \"R\" - rural)\n",
    "| 5  | famsize    | family size (binary: \"LE3\" - less or equal to 3 or \"GT3\" - greater than 3)\n",
    "| 6  | Pstatus    | parent's cohabitation status (binary: \"T\" - living together or \"A\" - apart)\n",
    "| 7  | Medu       | mother's education (numeric: 0 - none,  1 - primary education (4th grade), 2 – 5th to 9th grade, 3 – secondary education or 4 – higher education)\n",
    "| 8  | Fedu       | father's education (numeric: 0 - none,  1 - primary education (4th grade), 2 – 5th to 9th grade, 3 – secondary education or 4 – higher education)\n",
    "| 9  | Mjob       | mother's job (nominal: \"teacher\", \"health\" care related, civil \"services\" (e.g. administrative or police), \"at_home\" or \"other\")\n",
    "| 10 | Fjob       | father's job (nominal: \"teacher\", \"health\" care related, civil \"services\" (e.g. administrative or police), \"at_home\" or \"other\")\n",
    "| 11 | reason     | reason to choose this school (nominal: close to \"home\", school \"reputation\", \"course\" preference or \"other\")\n",
    "| 12 | guardian   | student's guardian (nominal: \"mother\", \"father\" or \"other\")\n",
    "| 13 | traveltime | home to school travel time (numeric: 1 - <15 min., 2 - 15 to 30 min., 3 - 30 min. to 1 hour, or 4 - >1 hour)\n",
    "| 14 | studytime  | weekly study time (numeric: 1 - <2 hours, 2 - 2 to 5 hours, 3 - 5 to 10 hours, or 4 - >10 hours)\n",
    "| 15 | failures   | number of past class failures (numeric: n if 1<=n<3, else 4)\n",
    "| 16 | schoolsup  | extra educational support (binary: yes or no)\n",
    "| 17 | famsup     | family educational support (binary: yes or no)\n",
    "| 18 | paid       | extra paid classes within the course subject (Math or Portuguese) (binary: yes or no)\n",
    "| 19 | activities | extra-curricular activities (binary: yes or no)\n",
    "| 20 | nursery    | attended nursery school (binary: yes or no)\n",
    "| 21 | higher     | wants to take higher education (binary: yes or no)\n",
    "| 22 | internet   | Internet access at home (binary: yes or no)\n",
    "| 23 | romantic   | with a romantic relationship (binary: yes or no)\n",
    "| 24 | famrel     | quality of family relationships (numeric: from 1 - very bad to 5 - excellent)\n",
    "| 25 | freetime   | free time after school (numeric: from 1 - very low to 5 - very high)\n",
    "| 26 | goout      | going out with friends (numeric: from 1 - very low to 5 - very high)\n",
    "| 27 | Dalc       | workday alcohol consumption (numeric: from 1 - very low to 5 - very high)\n",
    "| 28 | Walc       | weekend alcohol consumption (numeric: from 1 - very low to 5 - very high)\n",
    "| 29 | health     | current health status (numeric: from 1 - very bad to 5 - very good)\n",
    "| 30 | absences   | number of school absences (numeric: from 0 to 93)\n",
    "| 31 | G1 | first period grade (numeric: from 0 to 20) |\n",
    "| 31 | G2 | second period grade (numeric: from 0 to 20) |\n",
    "| 32 | G3 | final grade (numeric: from 0 to 20, output target) |\n",
    "\n",
    "\n",
    "## Note\n",
    "* L'attributo target `G3` (Voto terzo e ultimo anno) ha una forte correlazione con gli attributi `G1` (voto primo anno) e `G2` (voto secondo anno). E' piu' difficile predire `G3` senza `G1` e `G2`, ma questa predizione e' anche piu' utile.\n",
    "* Eseguendo un `group by` per attributi demografici e' possibile identificare gli studenti univoci come mostrato nel file student-merge.R\n",
    "\n",
    "## Riferimenti\n",
    "\n",
    "* Link dataset: https://archive.ics.uci.edu/ml/datasets/Student+Performance\n",
    "* P. Cortez and A. Silva. Using Data Mining to Predict Secondary School Student Performance. In A. Brito and J. Teixeira Eds., Proceedings of 5th FUture BUsiness TEChnology Conference (FUBUTEC 2008) pp. 5-12, Porto, Portugal, April, 2008, EUROSIS, ISBN 978-9077381-39-7. http://www3.dsi.uminho.pt/pcortez/student.pdf"
   ]
  },
  {
   "cell_type": "markdown",
   "metadata": {},
   "source": [
    "# Caricamento Dataset"
   ]
  },
  {
   "cell_type": "code",
   "execution_count": null,
   "metadata": {},
   "outputs": [],
   "source": [
    "# import libraries\n",
    "import pandas as pd\n",
    "import matplotlib.pyplot as plt\n",
    "import statsmodels.formula.api as smf\n",
    "import plotly.express as px\n",
    "import plotly.graph_objects as go\n",
    "\n",
    "# this allows plots to appear directly in the notebook\n",
    "%matplotlib inline"
   ]
  },
  {
   "cell_type": "code",
   "execution_count": null,
   "metadata": {},
   "outputs": [],
   "source": [
    "# dataset urls\n",
    "base_url = \"https://raw.githubusercontent.com/aleksandarstojkovski/SUPSI_Machine_Learning/main/dataset\"\n",
    "portuguese_dataset_url = f\"{base_url}/student-por.csv\"\n",
    "math_dataset_url = f\"{base_url}/student-mat.csv\"\n",
    "\n",
    "# dataframes\n",
    "df_por = pd.read_csv(portuguese_dataset_url, sep=';')\n",
    "df_math = pd.read_csv(math_dataset_url, sep=';')\n",
    "df = pd.concat([df_por, df_math], ignore_index=True)"
   ]
  },
  {
   "cell_type": "markdown",
   "metadata": {},
   "source": [
    "# Esplorazione dei dati"
   ]
  },
  {
   "cell_type": "markdown",
   "metadata": {},
   "source": [
    "Usiamo la classe **DataFrame** per ottenere informazioni di sintesi sui dati caricati"
   ]
  },
  {
   "cell_type": "code",
   "execution_count": null,
   "metadata": {},
   "outputs": [],
   "source": [
    "# visualizza le prime e ultime righe del DataFrame, il numero di righe e di colonne\n",
    "df"
   ]
  },
  {
   "cell_type": "code",
   "execution_count": null,
   "metadata": {},
   "outputs": [],
   "source": [
    "# e' possibile estrarre il numero di righe e di colonne tramite la proprieta' shape del DataFrame\n",
    "num_rows, num_cols = df.shape\n",
    "print(f'Numero righe: {num_rows}')\n",
    "print(f'Numero colonne: {num_cols}')"
   ]
  },
  {
   "cell_type": "code",
   "execution_count": null,
   "metadata": {},
   "outputs": [],
   "source": [
    "# stampa un sommario delle features (colonne) del DataFrame: indice, nome, # valori nulli, tipo\n",
    "# df.info()"
   ]
  },
  {
   "cell_type": "code",
   "execution_count": null,
   "metadata": {},
   "outputs": [],
   "source": [
    "# controllo se ci sono righe duplicate (0=falso)\n",
    "df.duplicated().sum()"
   ]
  },
  {
   "cell_type": "code",
   "execution_count": null,
   "metadata": {},
   "outputs": [],
   "source": [
    "# controllo numero di valori univoci\n",
    "# df.nunique()"
   ]
  },
  {
   "cell_type": "code",
   "execution_count": null,
   "metadata": {},
   "outputs": [],
   "source": [
    "# stampa un sommario statistico: dispersione e forma della distribuzione del DataFrame \n",
    "df.describe()"
   ]
  },
  {
   "cell_type": "code",
   "execution_count": null,
   "metadata": {},
   "outputs": [],
   "source": [
    "# Visualizzazione grafica della distribuzione dei valori delle features (istogrammi)\n",
    "df.hist(bins=50, figsize=(20,15))\n",
    "plt.show()"
   ]
  },
  {
   "cell_type": "code",
   "execution_count": null,
   "metadata": {},
   "outputs": [],
   "source": [
    "by_school = df['school'].value_counts().reset_index()\n",
    "by_school.columns = ['school', 'count']\n",
    "by_school"
   ]
  },
  {
   "cell_type": "markdown",
   "metadata": {},
   "source": [
    "## Identificare gli studenti univoci\n",
    "Anche se sono coinvolte 2 differenti scuole, le **1044** osservazioni non rappresentano studenti univoci.  \n",
    "E' ragionavole pensare che alcuni studenti seguano sia il corso di Matematica che quello di Lingua Portoghese.  \n",
    "Pur non avendo accesso ad un ID univoco per studente, possiamo cercare di raggruppare i dati per caratteristiche demografiche.  \n",
    "Dai risultati ottenuti notiamo che ci sono **672** studenti univoci, divisi in **300** studenti che seguono una materia sola e altri **372** che seguono sia Matematica che Potroghese. "
   ]
  },
  {
   "cell_type": "code",
   "execution_count": null,
   "metadata": {},
   "outputs": [],
   "source": [
    "len(df_por) #649 rows\n",
    "len(df_math) #395 rows\n",
    "len(df) #1044 total rows\n",
    "\n",
    "#group_cols = [\"school\",\"sex\",\"age\",\"address\",\"famsize\",\"Pstatus\",\"Medu\",\"Fedu\",\"Mjob\",\"Fjob\",\"reason\",\"nursery\",\"internet\"]\n",
    "group_cols = [\"school\",\"sex\",\"age\",\"address\",\"famsize\",\"Pstatus\",\"Medu\",\"Fedu\",\"Mjob\",\"Fjob\",\"reason\", \"nursery\",\"internet\",\n",
    "              \"guardian\", \"traveltime\",\"famrel\",\"freetime\",\"goout\",\"Dalc\",\"Walc\"]\n",
    "size = df.groupby(group_cols).size().reset_index() \n",
    "len(size[size[0] > 2]) #0 studenti, OK avendo 2 materie non ci aspettiamo piu' di 2 sovrapposizioni\n",
    "print(f'Numero studenti totali: {len(size[size[0] >= 1])}') #672 \n",
    "print(f'Numero studenti che seguono sia Matematica che Portoghese: {len(size[size[0] == 2])}') #372 \n",
    "print(f'Numero studenti che seguono solo una materia: {len(size[size[0] == 1])}') #300\n"
   ]
  },
  {
   "cell_type": "markdown",
   "metadata": {},
   "source": [
    "## Analisi caratteristiche demografiche"
   ]
  },
  {
   "cell_type": "code",
   "execution_count": null,
   "metadata": {},
   "outputs": [],
   "source": [
    "gender_count = df['sex'].value_counts().reset_index()\n",
    "gender_count.columns = ['gender', 'count']\n",
    "gender_count"
   ]
  },
  {
   "cell_type": "code",
   "execution_count": null,
   "metadata": {},
   "outputs": [],
   "source": [
    "fig = px.pie(gender_count, values='count', names='gender')\n",
    "fig.update_layout(\n",
    "    title=dict(\n",
    "        text='Gender Distribution',\n",
    "        y=0.95,\n",
    "        x=0.5,\n",
    "        xanchor='center',\n",
    "        yanchor='top'\n",
    "    )\n",
    ")\n",
    "fig.show()\n",
    "#############################\n",
    "# Invertire colori!!\n",
    "#############################"
   ]
  },
  {
   "cell_type": "code",
   "execution_count": null,
   "metadata": {},
   "outputs": [],
   "source": [
    "# Visualizzazione grafica della distribuzione dei valori delle features (istogrammi)\n",
    "df.hist(bins=50, figsize=(20,15))\n",
    "plt.show()"
   ]
  },
  {
   "cell_type": "code",
   "execution_count": null,
   "metadata": {},
   "outputs": [],
   "source": []
  },
  {
   "cell_type": "code",
   "execution_count": null,
   "metadata": {},
   "outputs": [],
   "source": []
  },
  {
   "cell_type": "code",
   "execution_count": null,
   "metadata": {},
   "outputs": [],
   "source": []
  }
 ],
 "metadata": {
  "kernelspec": {
   "display_name": "Python 3",
   "language": "python",
   "name": "python3"
  },
  "language_info": {
   "codemirror_mode": {
    "name": "ipython",
    "version": 3
   },
   "file_extension": ".py",
   "mimetype": "text/x-python",
   "name": "python",
   "nbconvert_exporter": "python",
   "pygments_lexer": "ipython3",
   "version": "3.8.5"
  }
 },
 "nbformat": 4,
 "nbformat_minor": 4
}
