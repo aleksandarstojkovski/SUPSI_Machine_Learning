{
 "cells": [
  {
   "cell_type": "markdown",
   "metadata": {},
   "source": [
    "# Progetto Machine Learning\n",
    "Progetto per il corso di Machine Learning - SUPSI DTI 2020/2021.\n",
    "\n",
    "Gruppo formato da:\n",
    "* De Santi Massimo\n",
    "* Aleskandar Stojkovski\n",
    "\n",
    "## Dataset\n",
    "In Portogallo la percentuale dei studenti che abbandonano la scuola tra i 18 e i 24 anni e' particolarmente alta (40%) rispetto al resto d'europa (15%).\n",
    "L'obiettivo e' quello di poter prevedere possibili fallimenti in modo da offrire supporto in maniera tempestiva agli stundenti in difficolta'. Inoltre, potrebbe essere interessante capire se esistono fattori esterni che influenzano il rendimento degli studenti.\n",
    "\n",
    "Il seguente dataset contiente i dati di due scuole superiori Portoghesi: \n",
    "\n",
    "| Scuola | Osservazioni |\n",
    "| :-- | --- | \n",
    "| Gabriel Pereira (GP) | 772 |\n",
    "| Mousinho da Silveira (MS) | 272 |\n",
    "\n",
    "Attraverso due distinti **dataset** vengono analizzate le performance di due **materie** nell'arco del triennio di studi:\n",
    "\n",
    "| Dataset | Materia | Osservazioni |\n",
    "| :-- | :-- | --- | \n",
    "| *student-mat.csv* | Matematica | 395 |\n",
    "| *student-por.csv* | Lingua Portoghese | 649 |\n",
    "\n",
    "Tra le variabili **indipendenti** (attributi) troviamo:\n",
    "- attributi demografici\n",
    "- attributi sociali\n",
    "- attributi relativi alla scuola\n",
    "\n",
    "Variabili **dipendenti** (valore target):\n",
    "- voti dei rispettivi anni (`G1`, `G2`, `G3`) su una scala \\[0..20\\]\n",
    "\n",
    "\n",
    "## Descrizione Attributi\n",
    "\n",
    "| i | col | description |\n",
    "| --- | :- | :- |\n",
    "| 1  | school     | student's school (binary: \"GP\" - Gabriel Pereira or \"MS\" - Mousinho da Silveira)\n",
    "| 2  | sex        | student's sex (binary: \"F\" - female or \"M\" - male)\n",
    "| 3  | age        | student's age (numeric: from 15 to 22)\n",
    "| 4  | address    | student's home address type (binary: \"U\" - urban or \"R\" - rural)\n",
    "| 5  | famsize    | family size (binary: \"LE3\" - less or equal to 3 or \"GT3\" - greater than 3)\n",
    "| 6  | Pstatus    | parent's cohabitation status (binary: \"T\" - living together or \"A\" - apart)\n",
    "| 7  | Medu       | mother's education (numeric: 0 - none,  1 - primary education (4th grade), 2 – 5th to 9th grade, 3 – secondary education or 4 – higher education)\n",
    "| 8  | Fedu       | father's education (numeric: 0 - none,  1 - primary education (4th grade), 2 – 5th to 9th grade, 3 – secondary education or 4 – higher education)\n",
    "| 9  | Mjob       | mother's job (nominal: \"teacher\", \"health\" care related, civil \"services\" (e.g. administrative or police), \"at_home\" or \"other\")\n",
    "| 10 | Fjob       | father's job (nominal: \"teacher\", \"health\" care related, civil \"services\" (e.g. administrative or police), \"at_home\" or \"other\")\n",
    "| 11 | reason     | reason to choose this school (nominal: close to \"home\", school \"reputation\", \"course\" preference or \"other\")\n",
    "| 12 | guardian   | student's guardian (nominal: \"mother\", \"father\" or \"other\")\n",
    "| 13 | traveltime | home to school travel time (numeric: 1 - <15 min., 2 - 15 to 30 min., 3 - 30 min. to 1 hour, or 4 - >1 hour)\n",
    "| 14 | studytime  | weekly study time (numeric: 1 - <2 hours, 2 - 2 to 5 hours, 3 - 5 to 10 hours, or 4 - >10 hours)\n",
    "| 15 | failures   | number of past class failures (numeric: n if 1<=n<3, else 4)\n",
    "| 16 | schoolsup  | extra educational support (binary: yes or no)\n",
    "| 17 | famsup     | family educational support (binary: yes or no)\n",
    "| 18 | paid       | extra paid classes within the course subject (Math or Portuguese) (binary: yes or no)\n",
    "| 19 | activities | extra-curricular activities (binary: yes or no)\n",
    "| 20 | nursery    | attended nursery school (binary: yes or no)\n",
    "| 21 | higher     | wants to take higher education (binary: yes or no)\n",
    "| 22 | internet   | Internet access at home (binary: yes or no)\n",
    "| 23 | romantic   | with a romantic relationship (binary: yes or no)\n",
    "| 24 | famrel     | quality of family relationships (numeric: from 1 - very bad to 5 - excellent)\n",
    "| 25 | freetime   | free time after school (numeric: from 1 - very low to 5 - very high)\n",
    "| 26 | goout      | going out with friends (numeric: from 1 - very low to 5 - very high)\n",
    "| 27 | Dalc       | workday alcohol consumption (numeric: from 1 - very low to 5 - very high)\n",
    "| 28 | Walc       | weekend alcohol consumption (numeric: from 1 - very low to 5 - very high)\n",
    "| 29 | health     | current health status (numeric: from 1 - very bad to 5 - very good)\n",
    "| 30 | absences   | number of school absences (numeric: from 0 to 93)\n",
    "| 31 | G1 | first period grade (numeric: from 0 to 20) |\n",
    "| 31 | G2 | second period grade (numeric: from 0 to 20) |\n",
    "| 32 | G3 | final grade (numeric: from 0 to 20, output target) |\n",
    "\n",
    "\n",
    "## Note\n",
    "* L'attributo target `G3` (Voto terzo e ultimo anno) ha una forte correlazione con gli attributi `G1` (voto primo anno) e `G2` (voto secondo anno). E' piu' difficile predire `G3` senza `G1` e `G2`, ma questa predizione e' anche piu' utile.\n",
    "* Eseguendo un `group by` per attributi demografici e' possibile identificare gli studenti univoci come mostrato nel file student-merge.R\n",
    "\n",
    "## Riferimenti\n",
    "\n",
    "* Link dataset: https://archive.ics.uci.edu/ml/datasets/Student+Performance\n",
    "* P. Cortez and A. Silva. Using Data Mining to Predict Secondary School Student Performance. In A. Brito and J. Teixeira Eds., Proceedings of 5th FUture BUsiness TEChnology Conference (FUBUTEC 2008) pp. 5-12, Porto, Portugal, April, 2008, EUROSIS, ISBN 978-9077381-39-7. http://www3.dsi.uminho.pt/pcortez/student.pdf"
   ]
  },
  {
   "cell_type": "markdown",
   "metadata": {},
   "source": [
    "# Caricamento Dataset"
   ]
  },
  {
   "cell_type": "code",
   "execution_count": 71,
   "metadata": {},
   "outputs": [],
   "source": [
    "# import libraries\n",
    "import pandas as pd\n",
    "import numpy as np\n",
    "\n",
    "import matplotlib.pyplot as plt\n",
    "import statsmodels.formula.api as smf\n",
    "import plotly.express as px\n",
    "import plotly.graph_objects as go\n",
    "import seaborn as sns\n",
    "\n",
    "from sklearn.linear_model import LinearRegression \n",
    "from sklearn.ensemble import RandomForestRegressor\n",
    "from sklearn.metrics import mean_squared_error\n",
    "from sklearn.model_selection import train_test_split\n",
    "\n",
    "# this allows plots to appear directly in the notebook\n",
    "%matplotlib inline"
   ]
  },
  {
   "cell_type": "code",
   "execution_count": 2,
   "metadata": {},
   "outputs": [],
   "source": [
    "# dataset urls\n",
    "base_url = \"https://raw.githubusercontent.com/aleksandarstojkovski/SUPSI_Machine_Learning/main/dataset\"\n",
    "portuguese_dataset_url = f\"{base_url}/student-por.csv\"\n",
    "math_dataset_url = f\"{base_url}/student-mat.csv\"\n",
    "\n",
    "# dataframes\n",
    "df_por = pd.read_csv(portuguese_dataset_url, sep=';')\n",
    "df_math = pd.read_csv(math_dataset_url, sep=';')\n",
    "df = pd.concat([df_por, df_math], ignore_index=True)"
   ]
  },
  {
   "cell_type": "markdown",
   "metadata": {},
   "source": [
    "# Esplorazione dei dati"
   ]
  },
  {
   "cell_type": "markdown",
   "metadata": {},
   "source": [
    "Usiamo la classe **DataFrame** per ottenere informazioni di sintesi sui dati caricati"
   ]
  },
  {
   "cell_type": "code",
   "execution_count": 3,
   "metadata": {},
   "outputs": [
    {
     "data": {
      "text/html": [
       "<div>\n",
       "<style scoped>\n",
       "    .dataframe tbody tr th:only-of-type {\n",
       "        vertical-align: middle;\n",
       "    }\n",
       "\n",
       "    .dataframe tbody tr th {\n",
       "        vertical-align: top;\n",
       "    }\n",
       "\n",
       "    .dataframe thead th {\n",
       "        text-align: right;\n",
       "    }\n",
       "</style>\n",
       "<table border=\"1\" class=\"dataframe\">\n",
       "  <thead>\n",
       "    <tr style=\"text-align: right;\">\n",
       "      <th></th>\n",
       "      <th>school</th>\n",
       "      <th>sex</th>\n",
       "      <th>age</th>\n",
       "      <th>address</th>\n",
       "      <th>famsize</th>\n",
       "      <th>Pstatus</th>\n",
       "      <th>Medu</th>\n",
       "      <th>Fedu</th>\n",
       "      <th>Mjob</th>\n",
       "      <th>Fjob</th>\n",
       "      <th>...</th>\n",
       "      <th>famrel</th>\n",
       "      <th>freetime</th>\n",
       "      <th>goout</th>\n",
       "      <th>Dalc</th>\n",
       "      <th>Walc</th>\n",
       "      <th>health</th>\n",
       "      <th>absences</th>\n",
       "      <th>G1</th>\n",
       "      <th>G2</th>\n",
       "      <th>G3</th>\n",
       "    </tr>\n",
       "  </thead>\n",
       "  <tbody>\n",
       "    <tr>\n",
       "      <th>0</th>\n",
       "      <td>GP</td>\n",
       "      <td>F</td>\n",
       "      <td>18</td>\n",
       "      <td>U</td>\n",
       "      <td>GT3</td>\n",
       "      <td>A</td>\n",
       "      <td>4</td>\n",
       "      <td>4</td>\n",
       "      <td>at_home</td>\n",
       "      <td>teacher</td>\n",
       "      <td>...</td>\n",
       "      <td>4</td>\n",
       "      <td>3</td>\n",
       "      <td>4</td>\n",
       "      <td>1</td>\n",
       "      <td>1</td>\n",
       "      <td>3</td>\n",
       "      <td>4</td>\n",
       "      <td>0</td>\n",
       "      <td>11</td>\n",
       "      <td>11</td>\n",
       "    </tr>\n",
       "    <tr>\n",
       "      <th>1</th>\n",
       "      <td>GP</td>\n",
       "      <td>F</td>\n",
       "      <td>17</td>\n",
       "      <td>U</td>\n",
       "      <td>GT3</td>\n",
       "      <td>T</td>\n",
       "      <td>1</td>\n",
       "      <td>1</td>\n",
       "      <td>at_home</td>\n",
       "      <td>other</td>\n",
       "      <td>...</td>\n",
       "      <td>5</td>\n",
       "      <td>3</td>\n",
       "      <td>3</td>\n",
       "      <td>1</td>\n",
       "      <td>1</td>\n",
       "      <td>3</td>\n",
       "      <td>2</td>\n",
       "      <td>9</td>\n",
       "      <td>11</td>\n",
       "      <td>11</td>\n",
       "    </tr>\n",
       "    <tr>\n",
       "      <th>2</th>\n",
       "      <td>GP</td>\n",
       "      <td>F</td>\n",
       "      <td>15</td>\n",
       "      <td>U</td>\n",
       "      <td>LE3</td>\n",
       "      <td>T</td>\n",
       "      <td>1</td>\n",
       "      <td>1</td>\n",
       "      <td>at_home</td>\n",
       "      <td>other</td>\n",
       "      <td>...</td>\n",
       "      <td>4</td>\n",
       "      <td>3</td>\n",
       "      <td>2</td>\n",
       "      <td>2</td>\n",
       "      <td>3</td>\n",
       "      <td>3</td>\n",
       "      <td>6</td>\n",
       "      <td>12</td>\n",
       "      <td>13</td>\n",
       "      <td>12</td>\n",
       "    </tr>\n",
       "    <tr>\n",
       "      <th>3</th>\n",
       "      <td>GP</td>\n",
       "      <td>F</td>\n",
       "      <td>15</td>\n",
       "      <td>U</td>\n",
       "      <td>GT3</td>\n",
       "      <td>T</td>\n",
       "      <td>4</td>\n",
       "      <td>2</td>\n",
       "      <td>health</td>\n",
       "      <td>services</td>\n",
       "      <td>...</td>\n",
       "      <td>3</td>\n",
       "      <td>2</td>\n",
       "      <td>2</td>\n",
       "      <td>1</td>\n",
       "      <td>1</td>\n",
       "      <td>5</td>\n",
       "      <td>0</td>\n",
       "      <td>14</td>\n",
       "      <td>14</td>\n",
       "      <td>14</td>\n",
       "    </tr>\n",
       "    <tr>\n",
       "      <th>4</th>\n",
       "      <td>GP</td>\n",
       "      <td>F</td>\n",
       "      <td>16</td>\n",
       "      <td>U</td>\n",
       "      <td>GT3</td>\n",
       "      <td>T</td>\n",
       "      <td>3</td>\n",
       "      <td>3</td>\n",
       "      <td>other</td>\n",
       "      <td>other</td>\n",
       "      <td>...</td>\n",
       "      <td>4</td>\n",
       "      <td>3</td>\n",
       "      <td>2</td>\n",
       "      <td>1</td>\n",
       "      <td>2</td>\n",
       "      <td>5</td>\n",
       "      <td>0</td>\n",
       "      <td>11</td>\n",
       "      <td>13</td>\n",
       "      <td>13</td>\n",
       "    </tr>\n",
       "    <tr>\n",
       "      <th>...</th>\n",
       "      <td>...</td>\n",
       "      <td>...</td>\n",
       "      <td>...</td>\n",
       "      <td>...</td>\n",
       "      <td>...</td>\n",
       "      <td>...</td>\n",
       "      <td>...</td>\n",
       "      <td>...</td>\n",
       "      <td>...</td>\n",
       "      <td>...</td>\n",
       "      <td>...</td>\n",
       "      <td>...</td>\n",
       "      <td>...</td>\n",
       "      <td>...</td>\n",
       "      <td>...</td>\n",
       "      <td>...</td>\n",
       "      <td>...</td>\n",
       "      <td>...</td>\n",
       "      <td>...</td>\n",
       "      <td>...</td>\n",
       "      <td>...</td>\n",
       "    </tr>\n",
       "    <tr>\n",
       "      <th>1039</th>\n",
       "      <td>MS</td>\n",
       "      <td>M</td>\n",
       "      <td>20</td>\n",
       "      <td>U</td>\n",
       "      <td>LE3</td>\n",
       "      <td>A</td>\n",
       "      <td>2</td>\n",
       "      <td>2</td>\n",
       "      <td>services</td>\n",
       "      <td>services</td>\n",
       "      <td>...</td>\n",
       "      <td>5</td>\n",
       "      <td>5</td>\n",
       "      <td>4</td>\n",
       "      <td>4</td>\n",
       "      <td>5</td>\n",
       "      <td>4</td>\n",
       "      <td>11</td>\n",
       "      <td>9</td>\n",
       "      <td>9</td>\n",
       "      <td>9</td>\n",
       "    </tr>\n",
       "    <tr>\n",
       "      <th>1040</th>\n",
       "      <td>MS</td>\n",
       "      <td>M</td>\n",
       "      <td>17</td>\n",
       "      <td>U</td>\n",
       "      <td>LE3</td>\n",
       "      <td>T</td>\n",
       "      <td>3</td>\n",
       "      <td>1</td>\n",
       "      <td>services</td>\n",
       "      <td>services</td>\n",
       "      <td>...</td>\n",
       "      <td>2</td>\n",
       "      <td>4</td>\n",
       "      <td>5</td>\n",
       "      <td>3</td>\n",
       "      <td>4</td>\n",
       "      <td>2</td>\n",
       "      <td>3</td>\n",
       "      <td>14</td>\n",
       "      <td>16</td>\n",
       "      <td>16</td>\n",
       "    </tr>\n",
       "    <tr>\n",
       "      <th>1041</th>\n",
       "      <td>MS</td>\n",
       "      <td>M</td>\n",
       "      <td>21</td>\n",
       "      <td>R</td>\n",
       "      <td>GT3</td>\n",
       "      <td>T</td>\n",
       "      <td>1</td>\n",
       "      <td>1</td>\n",
       "      <td>other</td>\n",
       "      <td>other</td>\n",
       "      <td>...</td>\n",
       "      <td>5</td>\n",
       "      <td>5</td>\n",
       "      <td>3</td>\n",
       "      <td>3</td>\n",
       "      <td>3</td>\n",
       "      <td>3</td>\n",
       "      <td>3</td>\n",
       "      <td>10</td>\n",
       "      <td>8</td>\n",
       "      <td>7</td>\n",
       "    </tr>\n",
       "    <tr>\n",
       "      <th>1042</th>\n",
       "      <td>MS</td>\n",
       "      <td>M</td>\n",
       "      <td>18</td>\n",
       "      <td>R</td>\n",
       "      <td>LE3</td>\n",
       "      <td>T</td>\n",
       "      <td>3</td>\n",
       "      <td>2</td>\n",
       "      <td>services</td>\n",
       "      <td>other</td>\n",
       "      <td>...</td>\n",
       "      <td>4</td>\n",
       "      <td>4</td>\n",
       "      <td>1</td>\n",
       "      <td>3</td>\n",
       "      <td>4</td>\n",
       "      <td>5</td>\n",
       "      <td>0</td>\n",
       "      <td>11</td>\n",
       "      <td>12</td>\n",
       "      <td>10</td>\n",
       "    </tr>\n",
       "    <tr>\n",
       "      <th>1043</th>\n",
       "      <td>MS</td>\n",
       "      <td>M</td>\n",
       "      <td>19</td>\n",
       "      <td>U</td>\n",
       "      <td>LE3</td>\n",
       "      <td>T</td>\n",
       "      <td>1</td>\n",
       "      <td>1</td>\n",
       "      <td>other</td>\n",
       "      <td>at_home</td>\n",
       "      <td>...</td>\n",
       "      <td>3</td>\n",
       "      <td>2</td>\n",
       "      <td>3</td>\n",
       "      <td>3</td>\n",
       "      <td>3</td>\n",
       "      <td>5</td>\n",
       "      <td>5</td>\n",
       "      <td>8</td>\n",
       "      <td>9</td>\n",
       "      <td>9</td>\n",
       "    </tr>\n",
       "  </tbody>\n",
       "</table>\n",
       "<p>1044 rows × 33 columns</p>\n",
       "</div>"
      ],
      "text/plain": [
       "     school sex  age address famsize Pstatus  Medu  Fedu      Mjob      Fjob  \\\n",
       "0        GP   F   18       U     GT3       A     4     4   at_home   teacher   \n",
       "1        GP   F   17       U     GT3       T     1     1   at_home     other   \n",
       "2        GP   F   15       U     LE3       T     1     1   at_home     other   \n",
       "3        GP   F   15       U     GT3       T     4     2    health  services   \n",
       "4        GP   F   16       U     GT3       T     3     3     other     other   \n",
       "...     ...  ..  ...     ...     ...     ...   ...   ...       ...       ...   \n",
       "1039     MS   M   20       U     LE3       A     2     2  services  services   \n",
       "1040     MS   M   17       U     LE3       T     3     1  services  services   \n",
       "1041     MS   M   21       R     GT3       T     1     1     other     other   \n",
       "1042     MS   M   18       R     LE3       T     3     2  services     other   \n",
       "1043     MS   M   19       U     LE3       T     1     1     other   at_home   \n",
       "\n",
       "      ... famrel freetime  goout  Dalc  Walc health absences  G1  G2  G3  \n",
       "0     ...      4        3      4     1     1      3        4   0  11  11  \n",
       "1     ...      5        3      3     1     1      3        2   9  11  11  \n",
       "2     ...      4        3      2     2     3      3        6  12  13  12  \n",
       "3     ...      3        2      2     1     1      5        0  14  14  14  \n",
       "4     ...      4        3      2     1     2      5        0  11  13  13  \n",
       "...   ...    ...      ...    ...   ...   ...    ...      ...  ..  ..  ..  \n",
       "1039  ...      5        5      4     4     5      4       11   9   9   9  \n",
       "1040  ...      2        4      5     3     4      2        3  14  16  16  \n",
       "1041  ...      5        5      3     3     3      3        3  10   8   7  \n",
       "1042  ...      4        4      1     3     4      5        0  11  12  10  \n",
       "1043  ...      3        2      3     3     3      5        5   8   9   9  \n",
       "\n",
       "[1044 rows x 33 columns]"
      ]
     },
     "execution_count": 3,
     "metadata": {},
     "output_type": "execute_result"
    }
   ],
   "source": [
    "# visualizza le prime e ultime righe del DataFrame, il numero di righe e di colonne\n",
    "df"
   ]
  },
  {
   "cell_type": "code",
   "execution_count": 4,
   "metadata": {},
   "outputs": [
    {
     "name": "stdout",
     "output_type": "stream",
     "text": [
      "Numero righe: 1044\n",
      "Numero colonne: 33\n"
     ]
    }
   ],
   "source": [
    "# e' possibile estrarre il numero di righe e di colonne tramite la proprieta' shape del DataFrame\n",
    "num_rows, num_cols = df.shape\n",
    "print(f'Numero righe: {num_rows}')\n",
    "print(f'Numero colonne: {num_cols}')"
   ]
  },
  {
   "cell_type": "code",
   "execution_count": 62,
   "metadata": {},
   "outputs": [
    {
     "name": "stdout",
     "output_type": "stream",
     "text": [
      "<class 'pandas.core.frame.DataFrame'>\n",
      "RangeIndex: 1044 entries, 0 to 1043\n",
      "Data columns (total 33 columns):\n",
      " #   Column      Non-Null Count  Dtype \n",
      "---  ------      --------------  ----- \n",
      " 0   school      1044 non-null   object\n",
      " 1   sex         1044 non-null   object\n",
      " 2   age         1044 non-null   int64 \n",
      " 3   address     1044 non-null   object\n",
      " 4   famsize     1044 non-null   object\n",
      " 5   Pstatus     1044 non-null   object\n",
      " 6   Medu        1044 non-null   int64 \n",
      " 7   Fedu        1044 non-null   int64 \n",
      " 8   Mjob        1044 non-null   object\n",
      " 9   Fjob        1044 non-null   object\n",
      " 10  reason      1044 non-null   object\n",
      " 11  guardian    1044 non-null   object\n",
      " 12  traveltime  1044 non-null   int64 \n",
      " 13  studytime   1044 non-null   int64 \n",
      " 14  failures    1044 non-null   int64 \n",
      " 15  schoolsup   1044 non-null   object\n",
      " 16  famsup      1044 non-null   object\n",
      " 17  paid        1044 non-null   object\n",
      " 18  activities  1044 non-null   object\n",
      " 19  nursery     1044 non-null   object\n",
      " 20  higher      1044 non-null   object\n",
      " 21  internet    1044 non-null   object\n",
      " 22  romantic    1044 non-null   object\n",
      " 23  famrel      1044 non-null   int64 \n",
      " 24  freetime    1044 non-null   int64 \n",
      " 25  goout       1044 non-null   int64 \n",
      " 26  Dalc        1044 non-null   int64 \n",
      " 27  Walc        1044 non-null   int64 \n",
      " 28  health      1044 non-null   int64 \n",
      " 29  absences    1044 non-null   int64 \n",
      " 30  G1          1044 non-null   int64 \n",
      " 31  G2          1044 non-null   int64 \n",
      " 32  G3          1044 non-null   int64 \n",
      "dtypes: int64(16), object(17)\n",
      "memory usage: 269.3+ KB\n"
     ]
    }
   ],
   "source": [
    "# stampa un sommario delle features (colonne) del DataFrame: indice, nome, # valori nulli, tipo\n",
    "# df.info()"
   ]
  },
  {
   "cell_type": "code",
   "execution_count": 6,
   "metadata": {},
   "outputs": [
    {
     "data": {
      "text/plain": [
       "0"
      ]
     },
     "execution_count": 6,
     "metadata": {},
     "output_type": "execute_result"
    }
   ],
   "source": [
    "# controllo se ci sono righe duplicate (0=falso)\n",
    "df.duplicated().sum()"
   ]
  },
  {
   "cell_type": "code",
   "execution_count": 7,
   "metadata": {},
   "outputs": [],
   "source": [
    "# controllo numero di valori univoci\n",
    "# df.nunique()"
   ]
  },
  {
   "cell_type": "code",
   "execution_count": 8,
   "metadata": {},
   "outputs": [
    {
     "data": {
      "text/html": [
       "<div>\n",
       "<style scoped>\n",
       "    .dataframe tbody tr th:only-of-type {\n",
       "        vertical-align: middle;\n",
       "    }\n",
       "\n",
       "    .dataframe tbody tr th {\n",
       "        vertical-align: top;\n",
       "    }\n",
       "\n",
       "    .dataframe thead th {\n",
       "        text-align: right;\n",
       "    }\n",
       "</style>\n",
       "<table border=\"1\" class=\"dataframe\">\n",
       "  <thead>\n",
       "    <tr style=\"text-align: right;\">\n",
       "      <th></th>\n",
       "      <th>age</th>\n",
       "      <th>Medu</th>\n",
       "      <th>Fedu</th>\n",
       "      <th>traveltime</th>\n",
       "      <th>studytime</th>\n",
       "      <th>failures</th>\n",
       "      <th>famrel</th>\n",
       "      <th>freetime</th>\n",
       "      <th>goout</th>\n",
       "      <th>Dalc</th>\n",
       "      <th>Walc</th>\n",
       "      <th>health</th>\n",
       "      <th>absences</th>\n",
       "      <th>G1</th>\n",
       "      <th>G2</th>\n",
       "      <th>G3</th>\n",
       "    </tr>\n",
       "  </thead>\n",
       "  <tbody>\n",
       "    <tr>\n",
       "      <th>count</th>\n",
       "      <td>1044.000000</td>\n",
       "      <td>1044.000000</td>\n",
       "      <td>1044.000000</td>\n",
       "      <td>1044.000000</td>\n",
       "      <td>1044.000000</td>\n",
       "      <td>1044.000000</td>\n",
       "      <td>1044.000000</td>\n",
       "      <td>1044.000000</td>\n",
       "      <td>1044.000000</td>\n",
       "      <td>1044.000000</td>\n",
       "      <td>1044.000000</td>\n",
       "      <td>1044.000000</td>\n",
       "      <td>1044.000000</td>\n",
       "      <td>1044.000000</td>\n",
       "      <td>1044.000000</td>\n",
       "      <td>1044.000000</td>\n",
       "    </tr>\n",
       "    <tr>\n",
       "      <th>mean</th>\n",
       "      <td>16.726054</td>\n",
       "      <td>2.603448</td>\n",
       "      <td>2.387931</td>\n",
       "      <td>1.522989</td>\n",
       "      <td>1.970307</td>\n",
       "      <td>0.264368</td>\n",
       "      <td>3.935824</td>\n",
       "      <td>3.201149</td>\n",
       "      <td>3.156130</td>\n",
       "      <td>1.494253</td>\n",
       "      <td>2.284483</td>\n",
       "      <td>3.543103</td>\n",
       "      <td>4.434866</td>\n",
       "      <td>11.213602</td>\n",
       "      <td>11.246169</td>\n",
       "      <td>11.341954</td>\n",
       "    </tr>\n",
       "    <tr>\n",
       "      <th>std</th>\n",
       "      <td>1.239975</td>\n",
       "      <td>1.124907</td>\n",
       "      <td>1.099938</td>\n",
       "      <td>0.731727</td>\n",
       "      <td>0.834353</td>\n",
       "      <td>0.656142</td>\n",
       "      <td>0.933401</td>\n",
       "      <td>1.031507</td>\n",
       "      <td>1.152575</td>\n",
       "      <td>0.911714</td>\n",
       "      <td>1.285105</td>\n",
       "      <td>1.424703</td>\n",
       "      <td>6.210017</td>\n",
       "      <td>2.983394</td>\n",
       "      <td>3.285071</td>\n",
       "      <td>3.864796</td>\n",
       "    </tr>\n",
       "    <tr>\n",
       "      <th>min</th>\n",
       "      <td>15.000000</td>\n",
       "      <td>0.000000</td>\n",
       "      <td>0.000000</td>\n",
       "      <td>1.000000</td>\n",
       "      <td>1.000000</td>\n",
       "      <td>0.000000</td>\n",
       "      <td>1.000000</td>\n",
       "      <td>1.000000</td>\n",
       "      <td>1.000000</td>\n",
       "      <td>1.000000</td>\n",
       "      <td>1.000000</td>\n",
       "      <td>1.000000</td>\n",
       "      <td>0.000000</td>\n",
       "      <td>0.000000</td>\n",
       "      <td>0.000000</td>\n",
       "      <td>0.000000</td>\n",
       "    </tr>\n",
       "    <tr>\n",
       "      <th>25%</th>\n",
       "      <td>16.000000</td>\n",
       "      <td>2.000000</td>\n",
       "      <td>1.000000</td>\n",
       "      <td>1.000000</td>\n",
       "      <td>1.000000</td>\n",
       "      <td>0.000000</td>\n",
       "      <td>4.000000</td>\n",
       "      <td>3.000000</td>\n",
       "      <td>2.000000</td>\n",
       "      <td>1.000000</td>\n",
       "      <td>1.000000</td>\n",
       "      <td>3.000000</td>\n",
       "      <td>0.000000</td>\n",
       "      <td>9.000000</td>\n",
       "      <td>9.000000</td>\n",
       "      <td>10.000000</td>\n",
       "    </tr>\n",
       "    <tr>\n",
       "      <th>50%</th>\n",
       "      <td>17.000000</td>\n",
       "      <td>3.000000</td>\n",
       "      <td>2.000000</td>\n",
       "      <td>1.000000</td>\n",
       "      <td>2.000000</td>\n",
       "      <td>0.000000</td>\n",
       "      <td>4.000000</td>\n",
       "      <td>3.000000</td>\n",
       "      <td>3.000000</td>\n",
       "      <td>1.000000</td>\n",
       "      <td>2.000000</td>\n",
       "      <td>4.000000</td>\n",
       "      <td>2.000000</td>\n",
       "      <td>11.000000</td>\n",
       "      <td>11.000000</td>\n",
       "      <td>11.000000</td>\n",
       "    </tr>\n",
       "    <tr>\n",
       "      <th>75%</th>\n",
       "      <td>18.000000</td>\n",
       "      <td>4.000000</td>\n",
       "      <td>3.000000</td>\n",
       "      <td>2.000000</td>\n",
       "      <td>2.000000</td>\n",
       "      <td>0.000000</td>\n",
       "      <td>5.000000</td>\n",
       "      <td>4.000000</td>\n",
       "      <td>4.000000</td>\n",
       "      <td>2.000000</td>\n",
       "      <td>3.000000</td>\n",
       "      <td>5.000000</td>\n",
       "      <td>6.000000</td>\n",
       "      <td>13.000000</td>\n",
       "      <td>13.000000</td>\n",
       "      <td>14.000000</td>\n",
       "    </tr>\n",
       "    <tr>\n",
       "      <th>max</th>\n",
       "      <td>22.000000</td>\n",
       "      <td>4.000000</td>\n",
       "      <td>4.000000</td>\n",
       "      <td>4.000000</td>\n",
       "      <td>4.000000</td>\n",
       "      <td>3.000000</td>\n",
       "      <td>5.000000</td>\n",
       "      <td>5.000000</td>\n",
       "      <td>5.000000</td>\n",
       "      <td>5.000000</td>\n",
       "      <td>5.000000</td>\n",
       "      <td>5.000000</td>\n",
       "      <td>75.000000</td>\n",
       "      <td>19.000000</td>\n",
       "      <td>19.000000</td>\n",
       "      <td>20.000000</td>\n",
       "    </tr>\n",
       "  </tbody>\n",
       "</table>\n",
       "</div>"
      ],
      "text/plain": [
       "               age         Medu         Fedu   traveltime    studytime  \\\n",
       "count  1044.000000  1044.000000  1044.000000  1044.000000  1044.000000   \n",
       "mean     16.726054     2.603448     2.387931     1.522989     1.970307   \n",
       "std       1.239975     1.124907     1.099938     0.731727     0.834353   \n",
       "min      15.000000     0.000000     0.000000     1.000000     1.000000   \n",
       "25%      16.000000     2.000000     1.000000     1.000000     1.000000   \n",
       "50%      17.000000     3.000000     2.000000     1.000000     2.000000   \n",
       "75%      18.000000     4.000000     3.000000     2.000000     2.000000   \n",
       "max      22.000000     4.000000     4.000000     4.000000     4.000000   \n",
       "\n",
       "          failures       famrel     freetime        goout         Dalc  \\\n",
       "count  1044.000000  1044.000000  1044.000000  1044.000000  1044.000000   \n",
       "mean      0.264368     3.935824     3.201149     3.156130     1.494253   \n",
       "std       0.656142     0.933401     1.031507     1.152575     0.911714   \n",
       "min       0.000000     1.000000     1.000000     1.000000     1.000000   \n",
       "25%       0.000000     4.000000     3.000000     2.000000     1.000000   \n",
       "50%       0.000000     4.000000     3.000000     3.000000     1.000000   \n",
       "75%       0.000000     5.000000     4.000000     4.000000     2.000000   \n",
       "max       3.000000     5.000000     5.000000     5.000000     5.000000   \n",
       "\n",
       "              Walc       health     absences           G1           G2  \\\n",
       "count  1044.000000  1044.000000  1044.000000  1044.000000  1044.000000   \n",
       "mean      2.284483     3.543103     4.434866    11.213602    11.246169   \n",
       "std       1.285105     1.424703     6.210017     2.983394     3.285071   \n",
       "min       1.000000     1.000000     0.000000     0.000000     0.000000   \n",
       "25%       1.000000     3.000000     0.000000     9.000000     9.000000   \n",
       "50%       2.000000     4.000000     2.000000    11.000000    11.000000   \n",
       "75%       3.000000     5.000000     6.000000    13.000000    13.000000   \n",
       "max       5.000000     5.000000    75.000000    19.000000    19.000000   \n",
       "\n",
       "                G3  \n",
       "count  1044.000000  \n",
       "mean     11.341954  \n",
       "std       3.864796  \n",
       "min       0.000000  \n",
       "25%      10.000000  \n",
       "50%      11.000000  \n",
       "75%      14.000000  \n",
       "max      20.000000  "
      ]
     },
     "execution_count": 8,
     "metadata": {},
     "output_type": "execute_result"
    }
   ],
   "source": [
    "# stampa un sommario statistico: dispersione e forma della distribuzione del DataFrame \n",
    "df.describe()"
   ]
  },
  {
   "cell_type": "code",
   "execution_count": 9,
   "metadata": {},
   "outputs": [
    {
     "data": {
      "image/png": "[encoded data removed]",
      "text/plain": [
       "<Figure size 1440x1080 with 16 Axes>"
      ]
     },
     "metadata": {
      "needs_background": "light"
     },
     "output_type": "display_data"
    }
   ],
   "source": [
    "# Visualizzazione grafica della distribuzione dei valori delle features (istogrammi)\n",
    "df.hist(bins=50, figsize=(20,15))\n",
    "plt.show()"
   ]
  },
  {
   "cell_type": "code",
   "execution_count": 10,
   "metadata": {},
   "outputs": [
    {
     "data": {
      "text/html": [
       "<div>\n",
       "<style scoped>\n",
       "    .dataframe tbody tr th:only-of-type {\n",
       "        vertical-align: middle;\n",
       "    }\n",
       "\n",
       "    .dataframe tbody tr th {\n",
       "        vertical-align: top;\n",
       "    }\n",
       "\n",
       "    .dataframe thead th {\n",
       "        text-align: right;\n",
       "    }\n",
       "</style>\n",
       "<table border=\"1\" class=\"dataframe\">\n",
       "  <thead>\n",
       "    <tr style=\"text-align: right;\">\n",
       "      <th></th>\n",
       "      <th>school</th>\n",
       "      <th>count</th>\n",
       "    </tr>\n",
       "  </thead>\n",
       "  <tbody>\n",
       "    <tr>\n",
       "      <th>0</th>\n",
       "      <td>GP</td>\n",
       "      <td>772</td>\n",
       "    </tr>\n",
       "    <tr>\n",
       "      <th>1</th>\n",
       "      <td>MS</td>\n",
       "      <td>272</td>\n",
       "    </tr>\n",
       "  </tbody>\n",
       "</table>\n",
       "</div>"
      ],
      "text/plain": [
       "  school  count\n",
       "0     GP    772\n",
       "1     MS    272"
      ]
     },
     "execution_count": 10,
     "metadata": {},
     "output_type": "execute_result"
    }
   ],
   "source": [
    "by_school = df['school'].value_counts().reset_index()\n",
    "by_school.columns = ['school', 'count']\n",
    "by_school"
   ]
  },
  {
   "cell_type": "markdown",
   "metadata": {},
   "source": [
    "## Identificare gli studenti univoci\n",
    "Anche se sono coinvolte 2 differenti scuole, le **1044** osservazioni non rappresentano studenti univoci.  \n",
    "E' ragionavole pensare che alcuni studenti seguano sia il corso di Matematica che quello di Lingua Portoghese.  \n",
    "Pur non avendo accesso ad un ID univoco per studente, possiamo cercare di raggruppare i dati per caratteristiche demografiche.  \n",
    "Dai risultati ottenuti notiamo che ci sono **672** studenti univoci, divisi in **300** studenti che seguono una materia sola e altri **372** che seguono sia Matematica che Potroghese. "
   ]
  },
  {
   "cell_type": "code",
   "execution_count": 11,
   "metadata": {},
   "outputs": [
    {
     "name": "stdout",
     "output_type": "stream",
     "text": [
      "Numero studenti totali: 672\n",
      "Numero studenti che seguono sia Matematica che Portoghese: 372\n",
      "Numero studenti che seguono solo una materia: 300\n"
     ]
    }
   ],
   "source": [
    "len(df_por) #649 rows\n",
    "len(df_math) #395 rows\n",
    "len(df) #1044 total rows\n",
    "\n",
    "#group_cols = [\"school\",\"sex\",\"age\",\"address\",\"famsize\",\"Pstatus\",\"Medu\",\"Fedu\",\"Mjob\",\"Fjob\",\"reason\",\"nursery\",\"internet\"]\n",
    "group_cols = [\"school\",\"sex\",\"age\",\"address\",\"famsize\",\"Pstatus\",\"Medu\",\"Fedu\",\"Mjob\",\"Fjob\",\"reason\", \"nursery\",\"internet\",\n",
    "              \"guardian\", \"traveltime\",\"famrel\",\"freetime\",\"goout\",\"Dalc\",\"Walc\"]\n",
    "size = df.groupby(group_cols).size().reset_index() \n",
    "len(size[size[0] > 2]) #0 studenti, OK avendo 2 materie non ci aspettiamo piu' di 2 sovrapposizioni\n",
    "print(f'Numero studenti totali: {len(size[size[0] >= 1])}') #672 \n",
    "print(f'Numero studenti che seguono sia Matematica che Portoghese: {len(size[size[0] == 2])}') #372 \n",
    "print(f'Numero studenti che seguono solo una materia: {len(size[size[0] == 1])}') #300\n"
   ]
  },
  {
   "cell_type": "markdown",
   "metadata": {},
   "source": [
    "## Analisi caratteristiche demografiche"
   ]
  },
  {
   "cell_type": "code",
   "execution_count": 12,
   "metadata": {},
   "outputs": [
    {
     "data": {
      "text/html": [
       "<div>\n",
       "<style scoped>\n",
       "    .dataframe tbody tr th:only-of-type {\n",
       "        vertical-align: middle;\n",
       "    }\n",
       "\n",
       "    .dataframe tbody tr th {\n",
       "        vertical-align: top;\n",
       "    }\n",
       "\n",
       "    .dataframe thead th {\n",
       "        text-align: right;\n",
       "    }\n",
       "</style>\n",
       "<table border=\"1\" class=\"dataframe\">\n",
       "  <thead>\n",
       "    <tr style=\"text-align: right;\">\n",
       "      <th></th>\n",
       "      <th>gender</th>\n",
       "      <th>count</th>\n",
       "    </tr>\n",
       "  </thead>\n",
       "  <tbody>\n",
       "    <tr>\n",
       "      <th>0</th>\n",
       "      <td>F</td>\n",
       "      <td>591</td>\n",
       "    </tr>\n",
       "    <tr>\n",
       "      <th>1</th>\n",
       "      <td>M</td>\n",
       "      <td>453</td>\n",
       "    </tr>\n",
       "  </tbody>\n",
       "</table>\n",
       "</div>"
      ],
      "text/plain": [
       "  gender  count\n",
       "0      F    591\n",
       "1      M    453"
      ]
     },
     "execution_count": 12,
     "metadata": {},
     "output_type": "execute_result"
    }
   ],
   "source": [
    "gender_count = df['sex'].value_counts().reset_index()\n",
    "gender_count.columns = ['gender', 'count']\n",
    "gender_count"
   ]
  },
  {
   "cell_type": "code",
   "execution_count": 37,
   "metadata": {},
   "outputs": [
    {
     "data": {
      "application/vnd.plotly.v1+json": {
       "config": {
        "plotlyServerURL": "https://plot.ly"
       },
       "data": [
        {
         "customdata": [
          [
           "F"
          ],
          [
           "F"
          ],
          [
           "F"
          ],
          [
           "F"
          ],
          [
           "F"
          ],
          [
           "M"
          ],
          [
           "M"
          ],
          [
           "F"
          ],
          [
           "M"
          ],
          [
           "M"
          ],
          [
           "F"
          ],
          [
           "F"
          ],
          [
           "M"
          ],
          [
           "M"
          ],
          [
           "M"
          ],
          [
           "F"
          ],
          [
           "F"
          ],
          [
           "F"
          ],
          [
           "M"
          ],
          [
           "M"
          ],
          [
           "M"
          ],
          [
           "M"
          ],
          [
           "M"
          ],
          [
           "M"
          ],
          [
           "F"
          ],
          [
           "F"
          ],
          [
           "M"
          ],
          [
           "M"
          ],
          [
           "M"
          ],
          [
           "M"
          ],
          [
           "M"
          ],
          [
           "M"
          ],
          [
           "M"
          ],
          [
           "M"
          ],
          [
           "M"
          ],
          [
           "F"
          ],
          [
           "M"
          ],
          [
           "M"
          ],
          [
           "F"
          ],
          [
           "F"
          ],
          [
           "F"
          ],
          [
           "M"
          ],
          [
           "M"
          ],
          [
           "M"
          ],
          [
           "F"
          ],
          [
           "F"
          ],
          [
           "F"
          ],
          [
           "M"
          ],
          [
           "M"
          ],
          [
           "F"
          ],
          [
           "F"
          ],
          [
           "F"
          ],
          [
           "M"
          ],
          [
           "F"
          ],
          [
           "F"
          ],
          [
           "F"
          ],
          [
           "F"
          ],
          [
           "M"
          ],
          [
           "M"
          ],
          [
           "F"
          ],
          [
           "F"
          ],
          [
           "F"
          ],
          [
           "F"
          ],
          [
           "F"
          ],
          [
           "F"
          ],
          [
           "F"
          ],
          [
           "M"
          ],
          [
           "F"
          ],
          [
           "F"
          ],
          [
           "F"
          ],
          [
           "M"
          ],
          [
           "M"
          ],
          [
           "F"
          ],
          [
           "M"
          ],
          [
           "F"
          ],
          [
           "M"
          ],
          [
           "M"
          ],
          [
           "F"
          ],
          [
           "M"
          ],
          [
           "F"
          ],
          [
           "M"
          ],
          [
           "M"
          ],
          [
           "F"
          ],
          [
           "M"
          ],
          [
           "F"
          ],
          [
           "F"
          ],
          [
           "F"
          ],
          [
           "F"
          ],
          [
           "M"
          ],
          [
           "M"
          ],
          [
           "F"
          ],
          [
           "F"
          ],
          [
           "F"
          ],
          [
           "F"
          ],
          [
           "M"
          ],
          [
           "F"
          ],
          [
           "M"
          ],
          [
           "F"
          ],
          [
           "F"
          ],
          [
           "F"
          ],
          [
           "M"
          ],
          [
           "M"
          ],
          [
           "M"
          ],
          [
           "F"
          ],
          [
           "M"
          ],
          [
           "F"
          ],
          [
           "F"
          ],
          [
           "M"
          ],
          [
           "M"
          ],
          [
           "F"
          ],
          [
           "M"
          ],
          [
           "F"
          ],
          [
           "F"
          ],
          [
           "M"
          ],
          [
           "M"
          ],
          [
           "M"
          ],
          [
           "M"
          ],
          [
           "M"
          ],
          [
           "M"
          ],
          [
           "M"
          ],
          [
           "F"
          ],
          [
           "M"
          ],
          [
           "F"
          ],
          [
           "M"
          ],
          [
           "F"
          ],
          [
           "M"
          ],
          [
           "F"
          ],
          [
           "F"
          ],
          [
           "M"
          ],
          [
           "M"
          ],
          [
           "F"
          ],
          [
           "F"
          ],
          [
           "F"
          ],
          [
           "F"
          ],
          [
           "F"
          ],
          [
           "F"
          ],
          [
           "M"
          ],
          [
           "F"
          ],
          [
           "M"
          ],
          [
           "F"
          ],
          [
           "M"
          ],
          [
           "F"
          ],
          [
           "M"
          ],
          [
           "F"
          ],
          [
           "F"
          ],
          [
           "F"
          ],
          [
           "M"
          ],
          [
           "F"
          ],
          [
           "F"
          ],
          [
           "M"
          ],
          [
           "F"
          ],
          [
           "M"
          ],
          [
           "M"
          ],
          [
           "F"
          ],
          [
           "F"
          ],
          [
           "M"
          ],
          [
           "F"
          ],
          [
           "F"
          ],
          [
           "F"
          ],
          [
           "F"
          ],
          [
           "F"
          ],
          [
           "M"
          ],
          [
           "M"
          ],
          [
           "M"
          ],
          [
           "M"
          ],
          [
           "F"
          ],
          [
           "M"
          ],
          [
           "F"
          ],
          [
           "M"
          ],
          [
           "M"
          ],
          [
           "F"
          ],
          [
           "M"
          ],
          [
           "M"
          ],
          [
           "M"
          ],
          [
           "M"
          ],
          [
           "M"
          ],
          [
           "M"
          ],
          [
           "M"
          ],
          [
           "M"
          ],
          [
           "M"
          ],
          [
           "M"
          ],
          [
           "F"
          ],
          [
           "F"
          ],
          [
           "F"
          ],
          [
           "M"
          ],
          [
           "M"
          ],
          [
           "M"
          ],
          [
           "F"
          ],
          [
           "F"
          ],
          [
           "M"
          ],
          [
           "F"
          ],
          [
           "M"
          ],
          [
           "M"
          ],
          [
           "M"
          ],
          [
           "M"
          ],
          [
           "M"
          ],
          [
           "F"
          ],
          [
           "F"
          ],
          [
           "F"
          ],
          [
           "M"
          ],
          [
           "M"
          ],
          [
           "M"
          ],
          [
           "F"
          ],
          [
           "M"
          ],
          [
           "F"
          ],
          [
           "F"
          ],
          [
           "M"
          ],
          [
           "M"
          ],
          [
           "M"
          ],
          [
           "F"
          ],
          [
           "M"
          ],
          [
           "M"
          ],
          [
           "F"
          ],
          [
           "F"
          ],
          [
           "F"
          ],
          [
           "F"
          ],
          [
           "F"
          ],
          [
           "F"
          ],
          [
           "F"
          ],
          [
           "F"
          ],
          [
           "F"
          ],
          [
           "F"
          ],
          [
           "F"
          ],
          [
           "F"
          ],
          [
           "F"
          ],
          [
           "M"
          ],
          [
           "F"
          ],
          [
           "M"
          ],
          [
           "F"
          ],
          [
           "F"
          ],
          [
           "F"
          ],
          [
           "M"
          ],
          [
           "F"
          ],
          [
           "F"
          ],
          [
           "F"
          ],
          [
           "F"
          ],
          [
           "F"
          ],
          [
           "M"
          ],
          [
           "F"
          ],
          [
           "F"
          ],
          [
           "F"
          ],
          [
           "M"
          ],
          [
           "M"
          ],
          [
           "F"
          ],
          [
           "F"
          ],
          [
           "M"
          ],
          [
           "M"
          ],
          [
           "M"
          ],
          [
           "M"
          ],
          [
           "M"
          ],
          [
           "M"
          ],
          [
           "F"
          ],
          [
           "F"
          ],
          [
           "F"
          ],
          [
           "F"
          ],
          [
           "F"
          ],
          [
           "M"
          ],
          [
           "M"
          ],
          [
           "F"
          ],
          [
           "F"
          ],
          [
           "F"
          ],
          [
           "F"
          ],
          [
           "F"
          ],
          [
           "M"
          ],
          [
           "F"
          ],
          [
           "F"
          ],
          [
           "F"
          ],
          [
           "M"
          ],
          [
           "M"
          ],
          [
           "M"
          ],
          [
           "M"
          ],
          [
           "F"
          ],
          [
           "M"
          ],
          [
           "F"
          ],
          [
           "F"
          ],
          [
           "F"
          ],
          [
           "M"
          ],
          [
           "F"
          ],
          [
           "M"
          ],
          [
           "M"
          ],
          [
           "M"
          ],
          [
           "M"
          ],
          [
           "M"
          ],
          [
           "M"
          ],
          [
           "M"
          ],
          [
           "M"
          ],
          [
           "M"
          ],
          [
           "M"
          ],
          [
           "F"
          ],
          [
           "F"
          ],
          [
           "F"
          ],
          [
           "M"
          ],
          [
           "F"
          ],
          [
           "F"
          ],
          [
           "F"
          ],
          [
           "M"
          ],
          [
           "M"
          ],
          [
           "M"
          ],
          [
           "F"
          ],
          [
           "F"
          ],
          [
           "F"
          ],
          [
           "M"
          ],
          [
           "M"
          ],
          [
           "F"
          ],
          [
           "F"
          ],
          [
           "M"
          ],
          [
           "M"
          ],
          [
           "M"
          ],
          [
           "F"
          ],
          [
           "M"
          ],
          [
           "F"
          ],
          [
           "F"
          ],
          [
           "F"
          ],
          [
           "F"
          ],
          [
           "M"
          ],
          [
           "F"
          ],
          [
           "F"
          ],
          [
           "F"
          ],
          [
           "F"
          ],
          [
           "M"
          ],
          [
           "F"
          ],
          [
           "F"
          ],
          [
           "F"
          ],
          [
           "M"
          ],
          [
           "M"
          ],
          [
           "M"
          ],
          [
           "M"
          ],
          [
           "F"
          ],
          [
           "F"
          ],
          [
           "F"
          ],
          [
           "F"
          ],
          [
           "M"
          ],
          [
           "F"
          ],
          [
           "F"
          ],
          [
           "M"
          ],
          [
           "M"
          ],
          [
           "M"
          ],
          [
           "F"
          ],
          [
           "F"
          ],
          [
           "M"
          ],
          [
           "M"
          ],
          [
           "F"
          ],
          [
           "F"
          ],
          [
           "F"
          ],
          [
           "M"
          ],
          [
           "F"
          ],
          [
           "M"
          ],
          [
           "F"
          ],
          [
           "F"
          ],
          [
           "F"
          ],
          [
           "M"
          ],
          [
           "M"
          ],
          [
           "M"
          ],
          [
           "F"
          ],
          [
           "F"
          ],
          [
           "F"
          ],
          [
           "F"
          ],
          [
           "F"
          ],
          [
           "F"
          ],
          [
           "F"
          ],
          [
           "F"
          ],
          [
           "M"
          ],
          [
           "F"
          ],
          [
           "F"
          ],
          [
           "F"
          ],
          [
           "F"
          ],
          [
           "F"
          ],
          [
           "F"
          ],
          [
           "M"
          ],
          [
           "F"
          ],
          [
           "F"
          ],
          [
           "F"
          ],
          [
           "F"
          ],
          [
           "F"
          ],
          [
           "F"
          ],
          [
           "F"
          ],
          [
           "F"
          ],
          [
           "M"
          ],
          [
           "M"
          ],
          [
           "M"
          ],
          [
           "F"
          ],
          [
           "F"
          ],
          [
           "F"
          ],
          [
           "M"
          ],
          [
           "M"
          ],
          [
           "F"
          ],
          [
           "F"
          ],
          [
           "M"
          ],
          [
           "F"
          ],
          [
           "F"
          ],
          [
           "F"
          ],
          [
           "F"
          ],
          [
           "F"
          ],
          [
           "F"
          ],
          [
           "F"
          ],
          [
           "M"
          ],
          [
           "M"
          ],
          [
           "F"
          ],
          [
           "F"
          ],
          [
           "F"
          ],
          [
           "M"
          ],
          [
           "M"
          ],
          [
           "F"
          ],
          [
           "F"
          ],
          [
           "F"
          ],
          [
           "F"
          ],
          [
           "F"
          ],
          [
           "F"
          ],
          [
           "M"
          ],
          [
           "M"
          ],
          [
           "F"
          ],
          [
           "M"
          ],
          [
           "F"
          ],
          [
           "M"
          ],
          [
           "F"
          ],
          [
           "F"
          ],
          [
           "M"
          ],
          [
           "F"
          ],
          [
           "M"
          ],
          [
           "M"
          ],
          [
           "F"
          ],
          [
           "F"
          ],
          [
           "F"
          ],
          [
           "F"
          ],
          [
           "F"
          ],
          [
           "F"
          ],
          [
           "F"
          ],
          [
           "F"
          ],
          [
           "F"
          ],
          [
           "M"
          ],
          [
           "M"
          ],
          [
           "F"
          ],
          [
           "F"
          ],
          [
           "F"
          ],
          [
           "F"
          ],
          [
           "F"
          ],
          [
           "F"
          ],
          [
           "F"
          ],
          [
           "F"
          ],
          [
           "F"
          ],
          [
           "M"
          ],
          [
           "M"
          ],
          [
           "M"
          ],
          [
           "M"
          ],
          [
           "M"
          ],
          [
           "M"
          ],
          [
           "M"
          ],
          [
           "M"
          ],
          [
           "F"
          ],
          [
           "F"
          ],
          [
           "F"
          ],
          [
           "M"
          ],
          [
           "F"
          ],
          [
           "F"
          ],
          [
           "F"
          ],
          [
           "F"
          ],
          [
           "F"
          ],
          [
           "M"
          ],
          [
           "F"
          ],
          [
           "F"
          ],
          [
           "F"
          ],
          [
           "F"
          ],
          [
           "F"
          ],
          [
           "F"
          ],
          [
           "M"
          ],
          [
           "F"
          ],
          [
           "M"
          ],
          [
           "F"
          ],
          [
           "M"
          ],
          [
           "M"
          ],
          [
           "F"
          ],
          [
           "F"
          ],
          [
           "F"
          ],
          [
           "M"
          ],
          [
           "M"
          ],
          [
           "F"
          ],
          [
           "F"
          ],
          [
           "M"
          ],
          [
           "F"
          ],
          [
           "F"
          ],
          [
           "F"
          ],
          [
           "F"
          ],
          [
           "F"
          ],
          [
           "F"
          ],
          [
           "F"
          ],
          [
           "F"
          ],
          [
           "F"
          ],
          [
           "F"
          ],
          [
           "F"
          ],
          [
           "M"
          ],
          [
           "F"
          ],
          [
           "F"
          ],
          [
           "F"
          ],
          [
           "F"
          ],
          [
           "F"
          ],
          [
           "F"
          ],
          [
           "F"
          ],
          [
           "M"
          ],
          [
           "F"
          ],
          [
           "F"
          ],
          [
           "M"
          ],
          [
           "M"
          ],
          [
           "M"
          ],
          [
           "F"
          ],
          [
           "F"
          ],
          [
           "F"
          ],
          [
           "F"
          ],
          [
           "F"
          ],
          [
           "M"
          ],
          [
           "F"
          ],
          [
           "F"
          ],
          [
           "F"
          ],
          [
           "F"
          ],
          [
           "F"
          ],
          [
           "F"
          ],
          [
           "F"
          ],
          [
           "F"
          ],
          [
           "F"
          ],
          [
           "F"
          ],
          [
           "M"
          ],
          [
           "F"
          ],
          [
           "F"
          ],
          [
           "F"
          ],
          [
           "M"
          ],
          [
           "F"
          ],
          [
           "M"
          ],
          [
           "F"
          ],
          [
           "M"
          ],
          [
           "F"
          ],
          [
           "F"
          ],
          [
           "M"
          ],
          [
           "M"
          ],
          [
           "M"
          ],
          [
           "F"
          ],
          [
           "M"
          ],
          [
           "M"
          ],
          [
           "M"
          ],
          [
           "M"
          ],
          [
           "F"
          ],
          [
           "F"
          ],
          [
           "F"
          ],
          [
           "F"
          ],
          [
           "F"
          ],
          [
           "M"
          ],
          [
           "M"
          ],
          [
           "M"
          ],
          [
           "F"
          ],
          [
           "M"
          ],
          [
           "F"
          ],
          [
           "F"
          ],
          [
           "M"
          ],
          [
           "M"
          ],
          [
           "M"
          ],
          [
           "M"
          ],
          [
           "F"
          ],
          [
           "F"
          ],
          [
           "M"
          ],
          [
           "F"
          ],
          [
           "M"
          ],
          [
           "M"
          ],
          [
           "M"
          ],
          [
           "M"
          ],
          [
           "F"
          ],
          [
           "M"
          ],
          [
           "M"
          ],
          [
           "M"
          ],
          [
           "M"
          ],
          [
           "M"
          ],
          [
           "M"
          ],
          [
           "M"
          ],
          [
           "M"
          ],
          [
           "M"
          ],
          [
           "F"
          ],
          [
           "F"
          ],
          [
           "M"
          ],
          [
           "F"
          ],
          [
           "M"
          ],
          [
           "M"
          ],
          [
           "M"
          ],
          [
           "M"
          ],
          [
           "M"
          ],
          [
           "F"
          ],
          [
           "F"
          ],
          [
           "F"
          ],
          [
           "F"
          ],
          [
           "F"
          ],
          [
           "F"
          ],
          [
           "F"
          ],
          [
           "F"
          ],
          [
           "F"
          ],
          [
           "F"
          ],
          [
           "F"
          ],
          [
           "F"
          ],
          [
           "F"
          ],
          [
           "F"
          ],
          [
           "M"
          ],
          [
           "F"
          ],
          [
           "F"
          ],
          [
           "M"
          ],
          [
           "M"
          ],
          [
           "M"
          ],
          [
           "F"
          ],
          [
           "F"
          ],
          [
           "F"
          ],
          [
           "F"
          ],
          [
           "F"
          ],
          [
           "F"
          ],
          [
           "F"
          ],
          [
           "F"
          ],
          [
           "F"
          ],
          [
           "F"
          ],
          [
           "F"
          ],
          [
           "M"
          ],
          [
           "F"
          ],
          [
           "F"
          ],
          [
           "F"
          ],
          [
           "M"
          ],
          [
           "F"
          ],
          [
           "F"
          ],
          [
           "F"
          ],
          [
           "F"
          ],
          [
           "F"
          ],
          [
           "M"
          ],
          [
           "M"
          ],
          [
           "F"
          ],
          [
           "F"
          ],
          [
           "F"
          ],
          [
           "M"
          ],
          [
           "F"
          ],
          [
           "F"
          ],
          [
           "F"
          ],
          [
           "F"
          ],
          [
           "F"
          ],
          [
           "F"
          ],
          [
           "F"
          ],
          [
           "F"
          ],
          [
           "M"
          ],
          [
           "M"
          ],
          [
           "M"
          ],
          [
           "M"
          ],
          [
           "M"
          ],
          [
           "F"
          ],
          [
           "F"
          ],
          [
           "F"
          ],
          [
           "F"
          ],
          [
           "F"
          ],
          [
           "F"
          ],
          [
           "M"
          ],
          [
           "M"
          ],
          [
           "F"
          ],
          [
           "F"
          ],
          [
           "F"
          ],
          [
           "F"
          ],
          [
           "F"
          ],
          [
           "M"
          ],
          [
           "M"
          ],
          [
           "F"
          ],
          [
           "M"
          ],
          [
           "M"
          ],
          [
           "F"
          ],
          [
           "F"
          ],
          [
           "M"
          ],
          [
           "M"
          ],
          [
           "M"
          ],
          [
           "F"
          ],
          [
           "F"
          ],
          [
           "F"
          ],
          [
           "M"
          ],
          [
           "M"
          ],
          [
           "M"
          ],
          [
           "M"
          ],
          [
           "M"
          ],
          [
           "M"
          ],
          [
           "F"
          ],
          [
           "F"
          ],
          [
           "M"
          ],
          [
           "M"
          ],
          [
           "M"
          ],
          [
           "M"
          ],
          [
           "M"
          ],
          [
           "M"
          ],
          [
           "M"
          ],
          [
           "M"
          ],
          [
           "M"
          ],
          [
           "F"
          ],
          [
           "M"
          ],
          [
           "M"
          ],
          [
           "F"
          ],
          [
           "F"
          ],
          [
           "F"
          ],
          [
           "M"
          ],
          [
           "M"
          ],
          [
           "M"
          ],
          [
           "F"
          ],
          [
           "F"
          ],
          [
           "F"
          ],
          [
           "M"
          ],
          [
           "M"
          ],
          [
           "F"
          ],
          [
           "F"
          ],
          [
           "F"
          ],
          [
           "M"
          ],
          [
           "F"
          ],
          [
           "F"
          ],
          [
           "F"
          ],
          [
           "F"
          ],
          [
           "M"
          ],
          [
           "M"
          ],
          [
           "F"
          ],
          [
           "F"
          ],
          [
           "F"
          ],
          [
           "F"
          ],
          [
           "F"
          ],
          [
           "F"
          ],
          [
           "F"
          ],
          [
           "M"
          ],
          [
           "F"
          ],
          [
           "F"
          ],
          [
           "F"
          ],
          [
           "M"
          ],
          [
           "M"
          ],
          [
           "F"
          ],
          [
           "M"
          ],
          [
           "F"
          ],
          [
           "M"
          ],
          [
           "M"
          ],
          [
           "F"
          ],
          [
           "M"
          ],
          [
           "F"
          ],
          [
           "M"
          ],
          [
           "M"
          ],
          [
           "F"
          ],
          [
           "M"
          ],
          [
           "F"
          ],
          [
           "F"
          ],
          [
           "F"
          ],
          [
           "F"
          ],
          [
           "M"
          ],
          [
           "M"
          ],
          [
           "F"
          ],
          [
           "F"
          ],
          [
           "F"
          ],
          [
           "F"
          ],
          [
           "M"
          ],
          [
           "F"
          ],
          [
           "M"
          ],
          [
           "F"
          ],
          [
           "F"
          ],
          [
           "F"
          ],
          [
           "M"
          ],
          [
           "M"
          ],
          [
           "M"
          ],
          [
           "F"
          ],
          [
           "M"
          ],
          [
           "F"
          ],
          [
           "F"
          ],
          [
           "M"
          ],
          [
           "M"
          ],
          [
           "F"
          ],
          [
           "M"
          ],
          [
           "F"
          ],
          [
           "F"
          ],
          [
           "M"
          ],
          [
           "M"
          ],
          [
           "M"
          ],
          [
           "M"
          ],
          [
           "M"
          ],
          [
           "M"
          ],
          [
           "M"
          ],
          [
           "F"
          ],
          [
           "M"
          ],
          [
           "F"
          ],
          [
           "M"
          ],
          [
           "F"
          ],
          [
           "M"
          ],
          [
           "F"
          ],
          [
           "F"
          ],
          [
           "M"
          ],
          [
           "M"
          ],
          [
           "F"
          ],
          [
           "F"
          ],
          [
           "F"
          ],
          [
           "F"
          ],
          [
           "M"
          ],
          [
           "F"
          ],
          [
           "M"
          ],
          [
           "F"
          ],
          [
           "M"
          ],
          [
           "F"
          ],
          [
           "M"
          ],
          [
           "M"
          ],
          [
           "F"
          ],
          [
           "F"
          ],
          [
           "M"
          ],
          [
           "F"
          ],
          [
           "F"
          ],
          [
           "F"
          ],
          [
           "M"
          ],
          [
           "M"
          ],
          [
           "M"
          ],
          [
           "M"
          ],
          [
           "F"
          ],
          [
           "M"
          ],
          [
           "F"
          ],
          [
           "M"
          ],
          [
           "M"
          ],
          [
           "F"
          ],
          [
           "M"
          ],
          [
           "M"
          ],
          [
           "M"
          ],
          [
           "M"
          ],
          [
           "M"
          ],
          [
           "M"
          ],
          [
           "M"
          ],
          [
           "M"
          ],
          [
           "M"
          ],
          [
           "F"
          ],
          [
           "F"
          ],
          [
           "F"
          ],
          [
           "M"
          ],
          [
           "M"
          ],
          [
           "M"
          ],
          [
           "F"
          ],
          [
           "F"
          ],
          [
           "M"
          ],
          [
           "F"
          ],
          [
           "M"
          ],
          [
           "M"
          ],
          [
           "M"
          ],
          [
           "M"
          ],
          [
           "M"
          ],
          [
           "F"
          ],
          [
           "F"
          ],
          [
           "F"
          ],
          [
           "M"
          ],
          [
           "M"
          ],
          [
           "M"
          ],
          [
           "F"
          ],
          [
           "M"
          ],
          [
           "F"
          ],
          [
           "F"
          ],
          [
           "M"
          ],
          [
           "M"
          ],
          [
           "M"
          ],
          [
           "F"
          ],
          [
           "M"
          ],
          [
           "M"
          ],
          [
           "F"
          ],
          [
           "F"
          ],
          [
           "F"
          ],
          [
           "F"
          ],
          [
           "F"
          ],
          [
           "F"
          ],
          [
           "F"
          ],
          [
           "F"
          ],
          [
           "F"
          ],
          [
           "F"
          ],
          [
           "F"
          ],
          [
           "F"
          ],
          [
           "F"
          ],
          [
           "M"
          ],
          [
           "F"
          ],
          [
           "M"
          ],
          [
           "F"
          ],
          [
           "F"
          ],
          [
           "F"
          ],
          [
           "M"
          ],
          [
           "F"
          ],
          [
           "F"
          ],
          [
           "F"
          ],
          [
           "F"
          ],
          [
           "F"
          ],
          [
           "M"
          ],
          [
           "F"
          ],
          [
           "F"
          ],
          [
           "F"
          ],
          [
           "M"
          ],
          [
           "M"
          ],
          [
           "F"
          ],
          [
           "F"
          ],
          [
           "M"
          ],
          [
           "M"
          ],
          [
           "M"
          ],
          [
           "M"
          ],
          [
           "M"
          ],
          [
           "M"
          ],
          [
           "F"
          ],
          [
           "F"
          ],
          [
           "M"
          ],
          [
           "M"
          ],
          [
           "M"
          ],
          [
           "M"
          ],
          [
           "M"
          ],
          [
           "F"
          ],
          [
           "M"
          ],
          [
           "M"
          ],
          [
           "M"
          ],
          [
           "M"
          ],
          [
           "M"
          ],
          [
           "M"
          ],
          [
           "M"
          ],
          [
           "M"
          ],
          [
           "M"
          ],
          [
           "M"
          ],
          [
           "M"
          ],
          [
           "F"
          ],
          [
           "M"
          ],
          [
           "M"
          ],
          [
           "F"
          ],
          [
           "F"
          ],
          [
           "M"
          ],
          [
           "M"
          ],
          [
           "F"
          ],
          [
           "F"
          ],
          [
           "M"
          ],
          [
           "M"
          ],
          [
           "F"
          ],
          [
           "M"
          ],
          [
           "F"
          ],
          [
           "F"
          ],
          [
           "F"
          ],
          [
           "F"
          ],
          [
           "M"
          ],
          [
           "F"
          ],
          [
           "F"
          ],
          [
           "F"
          ],
          [
           "M"
          ],
          [
           "F"
          ],
          [
           "M"
          ],
          [
           "M"
          ],
          [
           "M"
          ],
          [
           "F"
          ],
          [
           "F"
          ],
          [
           "F"
          ],
          [
           "M"
          ],
          [
           "F"
          ],
          [
           "F"
          ],
          [
           "M"
          ],
          [
           "M"
          ],
          [
           "M"
          ],
          [
           "F"
          ],
          [
           "F"
          ],
          [
           "F"
          ],
          [
           "M"
          ],
          [
           "M"
          ],
          [
           "F"
          ],
          [
           "F"
          ],
          [
           "F"
          ],
          [
           "M"
          ],
          [
           "F"
          ],
          [
           "M"
          ],
          [
           "F"
          ],
          [
           "F"
          ],
          [
           "M"
          ],
          [
           "F"
          ],
          [
           "M"
          ],
          [
           "M"
          ],
          [
           "M"
          ],
          [
           "F"
          ],
          [
           "F"
          ],
          [
           "F"
          ],
          [
           "M"
          ],
          [
           "F"
          ],
          [
           "F"
          ],
          [
           "F"
          ],
          [
           "F"
          ],
          [
           "F"
          ],
          [
           "F"
          ],
          [
           "F"
          ],
          [
           "F"
          ],
          [
           "F"
          ],
          [
           "F"
          ],
          [
           "F"
          ],
          [
           "F"
          ],
          [
           "M"
          ],
          [
           "M"
          ],
          [
           "M"
          ],
          [
           "F"
          ],
          [
           "F"
          ],
          [
           "M"
          ],
          [
           "F"
          ],
          [
           "F"
          ],
          [
           "F"
          ],
          [
           "F"
          ],
          [
           "F"
          ],
          [
           "F"
          ],
          [
           "F"
          ],
          [
           "F"
          ],
          [
           "F"
          ],
          [
           "F"
          ],
          [
           "M"
          ],
          [
           "M"
          ],
          [
           "F"
          ],
          [
           "F"
          ],
          [
           "F"
          ],
          [
           "M"
          ],
          [
           "M"
          ],
          [
           "F"
          ],
          [
           "M"
          ],
          [
           "M"
          ],
          [
           "M"
          ],
          [
           "M"
          ],
          [
           "M"
          ],
          [
           "M"
          ],
          [
           "F"
          ],
          [
           "F"
          ],
          [
           "F"
          ],
          [
           "M"
          ],
          [
           "F"
          ],
          [
           "F"
          ],
          [
           "M"
          ],
          [
           "F"
          ],
          [
           "F"
          ],
          [
           "F"
          ],
          [
           "M"
          ],
          [
           "M"
          ],
          [
           "F"
          ],
          [
           "F"
          ],
          [
           "F"
          ],
          [
           "F"
          ],
          [
           "M"
          ],
          [
           "F"
          ],
          [
           "F"
          ],
          [
           "F"
          ],
          [
           "F"
          ],
          [
           "F"
          ],
          [
           "F"
          ],
          [
           "F"
          ],
          [
           "F"
          ],
          [
           "M"
          ],
          [
           "M"
          ],
          [
           "M"
          ],
          [
           "M"
          ],
          [
           "M"
          ],
          [
           "F"
          ],
          [
           "F"
          ],
          [
           "F"
          ],
          [
           "F"
          ],
          [
           "F"
          ],
          [
           "M"
          ],
          [
           "M"
          ],
          [
           "M"
          ],
          [
           "M"
          ],
          [
           "M"
          ]
         ],
         "domain": {
          "x": [
           0,
           1
          ],
          "y": [
           0,
           1
          ]
         },
         "hovertemplate": "sex=%{customdata[0]}<extra></extra>",
         "labels": [
          "F",
          "F",
          "F",
          "F",
          "F",
          "M",
          "M",
          "F",
          "M",
          "M",
          "F",
          "F",
          "M",
          "M",
          "M",
          "F",
          "F",
          "F",
          "M",
          "M",
          "M",
          "M",
          "M",
          "M",
          "F",
          "F",
          "M",
          "M",
          "M",
          "M",
          "M",
          "M",
          "M",
          "M",
          "M",
          "F",
          "M",
          "M",
          "F",
          "F",
          "F",
          "M",
          "M",
          "M",
          "F",
          "F",
          "F",
          "M",
          "M",
          "F",
          "F",
          "F",
          "M",
          "F",
          "F",
          "F",
          "F",
          "M",
          "M",
          "F",
          "F",
          "F",
          "F",
          "F",
          "F",
          "F",
          "M",
          "F",
          "F",
          "F",
          "M",
          "M",
          "F",
          "M",
          "F",
          "M",
          "M",
          "F",
          "M",
          "F",
          "M",
          "M",
          "F",
          "M",
          "F",
          "F",
          "F",
          "F",
          "M",
          "M",
          "F",
          "F",
          "F",
          "F",
          "M",
          "F",
          "M",
          "F",
          "F",
          "F",
          "M",
          "M",
          "M",
          "F",
          "M",
          "F",
          "F",
          "M",
          "M",
          "F",
          "M",
          "F",
          "F",
          "M",
          "M",
          "M",
          "M",
          "M",
          "M",
          "M",
          "F",
          "M",
          "F",
          "M",
          "F",
          "M",
          "F",
          "F",
          "M",
          "M",
          "F",
          "F",
          "F",
          "F",
          "F",
          "F",
          "M",
          "F",
          "M",
          "F",
          "M",
          "F",
          "M",
          "F",
          "F",
          "F",
          "M",
          "F",
          "F",
          "M",
          "F",
          "M",
          "M",
          "F",
          "F",
          "M",
          "F",
          "F",
          "F",
          "F",
          "F",
          "M",
          "M",
          "M",
          "M",
          "F",
          "M",
          "F",
          "M",
          "M",
          "F",
          "M",
          "M",
          "M",
          "M",
          "M",
          "M",
          "M",
          "M",
          "M",
          "M",
          "F",
          "F",
          "F",
          "M",
          "M",
          "M",
          "F",
          "F",
          "M",
          "F",
          "M",
          "M",
          "M",
          "M",
          "M",
          "F",
          "F",
          "F",
          "M",
          "M",
          "M",
          "F",
          "M",
          "F",
          "F",
          "M",
          "M",
          "M",
          "F",
          "M",
          "M",
          "F",
          "F",
          "F",
          "F",
          "F",
          "F",
          "F",
          "F",
          "F",
          "F",
          "F",
          "F",
          "F",
          "M",
          "F",
          "M",
          "F",
          "F",
          "F",
          "M",
          "F",
          "F",
          "F",
          "F",
          "F",
          "M",
          "F",
          "F",
          "F",
          "M",
          "M",
          "F",
          "F",
          "M",
          "M",
          "M",
          "M",
          "M",
          "M",
          "F",
          "F",
          "F",
          "F",
          "F",
          "M",
          "M",
          "F",
          "F",
          "F",
          "F",
          "F",
          "M",
          "F",
          "F",
          "F",
          "M",
          "M",
          "M",
          "M",
          "F",
          "M",
          "F",
          "F",
          "F",
          "M",
          "F",
          "M",
          "M",
          "M",
          "M",
          "M",
          "M",
          "M",
          "M",
          "M",
          "M",
          "F",
          "F",
          "F",
          "M",
          "F",
          "F",
          "F",
          "M",
          "M",
          "M",
          "F",
          "F",
          "F",
          "M",
          "M",
          "F",
          "F",
          "M",
          "M",
          "M",
          "F",
          "M",
          "F",
          "F",
          "F",
          "F",
          "M",
          "F",
          "F",
          "F",
          "F",
          "M",
          "F",
          "F",
          "F",
          "M",
          "M",
          "M",
          "M",
          "F",
          "F",
          "F",
          "F",
          "M",
          "F",
          "F",
          "M",
          "M",
          "M",
          "F",
          "F",
          "M",
          "M",
          "F",
          "F",
          "F",
          "M",
          "F",
          "M",
          "F",
          "F",
          "F",
          "M",
          "M",
          "M",
          "F",
          "F",
          "F",
          "F",
          "F",
          "F",
          "F",
          "F",
          "M",
          "F",
          "F",
          "F",
          "F",
          "F",
          "F",
          "M",
          "F",
          "F",
          "F",
          "F",
          "F",
          "F",
          "F",
          "F",
          "M",
          "M",
          "M",
          "F",
          "F",
          "F",
          "M",
          "M",
          "F",
          "F",
          "M",
          "F",
          "F",
          "F",
          "F",
          "F",
          "F",
          "F",
          "M",
          "M",
          "F",
          "F",
          "F",
          "M",
          "M",
          "F",
          "F",
          "F",
          "F",
          "F",
          "F",
          "M",
          "M",
          "F",
          "M",
          "F",
          "M",
          "F",
          "F",
          "M",
          "F",
          "M",
          "M",
          "F",
          "F",
          "F",
          "F",
          "F",
          "F",
          "F",
          "F",
          "F",
          "M",
          "M",
          "F",
          "F",
          "F",
          "F",
          "F",
          "F",
          "F",
          "F",
          "F",
          "M",
          "M",
          "M",
          "M",
          "M",
          "M",
          "M",
          "M",
          "F",
          "F",
          "F",
          "M",
          "F",
          "F",
          "F",
          "F",
          "F",
          "M",
          "F",
          "F",
          "F",
          "F",
          "F",
          "F",
          "M",
          "F",
          "M",
          "F",
          "M",
          "M",
          "F",
          "F",
          "F",
          "M",
          "M",
          "F",
          "F",
          "M",
          "F",
          "F",
          "F",
          "F",
          "F",
          "F",
          "F",
          "F",
          "F",
          "F",
          "F",
          "M",
          "F",
          "F",
          "F",
          "F",
          "F",
          "F",
          "F",
          "M",
          "F",
          "F",
          "M",
          "M",
          "M",
          "F",
          "F",
          "F",
          "F",
          "F",
          "M",
          "F",
          "F",
          "F",
          "F",
          "F",
          "F",
          "F",
          "F",
          "F",
          "F",
          "M",
          "F",
          "F",
          "F",
          "M",
          "F",
          "M",
          "F",
          "M",
          "F",
          "F",
          "M",
          "M",
          "M",
          "F",
          "M",
          "M",
          "M",
          "M",
          "F",
          "F",
          "F",
          "F",
          "F",
          "M",
          "M",
          "M",
          "F",
          "M",
          "F",
          "F",
          "M",
          "M",
          "M",
          "M",
          "F",
          "F",
          "M",
          "F",
          "M",
          "M",
          "M",
          "M",
          "F",
          "M",
          "M",
          "M",
          "M",
          "M",
          "M",
          "M",
          "M",
          "M",
          "F",
          "F",
          "M",
          "F",
          "M",
          "M",
          "M",
          "M",
          "M",
          "F",
          "F",
          "F",
          "F",
          "F",
          "F",
          "F",
          "F",
          "F",
          "F",
          "F",
          "F",
          "F",
          "F",
          "M",
          "F",
          "F",
          "M",
          "M",
          "M",
          "F",
          "F",
          "F",
          "F",
          "F",
          "F",
          "F",
          "F",
          "F",
          "F",
          "F",
          "M",
          "F",
          "F",
          "F",
          "M",
          "F",
          "F",
          "F",
          "F",
          "F",
          "M",
          "M",
          "F",
          "F",
          "F",
          "M",
          "F",
          "F",
          "F",
          "F",
          "F",
          "F",
          "F",
          "F",
          "M",
          "M",
          "M",
          "M",
          "M",
          "F",
          "F",
          "F",
          "F",
          "F",
          "F",
          "M",
          "M",
          "F",
          "F",
          "F",
          "F",
          "F",
          "M",
          "M",
          "F",
          "M",
          "M",
          "F",
          "F",
          "M",
          "M",
          "M",
          "F",
          "F",
          "F",
          "M",
          "M",
          "M",
          "M",
          "M",
          "M",
          "F",
          "F",
          "M",
          "M",
          "M",
          "M",
          "M",
          "M",
          "M",
          "M",
          "M",
          "F",
          "M",
          "M",
          "F",
          "F",
          "F",
          "M",
          "M",
          "M",
          "F",
          "F",
          "F",
          "M",
          "M",
          "F",
          "F",
          "F",
          "M",
          "F",
          "F",
          "F",
          "F",
          "M",
          "M",
          "F",
          "F",
          "F",
          "F",
          "F",
          "F",
          "F",
          "M",
          "F",
          "F",
          "F",
          "M",
          "M",
          "F",
          "M",
          "F",
          "M",
          "M",
          "F",
          "M",
          "F",
          "M",
          "M",
          "F",
          "M",
          "F",
          "F",
          "F",
          "F",
          "M",
          "M",
          "F",
          "F",
          "F",
          "F",
          "M",
          "F",
          "M",
          "F",
          "F",
          "F",
          "M",
          "M",
          "M",
          "F",
          "M",
          "F",
          "F",
          "M",
          "M",
          "F",
          "M",
          "F",
          "F",
          "M",
          "M",
          "M",
          "M",
          "M",
          "M",
          "M",
          "F",
          "M",
          "F",
          "M",
          "F",
          "M",
          "F",
          "F",
          "M",
          "M",
          "F",
          "F",
          "F",
          "F",
          "M",
          "F",
          "M",
          "F",
          "M",
          "F",
          "M",
          "M",
          "F",
          "F",
          "M",
          "F",
          "F",
          "F",
          "M",
          "M",
          "M",
          "M",
          "F",
          "M",
          "F",
          "M",
          "M",
          "F",
          "M",
          "M",
          "M",
          "M",
          "M",
          "M",
          "M",
          "M",
          "M",
          "F",
          "F",
          "F",
          "M",
          "M",
          "M",
          "F",
          "F",
          "M",
          "F",
          "M",
          "M",
          "M",
          "M",
          "M",
          "F",
          "F",
          "F",
          "M",
          "M",
          "M",
          "F",
          "M",
          "F",
          "F",
          "M",
          "M",
          "M",
          "F",
          "M",
          "M",
          "F",
          "F",
          "F",
          "F",
          "F",
          "F",
          "F",
          "F",
          "F",
          "F",
          "F",
          "F",
          "F",
          "M",
          "F",
          "M",
          "F",
          "F",
          "F",
          "M",
          "F",
          "F",
          "F",
          "F",
          "F",
          "M",
          "F",
          "F",
          "F",
          "M",
          "M",
          "F",
          "F",
          "M",
          "M",
          "M",
          "M",
          "M",
          "M",
          "F",
          "F",
          "M",
          "M",
          "M",
          "M",
          "M",
          "F",
          "M",
          "M",
          "M",
          "M",
          "M",
          "M",
          "M",
          "M",
          "M",
          "M",
          "M",
          "F",
          "M",
          "M",
          "F",
          "F",
          "M",
          "M",
          "F",
          "F",
          "M",
          "M",
          "F",
          "M",
          "F",
          "F",
          "F",
          "F",
          "M",
          "F",
          "F",
          "F",
          "M",
          "F",
          "M",
          "M",
          "M",
          "F",
          "F",
          "F",
          "M",
          "F",
          "F",
          "M",
          "M",
          "M",
          "F",
          "F",
          "F",
          "M",
          "M",
          "F",
          "F",
          "F",
          "M",
          "F",
          "M",
          "F",
          "F",
          "M",
          "F",
          "M",
          "M",
          "M",
          "F",
          "F",
          "F",
          "M",
          "F",
          "F",
          "F",
          "F",
          "F",
          "F",
          "F",
          "F",
          "F",
          "F",
          "F",
          "F",
          "M",
          "M",
          "M",
          "F",
          "F",
          "M",
          "F",
          "F",
          "F",
          "F",
          "F",
          "F",
          "F",
          "F",
          "F",
          "F",
          "M",
          "M",
          "F",
          "F",
          "F",
          "M",
          "M",
          "F",
          "M",
          "M",
          "M",
          "M",
          "M",
          "M",
          "F",
          "F",
          "F",
          "M",
          "F",
          "F",
          "M",
          "F",
          "F",
          "F",
          "M",
          "M",
          "F",
          "F",
          "F",
          "F",
          "M",
          "F",
          "F",
          "F",
          "F",
          "F",
          "F",
          "F",
          "F",
          "M",
          "M",
          "M",
          "M",
          "M",
          "F",
          "F",
          "F",
          "F",
          "F",
          "M",
          "M",
          "M",
          "M",
          "M"
         ],
         "legendgroup": "",
         "marker": {
          "colors": [
           "pink",
           "pink",
           "pink",
           "pink",
           "pink",
           "royalblue",
           "royalblue",
           "pink",
           "royalblue",
           "royalblue",
           "pink",
           "pink",
           "royalblue",
           "royalblue",
           "royalblue",
           "pink",
           "pink",
           "pink",
           "royalblue",
           "royalblue",
           "royalblue",
           "royalblue",
           "royalblue",
           "royalblue",
           "pink",
           "pink",
           "royalblue",
           "royalblue",
           "royalblue",
           "royalblue",
           "royalblue",
           "royalblue",
           "royalblue",
           "royalblue",
           "royalblue",
           "pink",
           "royalblue",
           "royalblue",
           "pink",
           "pink",
           "pink",
           "royalblue",
           "royalblue",
           "royalblue",
           "pink",
           "pink",
           "pink",
           "royalblue",
           "royalblue",
           "pink",
           "pink",
           "pink",
           "royalblue",
           "pink",
           "pink",
           "pink",
           "pink",
           "royalblue",
           "royalblue",
           "pink",
           "pink",
           "pink",
           "pink",
           "pink",
           "pink",
           "pink",
           "royalblue",
           "pink",
           "pink",
           "pink",
           "royalblue",
           "royalblue",
           "pink",
           "royalblue",
           "pink",
           "royalblue",
           "royalblue",
           "pink",
           "royalblue",
           "pink",
           "royalblue",
           "royalblue",
           "pink",
           "royalblue",
           "pink",
           "pink",
           "pink",
           "pink",
           "royalblue",
           "royalblue",
           "pink",
           "pink",
           "pink",
           "pink",
           "royalblue",
           "pink",
           "royalblue",
           "pink",
           "pink",
           "pink",
           "royalblue",
           "royalblue",
           "royalblue",
           "pink",
           "royalblue",
           "pink",
           "pink",
           "royalblue",
           "royalblue",
           "pink",
           "royalblue",
           "pink",
           "pink",
           "royalblue",
           "royalblue",
           "royalblue",
           "royalblue",
           "royalblue",
           "royalblue",
           "royalblue",
           "pink",
           "royalblue",
           "pink",
           "royalblue",
           "pink",
           "royalblue",
           "pink",
           "pink",
           "royalblue",
           "royalblue",
           "pink",
           "pink",
           "pink",
           "pink",
           "pink",
           "pink",
           "royalblue",
           "pink",
           "royalblue",
           "pink",
           "royalblue",
           "pink",
           "royalblue",
           "pink",
           "pink",
           "pink",
           "royalblue",
           "pink",
           "pink",
           "royalblue",
           "pink",
           "royalblue",
           "royalblue",
           "pink",
           "pink",
           "royalblue",
           "pink",
           "pink",
           "pink",
           "pink",
           "pink",
           "royalblue",
           "royalblue",
           "royalblue",
           "royalblue",
           "pink",
           "royalblue",
           "pink",
           "royalblue",
           "royalblue",
           "pink",
           "royalblue",
           "royalblue",
           "royalblue",
           "royalblue",
           "royalblue",
           "royalblue",
           "royalblue",
           "royalblue",
           "royalblue",
           "royalblue",
           "pink",
           "pink",
           "pink",
           "royalblue",
           "royalblue",
           "royalblue",
           "pink",
           "pink",
           "royalblue",
           "pink",
           "royalblue",
           "royalblue",
           "royalblue",
           "royalblue",
           "royalblue",
           "pink",
           "pink",
           "pink",
           "royalblue",
           "royalblue",
           "royalblue",
           "pink",
           "royalblue",
           "pink",
           "pink",
           "royalblue",
           "royalblue",
           "royalblue",
           "pink",
           "royalblue",
           "royalblue",
           "pink",
           "pink",
           "pink",
           "pink",
           "pink",
           "pink",
           "pink",
           "pink",
           "pink",
           "pink",
           "pink",
           "pink",
           "pink",
           "royalblue",
           "pink",
           "royalblue",
           "pink",
           "pink",
           "pink",
           "royalblue",
           "pink",
           "pink",
           "pink",
           "pink",
           "pink",
           "royalblue",
           "pink",
           "pink",
           "pink",
           "royalblue",
           "royalblue",
           "pink",
           "pink",
           "royalblue",
           "royalblue",
           "royalblue",
           "royalblue",
           "royalblue",
           "royalblue",
           "pink",
           "pink",
           "pink",
           "pink",
           "pink",
           "royalblue",
           "royalblue",
           "pink",
           "pink",
           "pink",
           "pink",
           "pink",
           "royalblue",
           "pink",
           "pink",
           "pink",
           "royalblue",
           "royalblue",
           "royalblue",
           "royalblue",
           "pink",
           "royalblue",
           "pink",
           "pink",
           "pink",
           "royalblue",
           "pink",
           "royalblue",
           "royalblue",
           "royalblue",
           "royalblue",
           "royalblue",
           "royalblue",
           "royalblue",
           "royalblue",
           "royalblue",
           "royalblue",
           "pink",
           "pink",
           "pink",
           "royalblue",
           "pink",
           "pink",
           "pink",
           "royalblue",
           "royalblue",
           "royalblue",
           "pink",
           "pink",
           "pink",
           "royalblue",
           "royalblue",
           "pink",
           "pink",
           "royalblue",
           "royalblue",
           "royalblue",
           "pink",
           "royalblue",
           "pink",
           "pink",
           "pink",
           "pink",
           "royalblue",
           "pink",
           "pink",
           "pink",
           "pink",
           "royalblue",
           "pink",
           "pink",
           "pink",
           "royalblue",
           "royalblue",
           "royalblue",
           "royalblue",
           "pink",
           "pink",
           "pink",
           "pink",
           "royalblue",
           "pink",
           "pink",
           "royalblue",
           "royalblue",
           "royalblue",
           "pink",
           "pink",
           "royalblue",
           "royalblue",
           "pink",
           "pink",
           "pink",
           "royalblue",
           "pink",
           "royalblue",
           "pink",
           "pink",
           "pink",
           "royalblue",
           "royalblue",
           "royalblue",
           "pink",
           "pink",
           "pink",
           "pink",
           "pink",
           "pink",
           "pink",
           "pink",
           "royalblue",
           "pink",
           "pink",
           "pink",
           "pink",
           "pink",
           "pink",
           "royalblue",
           "pink",
           "pink",
           "pink",
           "pink",
           "pink",
           "pink",
           "pink",
           "pink",
           "royalblue",
           "royalblue",
           "royalblue",
           "pink",
           "pink",
           "pink",
           "royalblue",
           "royalblue",
           "pink",
           "pink",
           "royalblue",
           "pink",
           "pink",
           "pink",
           "pink",
           "pink",
           "pink",
           "pink",
           "royalblue",
           "royalblue",
           "pink",
           "pink",
           "pink",
           "royalblue",
           "royalblue",
           "pink",
           "pink",
           "pink",
           "pink",
           "pink",
           "pink",
           "royalblue",
           "royalblue",
           "pink",
           "royalblue",
           "pink",
           "royalblue",
           "pink",
           "pink",
           "royalblue",
           "pink",
           "royalblue",
           "royalblue",
           "pink",
           "pink",
           "pink",
           "pink",
           "pink",
           "pink",
           "pink",
           "pink",
           "pink",
           "royalblue",
           "royalblue",
           "pink",
           "pink",
           "pink",
           "pink",
           "pink",
           "pink",
           "pink",
           "pink",
           "pink",
           "royalblue",
           "royalblue",
           "royalblue",
           "royalblue",
           "royalblue",
           "royalblue",
           "royalblue",
           "royalblue",
           "pink",
           "pink",
           "pink",
           "royalblue",
           "pink",
           "pink",
           "pink",
           "pink",
           "pink",
           "royalblue",
           "pink",
           "pink",
           "pink",
           "pink",
           "pink",
           "pink",
           "royalblue",
           "pink",
           "royalblue",
           "pink",
           "royalblue",
           "royalblue",
           "pink",
           "pink",
           "pink",
           "royalblue",
           "royalblue",
           "pink",
           "pink",
           "royalblue",
           "pink",
           "pink",
           "pink",
           "pink",
           "pink",
           "pink",
           "pink",
           "pink",
           "pink",
           "pink",
           "pink",
           "royalblue",
           "pink",
           "pink",
           "pink",
           "pink",
           "pink",
           "pink",
           "pink",
           "royalblue",
           "pink",
           "pink",
           "royalblue",
           "royalblue",
           "royalblue",
           "pink",
           "pink",
           "pink",
           "pink",
           "pink",
           "royalblue",
           "pink",
           "pink",
           "pink",
           "pink",
           "pink",
           "pink",
           "pink",
           "pink",
           "pink",
           "pink",
           "royalblue",
           "pink",
           "pink",
           "pink",
           "royalblue",
           "pink",
           "royalblue",
           "pink",
           "royalblue",
           "pink",
           "pink",
           "royalblue",
           "royalblue",
           "royalblue",
           "pink",
           "royalblue",
           "royalblue",
           "royalblue",
           "royalblue",
           "pink",
           "pink",
           "pink",
           "pink",
           "pink",
           "royalblue",
           "royalblue",
           "royalblue",
           "pink",
           "royalblue",
           "pink",
           "pink",
           "royalblue",
           "royalblue",
           "royalblue",
           "royalblue",
           "pink",
           "pink",
           "royalblue",
           "pink",
           "royalblue",
           "royalblue",
           "royalblue",
           "royalblue",
           "pink",
           "royalblue",
           "royalblue",
           "royalblue",
           "royalblue",
           "royalblue",
           "royalblue",
           "royalblue",
           "royalblue",
           "royalblue",
           "pink",
           "pink",
           "royalblue",
           "pink",
           "royalblue",
           "royalblue",
           "royalblue",
           "royalblue",
           "royalblue",
           "pink",
           "pink",
           "pink",
           "pink",
           "pink",
           "pink",
           "pink",
           "pink",
           "pink",
           "pink",
           "pink",
           "pink",
           "pink",
           "pink",
           "royalblue",
           "pink",
           "pink",
           "royalblue",
           "royalblue",
           "royalblue",
           "pink",
           "pink",
           "pink",
           "pink",
           "pink",
           "pink",
           "pink",
           "pink",
           "pink",
           "pink",
           "pink",
           "royalblue",
           "pink",
           "pink",
           "pink",
           "royalblue",
           "pink",
           "pink",
           "pink",
           "pink",
           "pink",
           "royalblue",
           "royalblue",
           "pink",
           "pink",
           "pink",
           "royalblue",
           "pink",
           "pink",
           "pink",
           "pink",
           "pink",
           "pink",
           "pink",
           "pink",
           "royalblue",
           "royalblue",
           "royalblue",
           "royalblue",
           "royalblue",
           "pink",
           "pink",
           "pink",
           "pink",
           "pink",
           "pink",
           "royalblue",
           "royalblue",
           "pink",
           "pink",
           "pink",
           "pink",
           "pink",
           "royalblue",
           "royalblue",
           "pink",
           "royalblue",
           "royalblue",
           "pink",
           "pink",
           "royalblue",
           "royalblue",
           "royalblue",
           "pink",
           "pink",
           "pink",
           "royalblue",
           "royalblue",
           "royalblue",
           "royalblue",
           "royalblue",
           "royalblue",
           "pink",
           "pink",
           "royalblue",
           "royalblue",
           "royalblue",
           "royalblue",
           "royalblue",
           "royalblue",
           "royalblue",
           "royalblue",
           "royalblue",
           "pink",
           "royalblue",
           "royalblue",
           "pink",
           "pink",
           "pink",
           "royalblue",
           "royalblue",
           "royalblue",
           "pink",
           "pink",
           "pink",
           "royalblue",
           "royalblue",
           "pink",
           "pink",
           "pink",
           "royalblue",
           "pink",
           "pink",
           "pink",
           "pink",
           "royalblue",
           "royalblue",
           "pink",
           "pink",
           "pink",
           "pink",
           "pink",
           "pink",
           "pink",
           "royalblue",
           "pink",
           "pink",
           "pink",
           "royalblue",
           "royalblue",
           "pink",
           "royalblue",
           "pink",
           "royalblue",
           "royalblue",
           "pink",
           "royalblue",
           "pink",
           "royalblue",
           "royalblue",
           "pink",
           "royalblue",
           "pink",
           "pink",
           "pink",
           "pink",
           "royalblue",
           "royalblue",
           "pink",
           "pink",
           "pink",
           "pink",
           "royalblue",
           "pink",
           "royalblue",
           "pink",
           "pink",
           "pink",
           "royalblue",
           "royalblue",
           "royalblue",
           "pink",
           "royalblue",
           "pink",
           "pink",
           "royalblue",
           "royalblue",
           "pink",
           "royalblue",
           "pink",
           "pink",
           "royalblue",
           "royalblue",
           "royalblue",
           "royalblue",
           "royalblue",
           "royalblue",
           "royalblue",
           "pink",
           "royalblue",
           "pink",
           "royalblue",
           "pink",
           "royalblue",
           "pink",
           "pink",
           "royalblue",
           "royalblue",
           "pink",
           "pink",
           "pink",
           "pink",
           "royalblue",
           "pink",
           "royalblue",
           "pink",
           "royalblue",
           "pink",
           "royalblue",
           "royalblue",
           "pink",
           "pink",
           "royalblue",
           "pink",
           "pink",
           "pink",
           "royalblue",
           "royalblue",
           "royalblue",
           "royalblue",
           "pink",
           "royalblue",
           "pink",
           "royalblue",
           "royalblue",
           "pink",
           "royalblue",
           "royalblue",
           "royalblue",
           "royalblue",
           "royalblue",
           "royalblue",
           "royalblue",
           "royalblue",
           "royalblue",
           "pink",
           "pink",
           "pink",
           "royalblue",
           "royalblue",
           "royalblue",
           "pink",
           "pink",
           "royalblue",
           "pink",
           "royalblue",
           "royalblue",
           "royalblue",
           "royalblue",
           "royalblue",
           "pink",
           "pink",
           "pink",
           "royalblue",
           "royalblue",
           "royalblue",
           "pink",
           "royalblue",
           "pink",
           "pink",
           "royalblue",
           "royalblue",
           "royalblue",
           "pink",
           "royalblue",
           "royalblue",
           "pink",
           "pink",
           "pink",
           "pink",
           "pink",
           "pink",
           "pink",
           "pink",
           "pink",
           "pink",
           "pink",
           "pink",
           "pink",
           "royalblue",
           "pink",
           "royalblue",
           "pink",
           "pink",
           "pink",
           "royalblue",
           "pink",
           "pink",
           "pink",
           "pink",
           "pink",
           "royalblue",
           "pink",
           "pink",
           "pink",
           "royalblue",
           "royalblue",
           "pink",
           "pink",
           "royalblue",
           "royalblue",
           "royalblue",
           "royalblue",
           "royalblue",
           "royalblue",
           "pink",
           "pink",
           "royalblue",
           "royalblue",
           "royalblue",
           "royalblue",
           "royalblue",
           "pink",
           "royalblue",
           "royalblue",
           "royalblue",
           "royalblue",
           "royalblue",
           "royalblue",
           "royalblue",
           "royalblue",
           "royalblue",
           "royalblue",
           "royalblue",
           "pink",
           "royalblue",
           "royalblue",
           "pink",
           "pink",
           "royalblue",
           "royalblue",
           "pink",
           "pink",
           "royalblue",
           "royalblue",
           "pink",
           "royalblue",
           "pink",
           "pink",
           "pink",
           "pink",
           "royalblue",
           "pink",
           "pink",
           "pink",
           "royalblue",
           "pink",
           "royalblue",
           "royalblue",
           "royalblue",
           "pink",
           "pink",
           "pink",
           "royalblue",
           "pink",
           "pink",
           "royalblue",
           "royalblue",
           "royalblue",
           "pink",
           "pink",
           "pink",
           "royalblue",
           "royalblue",
           "pink",
           "pink",
           "pink",
           "royalblue",
           "pink",
           "royalblue",
           "pink",
           "pink",
           "royalblue",
           "pink",
           "royalblue",
           "royalblue",
           "royalblue",
           "pink",
           "pink",
           "pink",
           "royalblue",
           "pink",
           "pink",
           "pink",
           "pink",
           "pink",
           "pink",
           "pink",
           "pink",
           "pink",
           "pink",
           "pink",
           "pink",
           "royalblue",
           "royalblue",
           "royalblue",
           "pink",
           "pink",
           "royalblue",
           "pink",
           "pink",
           "pink",
           "pink",
           "pink",
           "pink",
           "pink",
           "pink",
           "pink",
           "pink",
           "royalblue",
           "royalblue",
           "pink",
           "pink",
           "pink",
           "royalblue",
           "royalblue",
           "pink",
           "royalblue",
           "royalblue",
           "royalblue",
           "royalblue",
           "royalblue",
           "royalblue",
           "pink",
           "pink",
           "pink",
           "royalblue",
           "pink",
           "pink",
           "royalblue",
           "pink",
           "pink",
           "pink",
           "royalblue",
           "royalblue",
           "pink",
           "pink",
           "pink",
           "pink",
           "royalblue",
           "pink",
           "pink",
           "pink",
           "pink",
           "pink",
           "pink",
           "pink",
           "pink",
           "royalblue",
           "royalblue",
           "royalblue",
           "royalblue",
           "royalblue",
           "pink",
           "pink",
           "pink",
           "pink",
           "pink",
           "royalblue",
           "royalblue",
           "royalblue",
           "royalblue",
           "royalblue"
          ]
         },
         "name": "",
         "showlegend": true,
         "type": "pie"
        }
       ],
       "layout": {
        "legend": {
         "tracegroupgap": 0
        },
        "margin": {
         "t": 60
        },
        "template": {
         "data": {
          "bar": [
           {
            "error_x": {
             "color": "#2a3f5f"
            },
            "error_y": {
             "color": "#2a3f5f"
            },
            "marker": {
             "line": {
              "color": "#E5ECF6",
              "width": 0.5
             }
            },
            "type": "bar"
           }
          ],
          "barpolar": [
           {
            "marker": {
             "line": {
              "color": "#E5ECF6",
              "width": 0.5
             }
            },
            "type": "barpolar"
           }
          ],
          "carpet": [
           {
            "aaxis": {
             "endlinecolor": "#2a3f5f",
             "gridcolor": "white",
             "linecolor": "white",
             "minorgridcolor": "white",
             "startlinecolor": "#2a3f5f"
            },
            "baxis": {
             "endlinecolor": "#2a3f5f",
             "gridcolor": "white",
             "linecolor": "white",
             "minorgridcolor": "white",
             "startlinecolor": "#2a3f5f"
            },
            "type": "carpet"
           }
          ],
          "choropleth": [
           {
            "colorbar": {
             "outlinewidth": 0,
             "ticks": ""
            },
            "type": "choropleth"
           }
          ],
          "contour": [
           {
            "colorbar": {
             "outlinewidth": 0,
             "ticks": ""
            },
            "colorscale": [
             [
              0,
              "#0d0887"
             ],
             [
              0.1111111111111111,
              "#46039f"
             ],
             [
              0.2222222222222222,
              "#7201a8"
             ],
             [
              0.3333333333333333,
              "#9c179e"
             ],
             [
              0.4444444444444444,
              "#bd3786"
             ],
             [
              0.5555555555555556,
              "#d8576b"
             ],
             [
              0.6666666666666666,
              "#ed7953"
             ],
             [
              0.7777777777777778,
              "#fb9f3a"
             ],
             [
              0.8888888888888888,
              "#fdca26"
             ],
             [
              1,
              "#f0f921"
             ]
            ],
            "type": "contour"
           }
          ],
          "contourcarpet": [
           {
            "colorbar": {
             "outlinewidth": 0,
             "ticks": ""
            },
            "type": "contourcarpet"
           }
          ],
          "heatmap": [
           {
            "colorbar": {
             "outlinewidth": 0,
             "ticks": ""
            },
            "colorscale": [
             [
              0,
              "#0d0887"
             ],
             [
              0.1111111111111111,
              "#46039f"
             ],
             [
              0.2222222222222222,
              "#7201a8"
             ],
             [
              0.3333333333333333,
              "#9c179e"
             ],
             [
              0.4444444444444444,
              "#bd3786"
             ],
             [
              0.5555555555555556,
              "#d8576b"
             ],
             [
              0.6666666666666666,
              "#ed7953"
             ],
             [
              0.7777777777777778,
              "#fb9f3a"
             ],
             [
              0.8888888888888888,
              "#fdca26"
             ],
             [
              1,
              "#f0f921"
             ]
            ],
            "type": "heatmap"
           }
          ],
          "heatmapgl": [
           {
            "colorbar": {
             "outlinewidth": 0,
             "ticks": ""
            },
            "colorscale": [
             [
              0,
              "#0d0887"
             ],
             [
              0.1111111111111111,
              "#46039f"
             ],
             [
              0.2222222222222222,
              "#7201a8"
             ],
             [
              0.3333333333333333,
              "#9c179e"
             ],
             [
              0.4444444444444444,
              "#bd3786"
             ],
             [
              0.5555555555555556,
              "#d8576b"
             ],
             [
              0.6666666666666666,
              "#ed7953"
             ],
             [
              0.7777777777777778,
              "#fb9f3a"
             ],
             [
              0.8888888888888888,
              "#fdca26"
             ],
             [
              1,
              "#f0f921"
             ]
            ],
            "type": "heatmapgl"
           }
          ],
          "histogram": [
           {
            "marker": {
             "colorbar": {
              "outlinewidth": 0,
              "ticks": ""
             }
            },
            "type": "histogram"
           }
          ],
          "histogram2d": [
           {
            "colorbar": {
             "outlinewidth": 0,
             "ticks": ""
            },
            "colorscale": [
             [
              0,
              "#0d0887"
             ],
             [
              0.1111111111111111,
              "#46039f"
             ],
             [
              0.2222222222222222,
              "#7201a8"
             ],
             [
              0.3333333333333333,
              "#9c179e"
             ],
             [
              0.4444444444444444,
              "#bd3786"
             ],
             [
              0.5555555555555556,
              "#d8576b"
             ],
             [
              0.6666666666666666,
              "#ed7953"
             ],
             [
              0.7777777777777778,
              "#fb9f3a"
             ],
             [
              0.8888888888888888,
              "#fdca26"
             ],
             [
              1,
              "#f0f921"
             ]
            ],
            "type": "histogram2d"
           }
          ],
          "histogram2dcontour": [
           {
            "colorbar": {
             "outlinewidth": 0,
             "ticks": ""
            },
            "colorscale": [
             [
              0,
              "#0d0887"
             ],
             [
              0.1111111111111111,
              "#46039f"
             ],
             [
              0.2222222222222222,
              "#7201a8"
             ],
             [
              0.3333333333333333,
              "#9c179e"
             ],
             [
              0.4444444444444444,
              "#bd3786"
             ],
             [
              0.5555555555555556,
              "#d8576b"
             ],
             [
              0.6666666666666666,
              "#ed7953"
             ],
             [
              0.7777777777777778,
              "#fb9f3a"
             ],
             [
              0.8888888888888888,
              "#fdca26"
             ],
             [
              1,
              "#f0f921"
             ]
            ],
            "type": "histogram2dcontour"
           }
          ],
          "mesh3d": [
           {
            "colorbar": {
             "outlinewidth": 0,
             "ticks": ""
            },
            "type": "mesh3d"
           }
          ],
          "parcoords": [
           {
            "line": {
             "colorbar": {
              "outlinewidth": 0,
              "ticks": ""
             }
            },
            "type": "parcoords"
           }
          ],
          "pie": [
           {
            "automargin": true,
            "type": "pie"
           }
          ],
          "scatter": [
           {
            "marker": {
             "colorbar": {
              "outlinewidth": 0,
              "ticks": ""
             }
            },
            "type": "scatter"
           }
          ],
          "scatter3d": [
           {
            "line": {
             "colorbar": {
              "outlinewidth": 0,
              "ticks": ""
             }
            },
            "marker": {
             "colorbar": {
              "outlinewidth": 0,
              "ticks": ""
             }
            },
            "type": "scatter3d"
           }
          ],
          "scattercarpet": [
           {
            "marker": {
             "colorbar": {
              "outlinewidth": 0,
              "ticks": ""
             }
            },
            "type": "scattercarpet"
           }
          ],
          "scattergeo": [
           {
            "marker": {
             "colorbar": {
              "outlinewidth": 0,
              "ticks": ""
             }
            },
            "type": "scattergeo"
           }
          ],
          "scattergl": [
           {
            "marker": {
             "colorbar": {
              "outlinewidth": 0,
              "ticks": ""
             }
            },
            "type": "scattergl"
           }
          ],
          "scattermapbox": [
           {
            "marker": {
             "colorbar": {
              "outlinewidth": 0,
              "ticks": ""
             }
            },
            "type": "scattermapbox"
           }
          ],
          "scatterpolar": [
           {
            "marker": {
             "colorbar": {
              "outlinewidth": 0,
              "ticks": ""
             }
            },
            "type": "scatterpolar"
           }
          ],
          "scatterpolargl": [
           {
            "marker": {
             "colorbar": {
              "outlinewidth": 0,
              "ticks": ""
             }
            },
            "type": "scatterpolargl"
           }
          ],
          "scatterternary": [
           {
            "marker": {
             "colorbar": {
              "outlinewidth": 0,
              "ticks": ""
             }
            },
            "type": "scatterternary"
           }
          ],
          "surface": [
           {
            "colorbar": {
             "outlinewidth": 0,
             "ticks": ""
            },
            "colorscale": [
             [
              0,
              "#0d0887"
             ],
             [
              0.1111111111111111,
              "#46039f"
             ],
             [
              0.2222222222222222,
              "#7201a8"
             ],
             [
              0.3333333333333333,
              "#9c179e"
             ],
             [
              0.4444444444444444,
              "#bd3786"
             ],
             [
              0.5555555555555556,
              "#d8576b"
             ],
             [
              0.6666666666666666,
              "#ed7953"
             ],
             [
              0.7777777777777778,
              "#fb9f3a"
             ],
             [
              0.8888888888888888,
              "#fdca26"
             ],
             [
              1,
              "#f0f921"
             ]
            ],
            "type": "surface"
           }
          ],
          "table": [
           {
            "cells": {
             "fill": {
              "color": "#EBF0F8"
             },
             "line": {
              "color": "white"
             }
            },
            "header": {
             "fill": {
              "color": "#C8D4E3"
             },
             "line": {
              "color": "white"
             }
            },
            "type": "table"
           }
          ]
         },
         "layout": {
          "annotationdefaults": {
           "arrowcolor": "#2a3f5f",
           "arrowhead": 0,
           "arrowwidth": 1
          },
          "autotypenumbers": "strict",
          "coloraxis": {
           "colorbar": {
            "outlinewidth": 0,
            "ticks": ""
           }
          },
          "colorscale": {
           "diverging": [
            [
             0,
             "#8e0152"
            ],
            [
             0.1,
             "#c51b7d"
            ],
            [
             0.2,
             "#de77ae"
            ],
            [
             0.3,
             "#f1b6da"
            ],
            [
             0.4,
             "#fde0ef"
            ],
            [
             0.5,
             "#f7f7f7"
            ],
            [
             0.6,
             "#e6f5d0"
            ],
            [
             0.7,
             "#b8e186"
            ],
            [
             0.8,
             "#7fbc41"
            ],
            [
             0.9,
             "#4d9221"
            ],
            [
             1,
             "#276419"
            ]
           ],
           "sequential": [
            [
             0,
             "#0d0887"
            ],
            [
             0.1111111111111111,
             "#46039f"
            ],
            [
             0.2222222222222222,
             "#7201a8"
            ],
            [
             0.3333333333333333,
             "#9c179e"
            ],
            [
             0.4444444444444444,
             "#bd3786"
            ],
            [
             0.5555555555555556,
             "#d8576b"
            ],
            [
             0.6666666666666666,
             "#ed7953"
            ],
            [
             0.7777777777777778,
             "#fb9f3a"
            ],
            [
             0.8888888888888888,
             "#fdca26"
            ],
            [
             1,
             "#f0f921"
            ]
           ],
           "sequentialminus": [
            [
             0,
             "#0d0887"
            ],
            [
             0.1111111111111111,
             "#46039f"
            ],
            [
             0.2222222222222222,
             "#7201a8"
            ],
            [
             0.3333333333333333,
             "#9c179e"
            ],
            [
             0.4444444444444444,
             "#bd3786"
            ],
            [
             0.5555555555555556,
             "#d8576b"
            ],
            [
             0.6666666666666666,
             "#ed7953"
            ],
            [
             0.7777777777777778,
             "#fb9f3a"
            ],
            [
             0.8888888888888888,
             "#fdca26"
            ],
            [
             1,
             "#f0f921"
            ]
           ]
          },
          "colorway": [
           "#636efa",
           "#EF553B",
           "#00cc96",
           "#ab63fa",
           "#FFA15A",
           "#19d3f3",
           "#FF6692",
           "#B6E880",
           "#FF97FF",
           "#FECB52"
          ],
          "font": {
           "color": "#2a3f5f"
          },
          "geo": {
           "bgcolor": "white",
           "lakecolor": "white",
           "landcolor": "#E5ECF6",
           "showlakes": true,
           "showland": true,
           "subunitcolor": "white"
          },
          "hoverlabel": {
           "align": "left"
          },
          "hovermode": "closest",
          "mapbox": {
           "style": "light"
          },
          "paper_bgcolor": "white",
          "plot_bgcolor": "#E5ECF6",
          "polar": {
           "angularaxis": {
            "gridcolor": "white",
            "linecolor": "white",
            "ticks": ""
           },
           "bgcolor": "#E5ECF6",
           "radialaxis": {
            "gridcolor": "white",
            "linecolor": "white",
            "ticks": ""
           }
          },
          "scene": {
           "xaxis": {
            "backgroundcolor": "#E5ECF6",
            "gridcolor": "white",
            "gridwidth": 2,
            "linecolor": "white",
            "showbackground": true,
            "ticks": "",
            "zerolinecolor": "white"
           },
           "yaxis": {
            "backgroundcolor": "#E5ECF6",
            "gridcolor": "white",
            "gridwidth": 2,
            "linecolor": "white",
            "showbackground": true,
            "ticks": "",
            "zerolinecolor": "white"
           },
           "zaxis": {
            "backgroundcolor": "#E5ECF6",
            "gridcolor": "white",
            "gridwidth": 2,
            "linecolor": "white",
            "showbackground": true,
            "ticks": "",
            "zerolinecolor": "white"
           }
          },
          "shapedefaults": {
           "line": {
            "color": "#2a3f5f"
           }
          },
          "ternary": {
           "aaxis": {
            "gridcolor": "white",
            "linecolor": "white",
            "ticks": ""
           },
           "baxis": {
            "gridcolor": "white",
            "linecolor": "white",
            "ticks": ""
           },
           "bgcolor": "#E5ECF6",
           "caxis": {
            "gridcolor": "white",
            "linecolor": "white",
            "ticks": ""
           }
          },
          "title": {
           "x": 0.05
          },
          "xaxis": {
           "automargin": true,
           "gridcolor": "white",
           "linecolor": "white",
           "ticks": "",
           "title": {
            "standoff": 15
           },
           "zerolinecolor": "white",
           "zerolinewidth": 2
          },
          "yaxis": {
           "automargin": true,
           "gridcolor": "white",
           "linecolor": "white",
           "ticks": "",
           "title": {
            "standoff": 15
           },
           "zerolinecolor": "white",
           "zerolinewidth": 2
          }
         }
        },
        "title": {
         "text": "Distribuzione Maschi/Femmine",
         "x": 0.5,
         "xanchor": "center",
         "y": 0.95,
         "yanchor": "top"
        }
       }
      },
      "text/html": [
       "<div>                            <div id=\"7eea70d2-c517-4594-937e-29df7f7d62a4\" class=\"plotly-graph-div\" style=\"height:525px; width:100%;\"></div>            <script type=\"text/javascript\">                require([\"plotly\"], function(Plotly) {                    window.PLOTLYENV=window.PLOTLYENV || {};                                    if (document.getElementById(\"7eea70d2-c517-4594-937e-29df7f7d62a4\")) {                    Plotly.newPlot(                        \"7eea70d2-c517-4594-937e-29df7f7d62a4\",                        [{\"customdata\": [[\"F\"], [\"F\"], [\"F\"], [\"F\"], [\"F\"], [\"M\"], [\"M\"], [\"F\"], [\"M\"], [\"M\"], [\"F\"], [\"F\"], [\"M\"], [\"M\"], [\"M\"], [\"F\"], [\"F\"], [\"F\"], [\"M\"], [\"M\"], [\"M\"], [\"M\"], [\"M\"], [\"M\"], [\"F\"], [\"F\"], [\"M\"], [\"M\"], [\"M\"], [\"M\"], [\"M\"], [\"M\"], [\"M\"], [\"M\"], [\"M\"], [\"F\"], [\"M\"], [\"M\"], [\"F\"], [\"F\"], [\"F\"], [\"M\"], [\"M\"], [\"M\"], [\"F\"], [\"F\"], [\"F\"], [\"M\"], [\"M\"], [\"F\"], [\"F\"], [\"F\"], [\"M\"], [\"F\"], [\"F\"], [\"F\"], [\"F\"], [\"M\"], [\"M\"], [\"F\"], [\"F\"], [\"F\"], [\"F\"], [\"F\"], [\"F\"], [\"F\"], [\"M\"], [\"F\"], [\"F\"], [\"F\"], [\"M\"], [\"M\"], [\"F\"], [\"M\"], [\"F\"], [\"M\"], [\"M\"], [\"F\"], [\"M\"], [\"F\"], [\"M\"], [\"M\"], [\"F\"], [\"M\"], [\"F\"], [\"F\"], [\"F\"], [\"F\"], [\"M\"], [\"M\"], [\"F\"], [\"F\"], [\"F\"], [\"F\"], [\"M\"], [\"F\"], [\"M\"], [\"F\"], [\"F\"], [\"F\"], [\"M\"], [\"M\"], [\"M\"], [\"F\"], [\"M\"], [\"F\"], [\"F\"], [\"M\"], [\"M\"], [\"F\"], [\"M\"], [\"F\"], [\"F\"], [\"M\"], [\"M\"], [\"M\"], [\"M\"], [\"M\"], [\"M\"], [\"M\"], [\"F\"], [\"M\"], [\"F\"], [\"M\"], [\"F\"], [\"M\"], [\"F\"], [\"F\"], [\"M\"], [\"M\"], [\"F\"], [\"F\"], [\"F\"], [\"F\"], [\"F\"], [\"F\"], [\"M\"], [\"F\"], [\"M\"], [\"F\"], [\"M\"], [\"F\"], [\"M\"], [\"F\"], [\"F\"], [\"F\"], [\"M\"], [\"F\"], [\"F\"], [\"M\"], [\"F\"], [\"M\"], [\"M\"], [\"F\"], [\"F\"], [\"M\"], [\"F\"], [\"F\"], [\"F\"], [\"F\"], [\"F\"], [\"M\"], [\"M\"], [\"M\"], [\"M\"], [\"F\"], [\"M\"], [\"F\"], [\"M\"], [\"M\"], [\"F\"], [\"M\"], [\"M\"], [\"M\"], [\"M\"], [\"M\"], [\"M\"], [\"M\"], [\"M\"], [\"M\"], [\"M\"], [\"F\"], [\"F\"], [\"F\"], [\"M\"], [\"M\"], [\"M\"], [\"F\"], [\"F\"], [\"M\"], [\"F\"], [\"M\"], [\"M\"], [\"M\"], [\"M\"], [\"M\"], [\"F\"], [\"F\"], [\"F\"], [\"M\"], [\"M\"], [\"M\"], [\"F\"], [\"M\"], [\"F\"], [\"F\"], [\"M\"], [\"M\"], [\"M\"], [\"F\"], [\"M\"], [\"M\"], [\"F\"], [\"F\"], [\"F\"], [\"F\"], [\"F\"], [\"F\"], [\"F\"], [\"F\"], [\"F\"], [\"F\"], [\"F\"], [\"F\"], [\"F\"], [\"M\"], [\"F\"], [\"M\"], [\"F\"], [\"F\"], [\"F\"], [\"M\"], [\"F\"], [\"F\"], [\"F\"], [\"F\"], [\"F\"], [\"M\"], [\"F\"], [\"F\"], [\"F\"], [\"M\"], [\"M\"], [\"F\"], [\"F\"], [\"M\"], [\"M\"], [\"M\"], [\"M\"], [\"M\"], [\"M\"], [\"F\"], [\"F\"], [\"F\"], [\"F\"], [\"F\"], [\"M\"], [\"M\"], [\"F\"], [\"F\"], [\"F\"], [\"F\"], [\"F\"], [\"M\"], [\"F\"], [\"F\"], [\"F\"], [\"M\"], [\"M\"], [\"M\"], [\"M\"], [\"F\"], [\"M\"], [\"F\"], [\"F\"], [\"F\"], [\"M\"], [\"F\"], [\"M\"], [\"M\"], [\"M\"], [\"M\"], [\"M\"], [\"M\"], [\"M\"], [\"M\"], [\"M\"], [\"M\"], [\"F\"], [\"F\"], [\"F\"], [\"M\"], [\"F\"], [\"F\"], [\"F\"], [\"M\"], [\"M\"], [\"M\"], [\"F\"], [\"F\"], [\"F\"], [\"M\"], [\"M\"], [\"F\"], [\"F\"], [\"M\"], [\"M\"], [\"M\"], [\"F\"], [\"M\"], [\"F\"], [\"F\"], [\"F\"], [\"F\"], [\"M\"], [\"F\"], [\"F\"], [\"F\"], [\"F\"], [\"M\"], [\"F\"], [\"F\"], [\"F\"], [\"M\"], [\"M\"], [\"M\"], [\"M\"], [\"F\"], [\"F\"], [\"F\"], [\"F\"], [\"M\"], [\"F\"], [\"F\"], [\"M\"], [\"M\"], [\"M\"], [\"F\"], [\"F\"], [\"M\"], [\"M\"], [\"F\"], [\"F\"], [\"F\"], [\"M\"], [\"F\"], [\"M\"], [\"F\"], [\"F\"], [\"F\"], [\"M\"], [\"M\"], [\"M\"], [\"F\"], [\"F\"], [\"F\"], [\"F\"], [\"F\"], [\"F\"], [\"F\"], [\"F\"], [\"M\"], [\"F\"], [\"F\"], [\"F\"], [\"F\"], [\"F\"], [\"F\"], [\"M\"], [\"F\"], [\"F\"], [\"F\"], [\"F\"], [\"F\"], [\"F\"], [\"F\"], [\"F\"], [\"M\"], [\"M\"], [\"M\"], [\"F\"], [\"F\"], [\"F\"], [\"M\"], [\"M\"], [\"F\"], [\"F\"], [\"M\"], [\"F\"], [\"F\"], [\"F\"], [\"F\"], [\"F\"], [\"F\"], [\"F\"], [\"M\"], [\"M\"], [\"F\"], [\"F\"], [\"F\"], [\"M\"], [\"M\"], [\"F\"], [\"F\"], [\"F\"], [\"F\"], [\"F\"], [\"F\"], [\"M\"], [\"M\"], [\"F\"], [\"M\"], [\"F\"], [\"M\"], [\"F\"], [\"F\"], [\"M\"], [\"F\"], [\"M\"], [\"M\"], [\"F\"], [\"F\"], [\"F\"], [\"F\"], [\"F\"], [\"F\"], [\"F\"], [\"F\"], [\"F\"], [\"M\"], [\"M\"], [\"F\"], [\"F\"], [\"F\"], [\"F\"], [\"F\"], [\"F\"], [\"F\"], [\"F\"], [\"F\"], [\"M\"], [\"M\"], [\"M\"], [\"M\"], [\"M\"], [\"M\"], [\"M\"], [\"M\"], [\"F\"], [\"F\"], [\"F\"], [\"M\"], [\"F\"], [\"F\"], [\"F\"], [\"F\"], [\"F\"], [\"M\"], [\"F\"], [\"F\"], [\"F\"], [\"F\"], [\"F\"], [\"F\"], [\"M\"], [\"F\"], [\"M\"], [\"F\"], [\"M\"], [\"M\"], [\"F\"], [\"F\"], [\"F\"], [\"M\"], [\"M\"], [\"F\"], [\"F\"], [\"M\"], [\"F\"], [\"F\"], [\"F\"], [\"F\"], [\"F\"], [\"F\"], [\"F\"], [\"F\"], [\"F\"], [\"F\"], [\"F\"], [\"M\"], [\"F\"], [\"F\"], [\"F\"], [\"F\"], [\"F\"], [\"F\"], [\"F\"], [\"M\"], [\"F\"], [\"F\"], [\"M\"], [\"M\"], [\"M\"], [\"F\"], [\"F\"], [\"F\"], [\"F\"], [\"F\"], [\"M\"], [\"F\"], [\"F\"], [\"F\"], [\"F\"], [\"F\"], [\"F\"], [\"F\"], [\"F\"], [\"F\"], [\"F\"], [\"M\"], [\"F\"], [\"F\"], [\"F\"], [\"M\"], [\"F\"], [\"M\"], [\"F\"], [\"M\"], [\"F\"], [\"F\"], [\"M\"], [\"M\"], [\"M\"], [\"F\"], [\"M\"], [\"M\"], [\"M\"], [\"M\"], [\"F\"], [\"F\"], [\"F\"], [\"F\"], [\"F\"], [\"M\"], [\"M\"], [\"M\"], [\"F\"], [\"M\"], [\"F\"], [\"F\"], [\"M\"], [\"M\"], [\"M\"], [\"M\"], [\"F\"], [\"F\"], [\"M\"], [\"F\"], [\"M\"], [\"M\"], [\"M\"], [\"M\"], [\"F\"], [\"M\"], [\"M\"], [\"M\"], [\"M\"], [\"M\"], [\"M\"], [\"M\"], [\"M\"], [\"M\"], [\"F\"], [\"F\"], [\"M\"], [\"F\"], [\"M\"], [\"M\"], [\"M\"], [\"M\"], [\"M\"], [\"F\"], [\"F\"], [\"F\"], [\"F\"], [\"F\"], [\"F\"], [\"F\"], [\"F\"], [\"F\"], [\"F\"], [\"F\"], [\"F\"], [\"F\"], [\"F\"], [\"M\"], [\"F\"], [\"F\"], [\"M\"], [\"M\"], [\"M\"], [\"F\"], [\"F\"], [\"F\"], [\"F\"], [\"F\"], [\"F\"], [\"F\"], [\"F\"], [\"F\"], [\"F\"], [\"F\"], [\"M\"], [\"F\"], [\"F\"], [\"F\"], [\"M\"], [\"F\"], [\"F\"], [\"F\"], [\"F\"], [\"F\"], [\"M\"], [\"M\"], [\"F\"], [\"F\"], [\"F\"], [\"M\"], [\"F\"], [\"F\"], [\"F\"], [\"F\"], [\"F\"], [\"F\"], [\"F\"], [\"F\"], [\"M\"], [\"M\"], [\"M\"], [\"M\"], [\"M\"], [\"F\"], [\"F\"], [\"F\"], [\"F\"], [\"F\"], [\"F\"], [\"M\"], [\"M\"], [\"F\"], [\"F\"], [\"F\"], [\"F\"], [\"F\"], [\"M\"], [\"M\"], [\"F\"], [\"M\"], [\"M\"], [\"F\"], [\"F\"], [\"M\"], [\"M\"], [\"M\"], [\"F\"], [\"F\"], [\"F\"], [\"M\"], [\"M\"], [\"M\"], [\"M\"], [\"M\"], [\"M\"], [\"F\"], [\"F\"], [\"M\"], [\"M\"], [\"M\"], [\"M\"], [\"M\"], [\"M\"], [\"M\"], [\"M\"], [\"M\"], [\"F\"], [\"M\"], [\"M\"], [\"F\"], [\"F\"], [\"F\"], [\"M\"], [\"M\"], [\"M\"], [\"F\"], [\"F\"], [\"F\"], [\"M\"], [\"M\"], [\"F\"], [\"F\"], [\"F\"], [\"M\"], [\"F\"], [\"F\"], [\"F\"], [\"F\"], [\"M\"], [\"M\"], [\"F\"], [\"F\"], [\"F\"], [\"F\"], [\"F\"], [\"F\"], [\"F\"], [\"M\"], [\"F\"], [\"F\"], [\"F\"], [\"M\"], [\"M\"], [\"F\"], [\"M\"], [\"F\"], [\"M\"], [\"M\"], [\"F\"], [\"M\"], [\"F\"], [\"M\"], [\"M\"], [\"F\"], [\"M\"], [\"F\"], [\"F\"], [\"F\"], [\"F\"], [\"M\"], [\"M\"], [\"F\"], [\"F\"], [\"F\"], [\"F\"], [\"M\"], [\"F\"], [\"M\"], [\"F\"], [\"F\"], [\"F\"], [\"M\"], [\"M\"], [\"M\"], [\"F\"], [\"M\"], [\"F\"], [\"F\"], [\"M\"], [\"M\"], [\"F\"], [\"M\"], [\"F\"], [\"F\"], [\"M\"], [\"M\"], [\"M\"], [\"M\"], [\"M\"], [\"M\"], [\"M\"], [\"F\"], [\"M\"], [\"F\"], [\"M\"], [\"F\"], [\"M\"], [\"F\"], [\"F\"], [\"M\"], [\"M\"], [\"F\"], [\"F\"], [\"F\"], [\"F\"], [\"M\"], [\"F\"], [\"M\"], [\"F\"], [\"M\"], [\"F\"], [\"M\"], [\"M\"], [\"F\"], [\"F\"], [\"M\"], [\"F\"], [\"F\"], [\"F\"], [\"M\"], [\"M\"], [\"M\"], [\"M\"], [\"F\"], [\"M\"], [\"F\"], [\"M\"], [\"M\"], [\"F\"], [\"M\"], [\"M\"], [\"M\"], [\"M\"], [\"M\"], [\"M\"], [\"M\"], [\"M\"], [\"M\"], [\"F\"], [\"F\"], [\"F\"], [\"M\"], [\"M\"], [\"M\"], [\"F\"], [\"F\"], [\"M\"], [\"F\"], [\"M\"], [\"M\"], [\"M\"], [\"M\"], [\"M\"], [\"F\"], [\"F\"], [\"F\"], [\"M\"], [\"M\"], [\"M\"], [\"F\"], [\"M\"], [\"F\"], [\"F\"], [\"M\"], [\"M\"], [\"M\"], [\"F\"], [\"M\"], [\"M\"], [\"F\"], [\"F\"], [\"F\"], [\"F\"], [\"F\"], [\"F\"], [\"F\"], [\"F\"], [\"F\"], [\"F\"], [\"F\"], [\"F\"], [\"F\"], [\"M\"], [\"F\"], [\"M\"], [\"F\"], [\"F\"], [\"F\"], [\"M\"], [\"F\"], [\"F\"], [\"F\"], [\"F\"], [\"F\"], [\"M\"], [\"F\"], [\"F\"], [\"F\"], [\"M\"], [\"M\"], [\"F\"], [\"F\"], [\"M\"], [\"M\"], [\"M\"], [\"M\"], [\"M\"], [\"M\"], [\"F\"], [\"F\"], [\"M\"], [\"M\"], [\"M\"], [\"M\"], [\"M\"], [\"F\"], [\"M\"], [\"M\"], [\"M\"], [\"M\"], [\"M\"], [\"M\"], [\"M\"], [\"M\"], [\"M\"], [\"M\"], [\"M\"], [\"F\"], [\"M\"], [\"M\"], [\"F\"], [\"F\"], [\"M\"], [\"M\"], [\"F\"], [\"F\"], [\"M\"], [\"M\"], [\"F\"], [\"M\"], [\"F\"], [\"F\"], [\"F\"], [\"F\"], [\"M\"], [\"F\"], [\"F\"], [\"F\"], [\"M\"], [\"F\"], [\"M\"], [\"M\"], [\"M\"], [\"F\"], [\"F\"], [\"F\"], [\"M\"], [\"F\"], [\"F\"], [\"M\"], [\"M\"], [\"M\"], [\"F\"], [\"F\"], [\"F\"], [\"M\"], [\"M\"], [\"F\"], [\"F\"], [\"F\"], [\"M\"], [\"F\"], [\"M\"], [\"F\"], [\"F\"], [\"M\"], [\"F\"], [\"M\"], [\"M\"], [\"M\"], [\"F\"], [\"F\"], [\"F\"], [\"M\"], [\"F\"], [\"F\"], [\"F\"], [\"F\"], [\"F\"], [\"F\"], [\"F\"], [\"F\"], [\"F\"], [\"F\"], [\"F\"], [\"F\"], [\"M\"], [\"M\"], [\"M\"], [\"F\"], [\"F\"], [\"M\"], [\"F\"], [\"F\"], [\"F\"], [\"F\"], [\"F\"], [\"F\"], [\"F\"], [\"F\"], [\"F\"], [\"F\"], [\"M\"], [\"M\"], [\"F\"], [\"F\"], [\"F\"], [\"M\"], [\"M\"], [\"F\"], [\"M\"], [\"M\"], [\"M\"], [\"M\"], [\"M\"], [\"M\"], [\"F\"], [\"F\"], [\"F\"], [\"M\"], [\"F\"], [\"F\"], [\"M\"], [\"F\"], [\"F\"], [\"F\"], [\"M\"], [\"M\"], [\"F\"], [\"F\"], [\"F\"], [\"F\"], [\"M\"], [\"F\"], [\"F\"], [\"F\"], [\"F\"], [\"F\"], [\"F\"], [\"F\"], [\"F\"], [\"M\"], [\"M\"], [\"M\"], [\"M\"], [\"M\"], [\"F\"], [\"F\"], [\"F\"], [\"F\"], [\"F\"], [\"M\"], [\"M\"], [\"M\"], [\"M\"], [\"M\"]], \"domain\": {\"x\": [0.0, 1.0], \"y\": [0.0, 1.0]}, \"hovertemplate\": \"sex=%{customdata[0]}<extra></extra>\", \"labels\": [\"F\", \"F\", \"F\", \"F\", \"F\", \"M\", \"M\", \"F\", \"M\", \"M\", \"F\", \"F\", \"M\", \"M\", \"M\", \"F\", \"F\", \"F\", \"M\", \"M\", \"M\", \"M\", \"M\", \"M\", \"F\", \"F\", \"M\", \"M\", \"M\", \"M\", \"M\", \"M\", \"M\", \"M\", \"M\", \"F\", \"M\", \"M\", \"F\", \"F\", \"F\", \"M\", \"M\", \"M\", \"F\", \"F\", \"F\", \"M\", \"M\", \"F\", \"F\", \"F\", \"M\", \"F\", \"F\", \"F\", \"F\", \"M\", \"M\", \"F\", \"F\", \"F\", \"F\", \"F\", \"F\", \"F\", \"M\", \"F\", \"F\", \"F\", \"M\", \"M\", \"F\", \"M\", \"F\", \"M\", \"M\", \"F\", \"M\", \"F\", \"M\", \"M\", \"F\", \"M\", \"F\", \"F\", \"F\", \"F\", \"M\", \"M\", \"F\", \"F\", \"F\", \"F\", \"M\", \"F\", \"M\", \"F\", \"F\", \"F\", \"M\", \"M\", \"M\", \"F\", \"M\", \"F\", \"F\", \"M\", \"M\", \"F\", \"M\", \"F\", \"F\", \"M\", \"M\", \"M\", \"M\", \"M\", \"M\", \"M\", \"F\", \"M\", \"F\", \"M\", \"F\", \"M\", \"F\", \"F\", \"M\", \"M\", \"F\", \"F\", \"F\", \"F\", \"F\", \"F\", \"M\", \"F\", \"M\", \"F\", \"M\", \"F\", \"M\", \"F\", \"F\", \"F\", \"M\", \"F\", \"F\", \"M\", \"F\", \"M\", \"M\", \"F\", \"F\", \"M\", \"F\", \"F\", \"F\", \"F\", \"F\", \"M\", \"M\", \"M\", \"M\", \"F\", \"M\", \"F\", \"M\", \"M\", \"F\", \"M\", \"M\", \"M\", \"M\", \"M\", \"M\", \"M\", \"M\", \"M\", \"M\", \"F\", \"F\", \"F\", \"M\", \"M\", \"M\", \"F\", \"F\", \"M\", \"F\", \"M\", \"M\", \"M\", \"M\", \"M\", \"F\", \"F\", \"F\", \"M\", \"M\", \"M\", \"F\", \"M\", \"F\", \"F\", \"M\", \"M\", \"M\", \"F\", \"M\", \"M\", \"F\", \"F\", \"F\", \"F\", \"F\", \"F\", \"F\", \"F\", \"F\", \"F\", \"F\", \"F\", \"F\", \"M\", \"F\", \"M\", \"F\", \"F\", \"F\", \"M\", \"F\", \"F\", \"F\", \"F\", \"F\", \"M\", \"F\", \"F\", \"F\", \"M\", \"M\", \"F\", \"F\", \"M\", \"M\", \"M\", \"M\", \"M\", \"M\", \"F\", \"F\", \"F\", \"F\", \"F\", \"M\", \"M\", \"F\", \"F\", \"F\", \"F\", \"F\", \"M\", \"F\", \"F\", \"F\", \"M\", \"M\", \"M\", \"M\", \"F\", \"M\", \"F\", \"F\", \"F\", \"M\", \"F\", \"M\", \"M\", \"M\", \"M\", \"M\", \"M\", \"M\", \"M\", \"M\", \"M\", \"F\", \"F\", \"F\", \"M\", \"F\", \"F\", \"F\", \"M\", \"M\", \"M\", \"F\", \"F\", \"F\", \"M\", \"M\", \"F\", \"F\", \"M\", \"M\", \"M\", \"F\", \"M\", \"F\", \"F\", \"F\", \"F\", \"M\", \"F\", \"F\", \"F\", \"F\", \"M\", \"F\", \"F\", \"F\", \"M\", \"M\", \"M\", \"M\", \"F\", \"F\", \"F\", \"F\", \"M\", \"F\", \"F\", \"M\", \"M\", \"M\", \"F\", \"F\", \"M\", \"M\", \"F\", \"F\", \"F\", \"M\", \"F\", \"M\", \"F\", \"F\", \"F\", \"M\", \"M\", \"M\", \"F\", \"F\", \"F\", \"F\", \"F\", \"F\", \"F\", \"F\", \"M\", \"F\", \"F\", \"F\", \"F\", \"F\", \"F\", \"M\", \"F\", \"F\", \"F\", \"F\", \"F\", \"F\", \"F\", \"F\", \"M\", \"M\", \"M\", \"F\", \"F\", \"F\", \"M\", \"M\", \"F\", \"F\", \"M\", \"F\", \"F\", \"F\", \"F\", \"F\", \"F\", \"F\", \"M\", \"M\", \"F\", \"F\", \"F\", \"M\", \"M\", \"F\", \"F\", \"F\", \"F\", \"F\", \"F\", \"M\", \"M\", \"F\", \"M\", \"F\", \"M\", \"F\", \"F\", \"M\", \"F\", \"M\", \"M\", \"F\", \"F\", \"F\", \"F\", \"F\", \"F\", \"F\", \"F\", \"F\", \"M\", \"M\", \"F\", \"F\", \"F\", \"F\", \"F\", \"F\", \"F\", \"F\", \"F\", \"M\", \"M\", \"M\", \"M\", \"M\", \"M\", \"M\", \"M\", \"F\", \"F\", \"F\", \"M\", \"F\", \"F\", \"F\", \"F\", \"F\", \"M\", \"F\", \"F\", \"F\", \"F\", \"F\", \"F\", \"M\", \"F\", \"M\", \"F\", \"M\", \"M\", \"F\", \"F\", \"F\", \"M\", \"M\", \"F\", \"F\", \"M\", \"F\", \"F\", \"F\", \"F\", \"F\", \"F\", \"F\", \"F\", \"F\", \"F\", \"F\", \"M\", \"F\", \"F\", \"F\", \"F\", \"F\", \"F\", \"F\", \"M\", \"F\", \"F\", \"M\", \"M\", \"M\", \"F\", \"F\", \"F\", \"F\", \"F\", \"M\", \"F\", \"F\", \"F\", \"F\", \"F\", \"F\", \"F\", \"F\", \"F\", \"F\", \"M\", \"F\", \"F\", \"F\", \"M\", \"F\", \"M\", \"F\", \"M\", \"F\", \"F\", \"M\", \"M\", \"M\", \"F\", \"M\", \"M\", \"M\", \"M\", \"F\", \"F\", \"F\", \"F\", \"F\", \"M\", \"M\", \"M\", \"F\", \"M\", \"F\", \"F\", \"M\", \"M\", \"M\", \"M\", \"F\", \"F\", \"M\", \"F\", \"M\", \"M\", \"M\", \"M\", \"F\", \"M\", \"M\", \"M\", \"M\", \"M\", \"M\", \"M\", \"M\", \"M\", \"F\", \"F\", \"M\", \"F\", \"M\", \"M\", \"M\", \"M\", \"M\", \"F\", \"F\", \"F\", \"F\", \"F\", \"F\", \"F\", \"F\", \"F\", \"F\", \"F\", \"F\", \"F\", \"F\", \"M\", \"F\", \"F\", \"M\", \"M\", \"M\", \"F\", \"F\", \"F\", \"F\", \"F\", \"F\", \"F\", \"F\", \"F\", \"F\", \"F\", \"M\", \"F\", \"F\", \"F\", \"M\", \"F\", \"F\", \"F\", \"F\", \"F\", \"M\", \"M\", \"F\", \"F\", \"F\", \"M\", \"F\", \"F\", \"F\", \"F\", \"F\", \"F\", \"F\", \"F\", \"M\", \"M\", \"M\", \"M\", \"M\", \"F\", \"F\", \"F\", \"F\", \"F\", \"F\", \"M\", \"M\", \"F\", \"F\", \"F\", \"F\", \"F\", \"M\", \"M\", \"F\", \"M\", \"M\", \"F\", \"F\", \"M\", \"M\", \"M\", \"F\", \"F\", \"F\", \"M\", \"M\", \"M\", \"M\", \"M\", \"M\", \"F\", \"F\", \"M\", \"M\", \"M\", \"M\", \"M\", \"M\", \"M\", \"M\", \"M\", \"F\", \"M\", \"M\", \"F\", \"F\", \"F\", \"M\", \"M\", \"M\", \"F\", \"F\", \"F\", \"M\", \"M\", \"F\", \"F\", \"F\", \"M\", \"F\", \"F\", \"F\", \"F\", \"M\", \"M\", \"F\", \"F\", \"F\", \"F\", \"F\", \"F\", \"F\", \"M\", \"F\", \"F\", \"F\", \"M\", \"M\", \"F\", \"M\", \"F\", \"M\", \"M\", \"F\", \"M\", \"F\", \"M\", \"M\", \"F\", \"M\", \"F\", \"F\", \"F\", \"F\", \"M\", \"M\", \"F\", \"F\", \"F\", \"F\", \"M\", \"F\", \"M\", \"F\", \"F\", \"F\", \"M\", \"M\", \"M\", \"F\", \"M\", \"F\", \"F\", \"M\", \"M\", \"F\", \"M\", \"F\", \"F\", \"M\", \"M\", \"M\", \"M\", \"M\", \"M\", \"M\", \"F\", \"M\", \"F\", \"M\", \"F\", \"M\", \"F\", \"F\", \"M\", \"M\", \"F\", \"F\", \"F\", \"F\", \"M\", \"F\", \"M\", \"F\", \"M\", \"F\", \"M\", \"M\", \"F\", \"F\", \"M\", \"F\", \"F\", \"F\", \"M\", \"M\", \"M\", \"M\", \"F\", \"M\", \"F\", \"M\", \"M\", \"F\", \"M\", \"M\", \"M\", \"M\", \"M\", \"M\", \"M\", \"M\", \"M\", \"F\", \"F\", \"F\", \"M\", \"M\", \"M\", \"F\", \"F\", \"M\", \"F\", \"M\", \"M\", \"M\", \"M\", \"M\", \"F\", \"F\", \"F\", \"M\", \"M\", \"M\", \"F\", \"M\", \"F\", \"F\", \"M\", \"M\", \"M\", \"F\", \"M\", \"M\", \"F\", \"F\", \"F\", \"F\", \"F\", \"F\", \"F\", \"F\", \"F\", \"F\", \"F\", \"F\", \"F\", \"M\", \"F\", \"M\", \"F\", \"F\", \"F\", \"M\", \"F\", \"F\", \"F\", \"F\", \"F\", \"M\", \"F\", \"F\", \"F\", \"M\", \"M\", \"F\", \"F\", \"M\", \"M\", \"M\", \"M\", \"M\", \"M\", \"F\", \"F\", \"M\", \"M\", \"M\", \"M\", \"M\", \"F\", \"M\", \"M\", \"M\", \"M\", \"M\", \"M\", \"M\", \"M\", \"M\", \"M\", \"M\", \"F\", \"M\", \"M\", \"F\", \"F\", \"M\", \"M\", \"F\", \"F\", \"M\", \"M\", \"F\", \"M\", \"F\", \"F\", \"F\", \"F\", \"M\", \"F\", \"F\", \"F\", \"M\", \"F\", \"M\", \"M\", \"M\", \"F\", \"F\", \"F\", \"M\", \"F\", \"F\", \"M\", \"M\", \"M\", \"F\", \"F\", \"F\", \"M\", \"M\", \"F\", \"F\", \"F\", \"M\", \"F\", \"M\", \"F\", \"F\", \"M\", \"F\", \"M\", \"M\", \"M\", \"F\", \"F\", \"F\", \"M\", \"F\", \"F\", \"F\", \"F\", \"F\", \"F\", \"F\", \"F\", \"F\", \"F\", \"F\", \"F\", \"M\", \"M\", \"M\", \"F\", \"F\", \"M\", \"F\", \"F\", \"F\", \"F\", \"F\", \"F\", \"F\", \"F\", \"F\", \"F\", \"M\", \"M\", \"F\", \"F\", \"F\", \"M\", \"M\", \"F\", \"M\", \"M\", \"M\", \"M\", \"M\", \"M\", \"F\", \"F\", \"F\", \"M\", \"F\", \"F\", \"M\", \"F\", \"F\", \"F\", \"M\", \"M\", \"F\", \"F\", \"F\", \"F\", \"M\", \"F\", \"F\", \"F\", \"F\", \"F\", \"F\", \"F\", \"F\", \"M\", \"M\", \"M\", \"M\", \"M\", \"F\", \"F\", \"F\", \"F\", \"F\", \"M\", \"M\", \"M\", \"M\", \"M\"], \"legendgroup\": \"\", \"marker\": {\"colors\": [\"pink\", \"pink\", \"pink\", \"pink\", \"pink\", \"royalblue\", \"royalblue\", \"pink\", \"royalblue\", \"royalblue\", \"pink\", \"pink\", \"royalblue\", \"royalblue\", \"royalblue\", \"pink\", \"pink\", \"pink\", \"royalblue\", \"royalblue\", \"royalblue\", \"royalblue\", \"royalblue\", \"royalblue\", \"pink\", \"pink\", \"royalblue\", \"royalblue\", \"royalblue\", \"royalblue\", \"royalblue\", \"royalblue\", \"royalblue\", \"royalblue\", \"royalblue\", \"pink\", \"royalblue\", \"royalblue\", \"pink\", \"pink\", \"pink\", \"royalblue\", \"royalblue\", \"royalblue\", \"pink\", \"pink\", \"pink\", \"royalblue\", \"royalblue\", \"pink\", \"pink\", \"pink\", \"royalblue\", \"pink\", \"pink\", \"pink\", \"pink\", \"royalblue\", \"royalblue\", \"pink\", \"pink\", \"pink\", \"pink\", \"pink\", \"pink\", \"pink\", \"royalblue\", \"pink\", \"pink\", \"pink\", \"royalblue\", \"royalblue\", \"pink\", \"royalblue\", \"pink\", \"royalblue\", \"royalblue\", \"pink\", \"royalblue\", \"pink\", \"royalblue\", \"royalblue\", \"pink\", \"royalblue\", \"pink\", \"pink\", \"pink\", \"pink\", \"royalblue\", \"royalblue\", \"pink\", \"pink\", \"pink\", \"pink\", \"royalblue\", \"pink\", \"royalblue\", \"pink\", \"pink\", \"pink\", \"royalblue\", \"royalblue\", \"royalblue\", \"pink\", \"royalblue\", \"pink\", \"pink\", \"royalblue\", \"royalblue\", \"pink\", \"royalblue\", \"pink\", \"pink\", \"royalblue\", \"royalblue\", \"royalblue\", \"royalblue\", \"royalblue\", \"royalblue\", \"royalblue\", \"pink\", \"royalblue\", \"pink\", \"royalblue\", \"pink\", \"royalblue\", \"pink\", \"pink\", \"royalblue\", \"royalblue\", \"pink\", \"pink\", \"pink\", \"pink\", \"pink\", \"pink\", \"royalblue\", \"pink\", \"royalblue\", \"pink\", \"royalblue\", \"pink\", \"royalblue\", \"pink\", \"pink\", \"pink\", \"royalblue\", \"pink\", \"pink\", \"royalblue\", \"pink\", \"royalblue\", \"royalblue\", \"pink\", \"pink\", \"royalblue\", \"pink\", \"pink\", \"pink\", \"pink\", \"pink\", \"royalblue\", \"royalblue\", \"royalblue\", \"royalblue\", \"pink\", \"royalblue\", \"pink\", \"royalblue\", \"royalblue\", \"pink\", \"royalblue\", \"royalblue\", \"royalblue\", \"royalblue\", \"royalblue\", \"royalblue\", \"royalblue\", \"royalblue\", \"royalblue\", \"royalblue\", \"pink\", \"pink\", \"pink\", \"royalblue\", \"royalblue\", \"royalblue\", \"pink\", \"pink\", \"royalblue\", \"pink\", \"royalblue\", \"royalblue\", \"royalblue\", \"royalblue\", \"royalblue\", \"pink\", \"pink\", \"pink\", \"royalblue\", \"royalblue\", \"royalblue\", \"pink\", \"royalblue\", \"pink\", \"pink\", \"royalblue\", \"royalblue\", \"royalblue\", \"pink\", \"royalblue\", \"royalblue\", \"pink\", \"pink\", \"pink\", \"pink\", \"pink\", \"pink\", \"pink\", \"pink\", \"pink\", \"pink\", \"pink\", \"pink\", \"pink\", \"royalblue\", \"pink\", \"royalblue\", \"pink\", \"pink\", \"pink\", \"royalblue\", \"pink\", \"pink\", \"pink\", \"pink\", \"pink\", \"royalblue\", \"pink\", \"pink\", \"pink\", \"royalblue\", \"royalblue\", \"pink\", \"pink\", \"royalblue\", \"royalblue\", \"royalblue\", \"royalblue\", \"royalblue\", \"royalblue\", \"pink\", \"pink\", \"pink\", \"pink\", \"pink\", \"royalblue\", \"royalblue\", \"pink\", \"pink\", \"pink\", \"pink\", \"pink\", \"royalblue\", \"pink\", \"pink\", \"pink\", \"royalblue\", \"royalblue\", \"royalblue\", \"royalblue\", \"pink\", \"royalblue\", \"pink\", \"pink\", \"pink\", \"royalblue\", \"pink\", \"royalblue\", \"royalblue\", \"royalblue\", \"royalblue\", \"royalblue\", \"royalblue\", \"royalblue\", \"royalblue\", \"royalblue\", \"royalblue\", \"pink\", \"pink\", \"pink\", \"royalblue\", \"pink\", \"pink\", \"pink\", \"royalblue\", \"royalblue\", \"royalblue\", \"pink\", \"pink\", \"pink\", \"royalblue\", \"royalblue\", \"pink\", \"pink\", \"royalblue\", \"royalblue\", \"royalblue\", \"pink\", \"royalblue\", \"pink\", \"pink\", \"pink\", \"pink\", \"royalblue\", \"pink\", \"pink\", \"pink\", \"pink\", \"royalblue\", \"pink\", \"pink\", \"pink\", \"royalblue\", \"royalblue\", \"royalblue\", \"royalblue\", \"pink\", \"pink\", \"pink\", \"pink\", \"royalblue\", \"pink\", \"pink\", \"royalblue\", \"royalblue\", \"royalblue\", \"pink\", \"pink\", \"royalblue\", \"royalblue\", \"pink\", \"pink\", \"pink\", \"royalblue\", \"pink\", \"royalblue\", \"pink\", \"pink\", \"pink\", \"royalblue\", \"royalblue\", \"royalblue\", \"pink\", \"pink\", \"pink\", \"pink\", \"pink\", \"pink\", \"pink\", \"pink\", \"royalblue\", \"pink\", \"pink\", \"pink\", \"pink\", \"pink\", \"pink\", \"royalblue\", \"pink\", \"pink\", \"pink\", \"pink\", \"pink\", \"pink\", \"pink\", \"pink\", \"royalblue\", \"royalblue\", \"royalblue\", \"pink\", \"pink\", \"pink\", \"royalblue\", \"royalblue\", \"pink\", \"pink\", \"royalblue\", \"pink\", \"pink\", \"pink\", \"pink\", \"pink\", \"pink\", \"pink\", \"royalblue\", \"royalblue\", \"pink\", \"pink\", \"pink\", \"royalblue\", \"royalblue\", \"pink\", \"pink\", \"pink\", \"pink\", \"pink\", \"pink\", \"royalblue\", \"royalblue\", \"pink\", \"royalblue\", \"pink\", \"royalblue\", \"pink\", \"pink\", \"royalblue\", \"pink\", \"royalblue\", \"royalblue\", \"pink\", \"pink\", \"pink\", \"pink\", \"pink\", \"pink\", \"pink\", \"pink\", \"pink\", \"royalblue\", \"royalblue\", \"pink\", \"pink\", \"pink\", \"pink\", \"pink\", \"pink\", \"pink\", \"pink\", \"pink\", \"royalblue\", \"royalblue\", \"royalblue\", \"royalblue\", \"royalblue\", \"royalblue\", \"royalblue\", \"royalblue\", \"pink\", \"pink\", \"pink\", \"royalblue\", \"pink\", \"pink\", \"pink\", \"pink\", \"pink\", \"royalblue\", \"pink\", \"pink\", \"pink\", \"pink\", \"pink\", \"pink\", \"royalblue\", \"pink\", \"royalblue\", \"pink\", \"royalblue\", \"royalblue\", \"pink\", \"pink\", \"pink\", \"royalblue\", \"royalblue\", \"pink\", \"pink\", \"royalblue\", \"pink\", \"pink\", \"pink\", \"pink\", \"pink\", \"pink\", \"pink\", \"pink\", \"pink\", \"pink\", \"pink\", \"royalblue\", \"pink\", \"pink\", \"pink\", \"pink\", \"pink\", \"pink\", \"pink\", \"royalblue\", \"pink\", \"pink\", \"royalblue\", \"royalblue\", \"royalblue\", \"pink\", \"pink\", \"pink\", \"pink\", \"pink\", \"royalblue\", \"pink\", \"pink\", \"pink\", \"pink\", \"pink\", \"pink\", \"pink\", \"pink\", \"pink\", \"pink\", \"royalblue\", \"pink\", \"pink\", \"pink\", \"royalblue\", \"pink\", \"royalblue\", \"pink\", \"royalblue\", \"pink\", \"pink\", \"royalblue\", \"royalblue\", \"royalblue\", \"pink\", \"royalblue\", \"royalblue\", \"royalblue\", \"royalblue\", \"pink\", \"pink\", \"pink\", \"pink\", \"pink\", \"royalblue\", \"royalblue\", \"royalblue\", \"pink\", \"royalblue\", \"pink\", \"pink\", \"royalblue\", \"royalblue\", \"royalblue\", \"royalblue\", \"pink\", \"pink\", \"royalblue\", \"pink\", \"royalblue\", \"royalblue\", \"royalblue\", \"royalblue\", \"pink\", \"royalblue\", \"royalblue\", \"royalblue\", \"royalblue\", \"royalblue\", \"royalblue\", \"royalblue\", \"royalblue\", \"royalblue\", \"pink\", \"pink\", \"royalblue\", \"pink\", \"royalblue\", \"royalblue\", \"royalblue\", \"royalblue\", \"royalblue\", \"pink\", \"pink\", \"pink\", \"pink\", \"pink\", \"pink\", \"pink\", \"pink\", \"pink\", \"pink\", \"pink\", \"pink\", \"pink\", \"pink\", \"royalblue\", \"pink\", \"pink\", \"royalblue\", \"royalblue\", \"royalblue\", \"pink\", \"pink\", \"pink\", \"pink\", \"pink\", \"pink\", \"pink\", \"pink\", \"pink\", \"pink\", \"pink\", \"royalblue\", \"pink\", \"pink\", \"pink\", \"royalblue\", \"pink\", \"pink\", \"pink\", \"pink\", \"pink\", \"royalblue\", \"royalblue\", \"pink\", \"pink\", \"pink\", \"royalblue\", \"pink\", \"pink\", \"pink\", \"pink\", \"pink\", \"pink\", \"pink\", \"pink\", \"royalblue\", \"royalblue\", \"royalblue\", \"royalblue\", \"royalblue\", \"pink\", \"pink\", \"pink\", \"pink\", \"pink\", \"pink\", \"royalblue\", \"royalblue\", \"pink\", \"pink\", \"pink\", \"pink\", \"pink\", \"royalblue\", \"royalblue\", \"pink\", \"royalblue\", \"royalblue\", \"pink\", \"pink\", \"royalblue\", \"royalblue\", \"royalblue\", \"pink\", \"pink\", \"pink\", \"royalblue\", \"royalblue\", \"royalblue\", \"royalblue\", \"royalblue\", \"royalblue\", \"pink\", \"pink\", \"royalblue\", \"royalblue\", \"royalblue\", \"royalblue\", \"royalblue\", \"royalblue\", \"royalblue\", \"royalblue\", \"royalblue\", \"pink\", \"royalblue\", \"royalblue\", \"pink\", \"pink\", \"pink\", \"royalblue\", \"royalblue\", \"royalblue\", \"pink\", \"pink\", \"pink\", \"royalblue\", \"royalblue\", \"pink\", \"pink\", \"pink\", \"royalblue\", \"pink\", \"pink\", \"pink\", \"pink\", \"royalblue\", \"royalblue\", \"pink\", \"pink\", \"pink\", \"pink\", \"pink\", \"pink\", \"pink\", \"royalblue\", \"pink\", \"pink\", \"pink\", \"royalblue\", \"royalblue\", \"pink\", \"royalblue\", \"pink\", \"royalblue\", \"royalblue\", \"pink\", \"royalblue\", \"pink\", \"royalblue\", \"royalblue\", \"pink\", \"royalblue\", \"pink\", \"pink\", \"pink\", \"pink\", \"royalblue\", \"royalblue\", \"pink\", \"pink\", \"pink\", \"pink\", \"royalblue\", \"pink\", \"royalblue\", \"pink\", \"pink\", \"pink\", \"royalblue\", \"royalblue\", \"royalblue\", \"pink\", \"royalblue\", \"pink\", \"pink\", \"royalblue\", \"royalblue\", \"pink\", \"royalblue\", \"pink\", \"pink\", \"royalblue\", \"royalblue\", \"royalblue\", \"royalblue\", \"royalblue\", \"royalblue\", \"royalblue\", \"pink\", \"royalblue\", \"pink\", \"royalblue\", \"pink\", \"royalblue\", \"pink\", \"pink\", \"royalblue\", \"royalblue\", \"pink\", \"pink\", \"pink\", \"pink\", \"royalblue\", \"pink\", \"royalblue\", \"pink\", \"royalblue\", \"pink\", \"royalblue\", \"royalblue\", \"pink\", \"pink\", \"royalblue\", \"pink\", \"pink\", \"pink\", \"royalblue\", \"royalblue\", \"royalblue\", \"royalblue\", \"pink\", \"royalblue\", \"pink\", \"royalblue\", \"royalblue\", \"pink\", \"royalblue\", \"royalblue\", \"royalblue\", \"royalblue\", \"royalblue\", \"royalblue\", \"royalblue\", \"royalblue\", \"royalblue\", \"pink\", \"pink\", \"pink\", \"royalblue\", \"royalblue\", \"royalblue\", \"pink\", \"pink\", \"royalblue\", \"pink\", \"royalblue\", \"royalblue\", \"royalblue\", \"royalblue\", \"royalblue\", \"pink\", \"pink\", \"pink\", \"royalblue\", \"royalblue\", \"royalblue\", \"pink\", \"royalblue\", \"pink\", \"pink\", \"royalblue\", \"royalblue\", \"royalblue\", \"pink\", \"royalblue\", \"royalblue\", \"pink\", \"pink\", \"pink\", \"pink\", \"pink\", \"pink\", \"pink\", \"pink\", \"pink\", \"pink\", \"pink\", \"pink\", \"pink\", \"royalblue\", \"pink\", \"royalblue\", \"pink\", \"pink\", \"pink\", \"royalblue\", \"pink\", \"pink\", \"pink\", \"pink\", \"pink\", \"royalblue\", \"pink\", \"pink\", \"pink\", \"royalblue\", \"royalblue\", \"pink\", \"pink\", \"royalblue\", \"royalblue\", \"royalblue\", \"royalblue\", \"royalblue\", \"royalblue\", \"pink\", \"pink\", \"royalblue\", \"royalblue\", \"royalblue\", \"royalblue\", \"royalblue\", \"pink\", \"royalblue\", \"royalblue\", \"royalblue\", \"royalblue\", \"royalblue\", \"royalblue\", \"royalblue\", \"royalblue\", \"royalblue\", \"royalblue\", \"royalblue\", \"pink\", \"royalblue\", \"royalblue\", \"pink\", \"pink\", \"royalblue\", \"royalblue\", \"pink\", \"pink\", \"royalblue\", \"royalblue\", \"pink\", \"royalblue\", \"pink\", \"pink\", \"pink\", \"pink\", \"royalblue\", \"pink\", \"pink\", \"pink\", \"royalblue\", \"pink\", \"royalblue\", \"royalblue\", \"royalblue\", \"pink\", \"pink\", \"pink\", \"royalblue\", \"pink\", \"pink\", \"royalblue\", \"royalblue\", \"royalblue\", \"pink\", \"pink\", \"pink\", \"royalblue\", \"royalblue\", \"pink\", \"pink\", \"pink\", \"royalblue\", \"pink\", \"royalblue\", \"pink\", \"pink\", \"royalblue\", \"pink\", \"royalblue\", \"royalblue\", \"royalblue\", \"pink\", \"pink\", \"pink\", \"royalblue\", \"pink\", \"pink\", \"pink\", \"pink\", \"pink\", \"pink\", \"pink\", \"pink\", \"pink\", \"pink\", \"pink\", \"pink\", \"royalblue\", \"royalblue\", \"royalblue\", \"pink\", \"pink\", \"royalblue\", \"pink\", \"pink\", \"pink\", \"pink\", \"pink\", \"pink\", \"pink\", \"pink\", \"pink\", \"pink\", \"royalblue\", \"royalblue\", \"pink\", \"pink\", \"pink\", \"royalblue\", \"royalblue\", \"pink\", \"royalblue\", \"royalblue\", \"royalblue\", \"royalblue\", \"royalblue\", \"royalblue\", \"pink\", \"pink\", \"pink\", \"royalblue\", \"pink\", \"pink\", \"royalblue\", \"pink\", \"pink\", \"pink\", \"royalblue\", \"royalblue\", \"pink\", \"pink\", \"pink\", \"pink\", \"royalblue\", \"pink\", \"pink\", \"pink\", \"pink\", \"pink\", \"pink\", \"pink\", \"pink\", \"royalblue\", \"royalblue\", \"royalblue\", \"royalblue\", \"royalblue\", \"pink\", \"pink\", \"pink\", \"pink\", \"pink\", \"royalblue\", \"royalblue\", \"royalblue\", \"royalblue\", \"royalblue\"]}, \"name\": \"\", \"showlegend\": true, \"type\": \"pie\"}],                        {\"legend\": {\"tracegroupgap\": 0}, \"margin\": {\"t\": 60}, \"template\": {\"data\": {\"bar\": [{\"error_x\": {\"color\": \"#2a3f5f\"}, \"error_y\": {\"color\": \"#2a3f5f\"}, \"marker\": {\"line\": {\"color\": \"#E5ECF6\", \"width\": 0.5}}, \"type\": \"bar\"}], \"barpolar\": [{\"marker\": {\"line\": {\"color\": \"#E5ECF6\", \"width\": 0.5}}, \"type\": \"barpolar\"}], \"carpet\": [{\"aaxis\": {\"endlinecolor\": \"#2a3f5f\", \"gridcolor\": \"white\", \"linecolor\": \"white\", \"minorgridcolor\": \"white\", \"startlinecolor\": \"#2a3f5f\"}, \"baxis\": {\"endlinecolor\": \"#2a3f5f\", \"gridcolor\": \"white\", \"linecolor\": \"white\", \"minorgridcolor\": \"white\", \"startlinecolor\": \"#2a3f5f\"}, \"type\": \"carpet\"}], \"choropleth\": [{\"colorbar\": {\"outlinewidth\": 0, \"ticks\": \"\"}, \"type\": \"choropleth\"}], \"contour\": [{\"colorbar\": {\"outlinewidth\": 0, \"ticks\": \"\"}, \"colorscale\": [[0.0, \"#0d0887\"], [0.1111111111111111, \"#46039f\"], [0.2222222222222222, \"#7201a8\"], [0.3333333333333333, \"#9c179e\"], [0.4444444444444444, \"#bd3786\"], [0.5555555555555556, \"#d8576b\"], [0.6666666666666666, \"#ed7953\"], [0.7777777777777778, \"#fb9f3a\"], [0.8888888888888888, \"#fdca26\"], [1.0, \"#f0f921\"]], \"type\": \"contour\"}], \"contourcarpet\": [{\"colorbar\": {\"outlinewidth\": 0, \"ticks\": \"\"}, \"type\": \"contourcarpet\"}], \"heatmap\": [{\"colorbar\": {\"outlinewidth\": 0, \"ticks\": \"\"}, \"colorscale\": [[0.0, \"#0d0887\"], [0.1111111111111111, \"#46039f\"], [0.2222222222222222, \"#7201a8\"], [0.3333333333333333, \"#9c179e\"], [0.4444444444444444, \"#bd3786\"], [0.5555555555555556, \"#d8576b\"], [0.6666666666666666, \"#ed7953\"], [0.7777777777777778, \"#fb9f3a\"], [0.8888888888888888, \"#fdca26\"], [1.0, \"#f0f921\"]], \"type\": \"heatmap\"}], \"heatmapgl\": [{\"colorbar\": {\"outlinewidth\": 0, \"ticks\": \"\"}, \"colorscale\": [[0.0, \"#0d0887\"], [0.1111111111111111, \"#46039f\"], [0.2222222222222222, \"#7201a8\"], [0.3333333333333333, \"#9c179e\"], [0.4444444444444444, \"#bd3786\"], [0.5555555555555556, \"#d8576b\"], [0.6666666666666666, \"#ed7953\"], [0.7777777777777778, \"#fb9f3a\"], [0.8888888888888888, \"#fdca26\"], [1.0, \"#f0f921\"]], \"type\": \"heatmapgl\"}], \"histogram\": [{\"marker\": {\"colorbar\": {\"outlinewidth\": 0, \"ticks\": \"\"}}, \"type\": \"histogram\"}], \"histogram2d\": [{\"colorbar\": {\"outlinewidth\": 0, \"ticks\": \"\"}, \"colorscale\": [[0.0, \"#0d0887\"], [0.1111111111111111, \"#46039f\"], [0.2222222222222222, \"#7201a8\"], [0.3333333333333333, \"#9c179e\"], [0.4444444444444444, \"#bd3786\"], [0.5555555555555556, \"#d8576b\"], [0.6666666666666666, \"#ed7953\"], [0.7777777777777778, \"#fb9f3a\"], [0.8888888888888888, \"#fdca26\"], [1.0, \"#f0f921\"]], \"type\": \"histogram2d\"}], \"histogram2dcontour\": [{\"colorbar\": {\"outlinewidth\": 0, \"ticks\": \"\"}, \"colorscale\": [[0.0, \"#0d0887\"], [0.1111111111111111, \"#46039f\"], [0.2222222222222222, \"#7201a8\"], [0.3333333333333333, \"#9c179e\"], [0.4444444444444444, \"#bd3786\"], [0.5555555555555556, \"#d8576b\"], [0.6666666666666666, \"#ed7953\"], [0.7777777777777778, \"#fb9f3a\"], [0.8888888888888888, \"#fdca26\"], [1.0, \"#f0f921\"]], \"type\": \"histogram2dcontour\"}], \"mesh3d\": [{\"colorbar\": {\"outlinewidth\": 0, \"ticks\": \"\"}, \"type\": \"mesh3d\"}], \"parcoords\": [{\"line\": {\"colorbar\": {\"outlinewidth\": 0, \"ticks\": \"\"}}, \"type\": \"parcoords\"}], \"pie\": [{\"automargin\": true, \"type\": \"pie\"}], \"scatter\": [{\"marker\": {\"colorbar\": {\"outlinewidth\": 0, \"ticks\": \"\"}}, \"type\": \"scatter\"}], \"scatter3d\": [{\"line\": {\"colorbar\": {\"outlinewidth\": 0, \"ticks\": \"\"}}, \"marker\": {\"colorbar\": {\"outlinewidth\": 0, \"ticks\": \"\"}}, \"type\": \"scatter3d\"}], \"scattercarpet\": [{\"marker\": {\"colorbar\": {\"outlinewidth\": 0, \"ticks\": \"\"}}, \"type\": \"scattercarpet\"}], \"scattergeo\": [{\"marker\": {\"colorbar\": {\"outlinewidth\": 0, \"ticks\": \"\"}}, \"type\": \"scattergeo\"}], \"scattergl\": [{\"marker\": {\"colorbar\": {\"outlinewidth\": 0, \"ticks\": \"\"}}, \"type\": \"scattergl\"}], \"scattermapbox\": [{\"marker\": {\"colorbar\": {\"outlinewidth\": 0, \"ticks\": \"\"}}, \"type\": \"scattermapbox\"}], \"scatterpolar\": [{\"marker\": {\"colorbar\": {\"outlinewidth\": 0, \"ticks\": \"\"}}, \"type\": \"scatterpolar\"}], \"scatterpolargl\": [{\"marker\": {\"colorbar\": {\"outlinewidth\": 0, \"ticks\": \"\"}}, \"type\": \"scatterpolargl\"}], \"scatterternary\": [{\"marker\": {\"colorbar\": {\"outlinewidth\": 0, \"ticks\": \"\"}}, \"type\": \"scatterternary\"}], \"surface\": [{\"colorbar\": {\"outlinewidth\": 0, \"ticks\": \"\"}, \"colorscale\": [[0.0, \"#0d0887\"], [0.1111111111111111, \"#46039f\"], [0.2222222222222222, \"#7201a8\"], [0.3333333333333333, \"#9c179e\"], [0.4444444444444444, \"#bd3786\"], [0.5555555555555556, \"#d8576b\"], [0.6666666666666666, \"#ed7953\"], [0.7777777777777778, \"#fb9f3a\"], [0.8888888888888888, \"#fdca26\"], [1.0, \"#f0f921\"]], \"type\": \"surface\"}], \"table\": [{\"cells\": {\"fill\": {\"color\": \"#EBF0F8\"}, \"line\": {\"color\": \"white\"}}, \"header\": {\"fill\": {\"color\": \"#C8D4E3\"}, \"line\": {\"color\": \"white\"}}, \"type\": \"table\"}]}, \"layout\": {\"annotationdefaults\": {\"arrowcolor\": \"#2a3f5f\", \"arrowhead\": 0, \"arrowwidth\": 1}, \"autotypenumbers\": \"strict\", \"coloraxis\": {\"colorbar\": {\"outlinewidth\": 0, \"ticks\": \"\"}}, \"colorscale\": {\"diverging\": [[0, \"#8e0152\"], [0.1, \"#c51b7d\"], [0.2, \"#de77ae\"], [0.3, \"#f1b6da\"], [0.4, \"#fde0ef\"], [0.5, \"#f7f7f7\"], [0.6, \"#e6f5d0\"], [0.7, \"#b8e186\"], [0.8, \"#7fbc41\"], [0.9, \"#4d9221\"], [1, \"#276419\"]], \"sequential\": [[0.0, \"#0d0887\"], [0.1111111111111111, \"#46039f\"], [0.2222222222222222, \"#7201a8\"], [0.3333333333333333, \"#9c179e\"], [0.4444444444444444, \"#bd3786\"], [0.5555555555555556, \"#d8576b\"], [0.6666666666666666, \"#ed7953\"], [0.7777777777777778, \"#fb9f3a\"], [0.8888888888888888, \"#fdca26\"], [1.0, \"#f0f921\"]], \"sequentialminus\": [[0.0, \"#0d0887\"], [0.1111111111111111, \"#46039f\"], [0.2222222222222222, \"#7201a8\"], [0.3333333333333333, \"#9c179e\"], [0.4444444444444444, \"#bd3786\"], [0.5555555555555556, \"#d8576b\"], [0.6666666666666666, \"#ed7953\"], [0.7777777777777778, \"#fb9f3a\"], [0.8888888888888888, \"#fdca26\"], [1.0, \"#f0f921\"]]}, \"colorway\": [\"#636efa\", \"#EF553B\", \"#00cc96\", \"#ab63fa\", \"#FFA15A\", \"#19d3f3\", \"#FF6692\", \"#B6E880\", \"#FF97FF\", \"#FECB52\"], \"font\": {\"color\": \"#2a3f5f\"}, \"geo\": {\"bgcolor\": \"white\", \"lakecolor\": \"white\", \"landcolor\": \"#E5ECF6\", \"showlakes\": true, \"showland\": true, \"subunitcolor\": \"white\"}, \"hoverlabel\": {\"align\": \"left\"}, \"hovermode\": \"closest\", \"mapbox\": {\"style\": \"light\"}, \"paper_bgcolor\": \"white\", \"plot_bgcolor\": \"#E5ECF6\", \"polar\": {\"angularaxis\": {\"gridcolor\": \"white\", \"linecolor\": \"white\", \"ticks\": \"\"}, \"bgcolor\": \"#E5ECF6\", \"radialaxis\": {\"gridcolor\": \"white\", \"linecolor\": \"white\", \"ticks\": \"\"}}, \"scene\": {\"xaxis\": {\"backgroundcolor\": \"#E5ECF6\", \"gridcolor\": \"white\", \"gridwidth\": 2, \"linecolor\": \"white\", \"showbackground\": true, \"ticks\": \"\", \"zerolinecolor\": \"white\"}, \"yaxis\": {\"backgroundcolor\": \"#E5ECF6\", \"gridcolor\": \"white\", \"gridwidth\": 2, \"linecolor\": \"white\", \"showbackground\": true, \"ticks\": \"\", \"zerolinecolor\": \"white\"}, \"zaxis\": {\"backgroundcolor\": \"#E5ECF6\", \"gridcolor\": \"white\", \"gridwidth\": 2, \"linecolor\": \"white\", \"showbackground\": true, \"ticks\": \"\", \"zerolinecolor\": \"white\"}}, \"shapedefaults\": {\"line\": {\"color\": \"#2a3f5f\"}}, \"ternary\": {\"aaxis\": {\"gridcolor\": \"white\", \"linecolor\": \"white\", \"ticks\": \"\"}, \"baxis\": {\"gridcolor\": \"white\", \"linecolor\": \"white\", \"ticks\": \"\"}, \"bgcolor\": \"#E5ECF6\", \"caxis\": {\"gridcolor\": \"white\", \"linecolor\": \"white\", \"ticks\": \"\"}}, \"title\": {\"x\": 0.05}, \"xaxis\": {\"automargin\": true, \"gridcolor\": \"white\", \"linecolor\": \"white\", \"ticks\": \"\", \"title\": {\"standoff\": 15}, \"zerolinecolor\": \"white\", \"zerolinewidth\": 2}, \"yaxis\": {\"automargin\": true, \"gridcolor\": \"white\", \"linecolor\": \"white\", \"ticks\": \"\", \"title\": {\"standoff\": 15}, \"zerolinecolor\": \"white\", \"zerolinewidth\": 2}}}, \"title\": {\"text\": \"Distribuzione Maschi/Femmine\", \"x\": 0.5, \"xanchor\": \"center\", \"y\": 0.95, \"yanchor\": \"top\"}},                        {\"responsive\": true}                    ).then(function(){\n",
       "                            \n",
       "var gd = document.getElementById('7eea70d2-c517-4594-937e-29df7f7d62a4');\n",
       "var x = new MutationObserver(function (mutations, observer) {{\n",
       "        var display = window.getComputedStyle(gd).display;\n",
       "        if (!display || display === 'none') {{\n",
       "            console.log([gd, 'removed!']);\n",
       "            Plotly.purge(gd);\n",
       "            observer.disconnect();\n",
       "        }}\n",
       "}});\n",
       "\n",
       "// Listen for the removal of the full notebook cells\n",
       "var notebookContainer = gd.closest('#notebook-container');\n",
       "if (notebookContainer) {{\n",
       "    x.observe(notebookContainer, {childList: true});\n",
       "}}\n",
       "\n",
       "// Listen for the clearing of the current output cell\n",
       "var outputEl = gd.closest('.output');\n",
       "if (outputEl) {{\n",
       "    x.observe(outputEl, {childList: true});\n",
       "}}\n",
       "\n",
       "                        })                };                });            </script>        </div>"
      ]
     },
     "metadata": {},
     "output_type": "display_data"
    }
   ],
   "source": [
    "#fig = px.pie(gender_count, values='count', names='gender', color='gender', color_discrete_map={'F':'pink', 'M':'royalblue'})\n",
    "fig = px.pie(df, names='sex', color='sex', color_discrete_map={'F':'pink', 'M':'royalblue'})\n",
    "fig.update_layout(\n",
    "    title=dict(\n",
    "        text='Distribuzione Maschi/Femmine',\n",
    "        y=0.95,\n",
    "        x=0.5,\n",
    "        xanchor='center',\n",
    "        yanchor='top'        \n",
    "    )\n",
    ")\n",
    "fig.show()"
   ]
  },
  {
   "cell_type": "code",
   "execution_count": null,
   "metadata": {},
   "outputs": [],
   "source": []
  },
  {
   "cell_type": "markdown",
   "metadata": {},
   "source": [
    "# Coefficienti di correlazione\n",
    "\n",
    "Verifichiamo se esistono eventuali correlazioni tra le diverse feature.\n",
    "Come ci aspettavamo `G1`,`G2`,`G3` hanno una forte correlazione tra di loro.\n",
    "Tra le altre feaures,`failures` (bocciature passate) e `Medu` (livello istruzione madre) potrebbero avere una certa correlazione con i voti.\n"
   ]
  },
  {
   "cell_type": "code",
   "execution_count": 61,
   "metadata": {},
   "outputs": [
    {
     "data": {
      "text/plain": [
       "<AxesSubplot:>"
      ]
     },
     "execution_count": 61,
     "metadata": {},
     "output_type": "execute_result"
    },
    {
     "data": {
      "image/png": "[encoded data removed]",
      "text/plain": [
       "<Figure size 864x576 with 2 Axes>"
      ]
     },
     "metadata": {
      "needs_background": "light"
     },
     "output_type": "display_data"
    }
   ],
   "source": [
    "# Calcolo dei coefficienti di correlazione tra le features\n",
    "corr_matrix = df.corr().abs()\n",
    "kot = corr_matrix[corr_matrix>=.1]\n",
    "plt.figure(figsize=(12,8))\n",
    "sns.heatmap(kot, cmap=\"Greens\")\n"
   ]
  },
  {
   "cell_type": "markdown",
   "metadata": {},
   "source": [
    "# Preprocessing dei dati\n",
    "\n",
    "I dati contenuti nel DataFrame appena caricato non possono essere usati direttamente per l'addestramento di un modello di Machine Learning: la presenza di feature eterogenee (stringhe, interi e numeri floating point) deve essere gestita attraverso un'opportuna fase di preprocessing. Per poter addestrare un modello di Machine Learning è necessario convertire i dati del **DataFrame** in valori numerici e memorizzarli in un `ndarray`."
   ]
  },
  {
   "cell_type": "code",
   "execution_count": 106,
   "metadata": {},
   "outputs": [],
   "source": [
    "# usiamo Mother e Father education\n",
    "#columns = ['Medu','Fedu']\n",
    "columns = ['G1','G2']\n",
    "indexes = [df.columns.get_loc(col) for col in columns]\n",
    "data_x = df.values[:,indexes]\n",
    "data_x = data_x.astype(np.float32)\n",
    "\n",
    "# data_y conterrà solo G3\n",
    "data_y = df.values[:,-1]\n",
    "data_y = data_y.astype(np.float32)"
   ]
  },
  {
   "cell_type": "markdown",
   "metadata": {},
   "source": [
    "# Split validation set\n",
    "Dividiamo il dataset in **train** (60%) e **validation** (40%)"
   ]
  },
  {
   "cell_type": "code",
   "execution_count": 107,
   "metadata": {},
   "outputs": [],
   "source": [
    "valid_portion = 0.4\n",
    "train_x, validation_x, train_y, validation_y = train_test_split(data_x, data_y, test_size=valid_portion, random_state=1)"
   ]
  },
  {
   "cell_type": "markdown",
   "metadata": {},
   "source": [
    "# Regressione\n",
    "La libreria Scikit-learn mette a disposizione diversi algoritmi per la regressione. Durante questa esercitazione verrà fatto uso di LinearRegression e di RandomForestRegressor.\n",
    "L'obiettivo è quello di minimizzare l'RMSE, ovvero lo scostamento tra il valore predetto e quello reale.\n",
    "Nella cella seguente è fornito il codice per creare e addestrare un'istanza di LinearRegression."
   ]
  },
  {
   "cell_type": "code",
   "execution_count": 108,
   "metadata": {},
   "outputs": [
    {
     "name": "stdout",
     "output_type": "stream",
     "text": [
      "Train RMSE:  1.5428427\n",
      "Validation RMSE:  1.6404667\n",
      "R2 score: 0.8156157288392467\n"
     ]
    }
   ],
   "source": [
    "# Addestramento di un LinearRegression\n",
    "lin_reg = LinearRegression()\n",
    "lin_reg.fit(train_x, train_y)\n",
    "\n",
    "# Ottenimento delle predizioni\n",
    "train_y_predicted = lin_reg.predict(train_x)\n",
    "\n",
    "# Calcolo del RMSE\n",
    "rmse = np.sqrt(mean_squared_error(train_y, train_y_predicted))\n",
    "print('Train RMSE: ', rmse) \n",
    "\n",
    "# Ottenimento delle predizioni (validation) e calcolo RMSE\n",
    "validation_y_predicted = lin_reg.predict(validation_x)\n",
    "rmse = np.sqrt(mean_squared_error(validation_y, validation_y_predicted))\n",
    "print('Validation RMSE: ', rmse)\n",
    "\n",
    "print('R2 score:', lin_reg.score(validation_x, validation_y))"
   ]
  },
  {
   "cell_type": "code",
   "execution_count": 109,
   "metadata": {},
   "outputs": [
    {
     "data": {
      "image/png": "[encoded data removed]",
      "text/plain": [
       "<Figure size 1008x288 with 1 Axes>"
      ]
     },
     "metadata": {
      "needs_background": "light"
     },
     "output_type": "display_data"
    },
    {
     "data": {
      "image/png": "[encoded data removed]",
      "text/plain": [
       "<Figure size 1008x288 with 1 Axes>"
      ]
     },
     "metadata": {
      "needs_background": "light"
     },
     "output_type": "display_data"
    }
   ],
   "source": [
    "# Calcola l'errore come scostamento delle predizioni dal valore reale\n",
    "errors = np.abs(validation_y - validation_y_predicted) \n",
    "\n",
    "plt.figure(figsize=(14, 4))\n",
    "plt.title(\"Distribuzione degli errori\")\n",
    "plt.hist(x = errors, bins=50)\n",
    "plt.show()\n",
    "\n",
    "# Visualizza l'andamento reale e quello predetto\n",
    "plt.figure(figsize=(14, 4))\n",
    "plt.title(\"Confronto tra valori reali e prediction\")\n",
    "plt.plot(validation_y[0:1000], label='Real')\n",
    "plt.plot(validation_y_predicted[0:1000], label='Prediction')\n",
    "plt.legend(bbox_to_anchor=(1.02, 1), loc='upper left', borderaxespad=0.)\n",
    "plt.show()"
   ]
  }
 ],
 "metadata": {
  "kernelspec": {
   "display_name": "Python 3",
   "language": "python",
   "name": "python3"
  },
  "language_info": {
   "codemirror_mode": {
    "name": "ipython",
    "version": 3
   },
   "file_extension": ".py",
   "mimetype": "text/x-python",
   "name": "python",
   "nbconvert_exporter": "python",
   "pygments_lexer": "ipython3",
   "version": "3.8.5"
  }
 },
 "nbformat": 4,
 "nbformat_minor": 4
}
