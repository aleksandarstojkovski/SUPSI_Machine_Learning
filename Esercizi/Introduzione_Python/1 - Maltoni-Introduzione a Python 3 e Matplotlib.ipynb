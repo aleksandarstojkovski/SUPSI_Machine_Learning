{
 "cells": [
  {
   "cell_type": "markdown",
   "metadata": {},
   "source": [
    "# Contenuti\n",
    "- [In questa esercitazione](#In-questa-esercitazione)\n",
    "    - [Introduzione a Python 3](#Introduzione-a-Python-3)\n",
    "    - [Introduzione a Jupyter](#Introduzione-a-Jupyter)\n",
    "- [Python](#Python)\n",
    "    - [Variabili](#Variabili)\n",
    "    - [Tipi di base](#Tipi-di-base)\n",
    "        - [Numeri](#Numeri)\n",
    "        - [Booleani](#Booleani)\n",
    "        - [Stringhe](#Stringhe)\n",
    "    - [Tipi complessi](#Tipi-complessi)\n",
    "        - [Liste](#Liste)\n",
    "            - [Slicing](#Slicing)\n",
    "        - [Tuple](#Tuple)\n",
    "        - [Set](#Set)\n",
    "        - [Dizionari](#Dizionari)\n",
    "        - [Esercizio 1](#Esercizio-1)\n",
    "    - [Blocchi condizionali e cicli](#Blocchi-condizionali-e-cicli)\n",
    "    - [Funzioni](#Funzioni)\n",
    "- [Matplotlib](#Matplotlib)\n",
    "    - [Import](#Import)\n",
    "    - [Hello World](#Hello-World)\n",
    "    - [Caratteristiche e ulteriori funzionalità](#Caratteristiche-e-ulteriori-funzionalità)\n",
    "        - [Opzioni grafiche](#Opzioni-grafiche)\n",
    "        - [Istogrammi](#Istogrammi)"
   ]
  },
  {
   "cell_type": "markdown",
   "metadata": {
    "editable": false
   },
   "source": [
    "# Benvenuti\n",
    "Benvenuti alla prima lezione di laboratorio. L'obiettivo delle esercitazioni è quello di fornire una panoramica generale sugli strumenti e le metodologie utilizzate nell'ambito Machine Learning. Alla fine del corso lo studente avrà una conoscenza di base del linguaggio di riferimento (**Python**) e di alcune tra le librerie più utilizzate sia in ambito accademico che industriale (es. **scikit-learn**, **TensorFlow**)."
   ]
  },
  {
   "cell_type": "markdown",
   "metadata": {
    "editable": false
   },
   "source": [
    "# In questa esercitazione\n",
    "## Introduzione a Python 3\n",
    "Python è uno dei linguaggi con il più alto livello di astrazione. Ciò significa che con poche linee di codice è possibile effettuare azioni molto complesse. In un contesto di lavoro o accademico, questo è un notevole vantaggio poichè permette di concentrarsi sugli algoritmi, tralasciando i dettagli. Inoltre, Python è incluso nella versione base di molte distribuzioni Linux e possiede dei package manager ottimizzati per l’analisi di dati su larga scala e software per l’analisi di dati in parallelo. Questi motivi hanno spinto diverse librerie e *framework* a convergere su di esso rendendolo il linguaggio di riferimento nell'ambito del Machine Learning. \n",
    "\n",
    "### Caratteristiche principali\n",
    "- Linguaggio interpretato\n",
    "- Paradigmi di programmazione supportati:\n",
    "    - *object-oriented* (con supporto all'ereditarietà multipla)\n",
    "    - imperativo\n",
    "    - funzionale\n",
    "- Tipizzazione dinamica forte: il controllo dei tipi viene eseguito runtime (variabili non tipizzate).\n",
    "- Gestione automatica della memoria\n",
    "- Sintassi pulita e snella\n",
    "- Garantisce lo sviluppo rapido di applicazioni\n",
    "- Disponibilità di numerose librerie (*free*) da utilizzare nei più [svariati ambiti](https://wiki.python.org/moin/UsefulModules)\n",
    "\n",
    "## Introduzione a Jupyter\n",
    "A differenza di un IDE classico, **Jupyter** permette di alternare parti di descrizione a parti di codice liberamente modificabile. Il codice contenuto in una cella può essere eseguito portando il mouse su di essa e cliccando sulla freccia che appare (Jupyter 5.6.0 e superiori) oppure premendo **Ctrl+Enter** dopo aver selezionato la cella.\n",
    "\n",
    "Jupyter esegue il codice contenuto nelle celle in una apposita istanza dell'interprete di Python che manterrà internamente lo stato delle variabili e la lista delle funzioni dichiarate. Pertanto, la dichiarazione o la modifica di una variabile, effettuata eseguendo il codice contenuto in una cella, sarà visibile anche in tutte le altre. L'ambiente di esecuzione può essere resettato scegliendo l'opzione **Restart & Clear Output** dal menù **Kernel**.\n",
    "\n",
    "Provate ora a eseguire il codice contenuto nella cella seguente. Attenzione: la prima esecuzione potrebbe richiedere qualche secondo."
   ]
  },
  {
   "cell_type": "code",
   "execution_count": null,
   "metadata": {},
   "outputs": [],
   "source": [
    "print('Hello World!')"
   ]
  },
  {
   "cell_type": "markdown",
   "metadata": {
    "editable": false
   },
   "source": [
    "Il codice viene eseguito e il risultato visualizzato immediatamente sotto.\n",
    "\n",
    "Ricordate, durante lo svolgimento degli esercizi, di salvare spesso le modifiche apportate al notebook: Jupyter non salva automaticamente le modifiche apportate e potreste perdere i vostri risultati.\n",
    "\n",
    "Dopo questa breve introduzione passiamo al vero obiettivo di questa lezione: prendere familiarità con il linguaggio Python."
   ]
  },
  {
   "cell_type": "markdown",
   "metadata": {
    "editable": false
   },
   "source": [
    "# Python\n",
    "Di seguito saranno presentate le caratteristiche principali di Python utili per lo svolgimento delle esercitazioni. Per ulteriori approfondimenti si consiglia di consultare il seguente [tutorial](http://cs231n.github.io/python-numpy-tutorial/) oppure il [sito ufficiale](https://www.python.org/).\n",
    "\n",
    "La versione che utilizzeremo per le esercitazioni è la 3.6 ma online è ancora possibile trovare numerosi esempi e progetti basati sulla versione 2.\n",
    "\n",
    "Attenzione: tra le versioni 2 e 3 esistono delle differenze nella sintassi tra cui le più importanti sono:\n",
    "\n",
    "Python 2             | Python 3\n",
    "-------------        | -------------\n",
    "print x              | print(x)\n",
    "4/3 = 1              | 4/3 = 1.33333, 4//3 = 1\n",
    "raw_input()          | input()\n",
    "file(“my_file.txt”)  | open(“my_file.txt”)\n",
    "xrange()             | range()\n",
    "\n",
    "\n",
    "## Variabili\n",
    "Python è un linguaggio interpretato e la tipizzazione è dinamica. La dichiarazione di una variabile avviene semplicemente assegnando un valore alla variabile che intendiamo dichiarare."
   ]
  },
  {
   "cell_type": "code",
   "execution_count": null,
   "metadata": {},
   "outputs": [],
   "source": [
    "variable = 42\n",
    "print(type(variable))"
   ]
  },
  {
   "cell_type": "markdown",
   "metadata": {
    "editable": false
   },
   "source": [
    "Come accennato in precedenza, le variabili e le funzioni sono visibili in tutto il notebook, purchè siano state eseguite le celle che ne contengono le dichiarazioni. Ad esempio, se non avete eseguito la cella precedente, il codice seguente vi restituirà un errore."
   ]
  },
  {
   "cell_type": "code",
   "execution_count": null,
   "metadata": {},
   "outputs": [],
   "source": [
    "print(variable)"
   ]
  },
  {
   "cell_type": "markdown",
   "metadata": {
    "editable": false
   },
   "source": [
    "Essendo Python un linguaggio a tipizzazione dinamica è possibile modificare il tipo delle variabili durante l'esecuzione."
   ]
  },
  {
   "cell_type": "code",
   "execution_count": null,
   "metadata": {},
   "outputs": [],
   "source": [
    "variable = 'Hi there!'\n",
    "print(type(variable))\n",
    "print(variable)"
   ]
  },
  {
   "cell_type": "markdown",
   "metadata": {
    "editable": false
   },
   "source": [
    "Come avrete notato, la stampa di informazioni su *standard output* è affidata alla funzione **print(...)**. Questa accetta in input un numero variabile di parametri. Provate a modificare il contenuto di *my_name* e a eseguire la cella seguente."
   ]
  },
  {
   "cell_type": "code",
   "execution_count": null,
   "metadata": {},
   "outputs": [],
   "source": [
    "my_name = '?'\n",
    "\n",
    "# Print aggiunge uno spazio tra i parametri e infine aggiunge una newline (\\n) alla fine dell'output\n",
    "print('Ciao', my_name) "
   ]
  },
  {
   "cell_type": "markdown",
   "metadata": {
    "editable": false
   },
   "source": [
    "## Tipi di base\n",
    "Come accade per altri linguaggi, Python mette a disposizione un insieme di tipi di base: *integer*, *float*, *boolean*, e *string*."
   ]
  },
  {
   "cell_type": "markdown",
   "metadata": {
    "editable": false
   },
   "source": [
    "### Numeri"
   ]
  },
  {
   "cell_type": "code",
   "execution_count": null,
   "metadata": {},
   "outputs": [],
   "source": [
    "x = 3\n",
    "print(type(x)) # Stampa \"<class 'int'>\"\n",
    "print(x)       # Stampa \"3\"\n",
    "print(x + 1)   # Addizione; stampa \"4\"\n",
    "print(x - 1)   # Sottrazione; stampa \"2\"\n",
    "print(x * 2)   # Moltiplicazione; stampa \"6\"\n",
    "print(x ** 2)  # Elevazione a potenza; stampa \"9\"\n",
    "x += 1\n",
    "print(x)       # Stampa \"4\"\n",
    "x *= 2\n",
    "print(x)       # Stampa \"8\"\n",
    "y = 2.5\n",
    "print(type(y)) # Stampa \"<class 'float'>\"\n",
    "print(y, y + 1, y * 2, y ** 2) # Stampa \"2.5 3.5 5.0 6.25\"\n",
    "\n",
    "# Nota: non sono presenti gli operatori unari di incremento e decremento\n",
    "# x++ -> Errore\n",
    "# x-- -> Errore"
   ]
  },
  {
   "cell_type": "markdown",
   "metadata": {
    "editable": false
   },
   "source": [
    "### Booleani\n",
    "In Python i valori *vero* e *falso* sono rispettivamente **True** e **False**, obbligatoriamente con la prima lettera maiuscola."
   ]
  },
  {
   "cell_type": "code",
   "execution_count": null,
   "metadata": {},
   "outputs": [],
   "source": [
    "t = True\n",
    "f = False\n",
    "print(type(t)) # Stampa \"<class 'bool'>\"\n",
    "print(t and f) # AND; stampa \"False\"\n",
    "print(t or f)  # OR; stampa \"True\"\n",
    "print(not t)   # NOT; stampa \"False\"\n",
    "print(t != f)  # XOR; stampa \"True\""
   ]
  },
  {
   "cell_type": "markdown",
   "metadata": {
    "editable": false
   },
   "source": [
    "### Stringhe\n",
    "Il contenuto delle stringhe può essere esplicitato sia usando gli apici singoli (') che doppi (\").\n",
    "\n",
    "Le principali operazioni per la manipolazione delle stringhe sono disponibili senza dover far uso di librerie esterne."
   ]
  },
  {
   "cell_type": "code",
   "execution_count": null,
   "metadata": {},
   "outputs": [],
   "source": [
    "hello = 'hello'                          # È possibile dichiarare le stringhe usando gli apici singoli\n",
    "world = \"world\"                          # oppure gli apici doppi; non vi è alcuna differenza.\n",
    "\n",
    "print(type(hello))                       # Stampa \"<class 'str'>\"\n",
    "\n",
    "print(hello)                             # Stampa \"hello\"\n",
    "print(len(hello))                        # Lunghezza della stringa; stampa \"5\"\n",
    "\n",
    "hw = hello + ' ' + world                 # Concatenazione\n",
    "print(hw)                                # Stampa \"hello world\"\n",
    "\n",
    "hw12 = '%s %s %d' % (hello, world, 12)   # Formattazione in stile sprintf\n",
    "print(hw12)                              # Stampa \"hello world 12\""
   ]
  },
  {
   "cell_type": "markdown",
   "metadata": {
    "editable": false
   },
   "source": [
    "La classe **str** mette a disposizione numerosi metodi tra cui:"
   ]
  },
  {
   "cell_type": "code",
   "execution_count": null,
   "metadata": {},
   "outputs": [],
   "source": [
    "s = 'hello'\n",
    "print(s.capitalize()) # Rende il primo carattere maiuscolo e il resto minuscolo; \n",
    "                      # stampa \"Hello\"\n",
    "print(s.upper())      # Converte una stringa in maiuscolo;\n",
    "                      # stampa \"HELLO\"\n",
    "print(s.rjust(7))     # Giustifica a destra, aggiungendo spazi;\n",
    "                      # stampa \"  hello\"\n",
    "print(s.center(7))    # Centra una stringa, aggiungendo spazi;\n",
    "                      # stampa \" hello \"\n",
    "print(s.replace('l', '(ell)')) # Sostituisce le istanze di una sottostringa; \n",
    "                               # stampa \"he(ell)(ell)o\"\n",
    "print(' world '.strip())       # Elimina gli spazi a inizio e fine stringa;\n",
    "                               # stampa \"world\""
   ]
  },
  {
   "cell_type": "markdown",
   "metadata": {
    "editable": false
   },
   "source": [
    "## Tipi complessi\n",
    "Python include diversi tipi di contenitori: *list*, *dictionary*, *set* e *tuple*."
   ]
  },
  {
   "cell_type": "markdown",
   "metadata": {
    "editable": false
   },
   "source": [
    "### Liste\n",
    "In Python le liste sono estremamente simili agli *array* incontrati in altri linguaggi. La principale differenza è che **in Python una lista può contenere elementi di tipi differenti**.\n",
    "\n",
    "La funzione **print(...)** è in grado di visualizzare il contenuto delle liste."
   ]
  },
  {
   "cell_type": "code",
   "execution_count": null,
   "metadata": {},
   "outputs": [],
   "source": [
    "xs = [3, 1, 2]       # Crea una lista\n",
    "print(type(xs))      # Stampa \"<class 'list'>\"\n",
    "print(xs, xs[2])     # Stampa \"[3, 1, 2] 2\"\n",
    "print(xs[-1])        # Gli indici negativi contano dalla fine della lista; stampa \"2\"\n",
    "xs[2] = 'foo'        # Le liste possono contenere elementi di tipi diversi\n",
    "print(xs)            # Stampa \"[3, 1, 'foo']\"\n",
    "xs.append('bar')     # Aggiungi un elemento alla fine della lista\n",
    "print(xs)            # Stampa \"[3, 1, 'foo', 'bar']\"\n",
    "x = xs.pop()         # Rimuove e restituisce l'ultimo elemento\n",
    "print(x, xs)         # Stampa \"bar [3, 1, 'foo']\"\n",
    "\n",
    "list1 = [1, 2]\n",
    "list2 = [0, 0]\n",
    "print(list1 + list2) # Esempio di concatenazione\n",
    "\n",
    "print(len(xs))       # La lunghezza di una lista è ottenibile utilizzando len(list)"
   ]
  },
  {
   "cell_type": "markdown",
   "metadata": {
    "editable": false
   },
   "source": [
    "#### Slicing\n",
    "Oltre a poter accedere agli elementi di una lista uno alla volta vi è una sintassi apposita e coincisa per accedere a sotto-liste:"
   ]
  },
  {
   "cell_type": "code",
   "execution_count": null,
   "metadata": {},
   "outputs": [],
   "source": [
    "nums = list(range(5)) # range è una funzione che crea una lista di interi\n",
    "print(nums)           # Stampa \"[0, 1, 2, 3, 4]\"\n",
    "print(nums[2:4])      # Ottiene una slice dall'indice 2 al 4 (escluso); stampa \"[2, 3]\"\n",
    "print(nums[2:])       # Ottiene una slice dall'indice 2 alla fine; stampa \"[2, 3, 4]\"\n",
    "print(nums[:2])       # Ottiene una slice dall'inizio all'indice 2 (escluso); stampa \"[0, 1]\"\n",
    "print(nums[:])        # Ottiene una slice di tutta la lista; stampa \"[0, 1, 2, 3, 4]\"\n",
    "print(nums[:-1])      # Gli indici di una slice possono essere negativi; stampa \"[0, 1, 2, 3]\"\n",
    "nums[2:4] = [8, 9]    # Assegna una nuova sotto-lista a una slice\n",
    "print(nums)           # Stampa \"[0, 1, 8, 9, 4]\""
   ]
  },
  {
   "cell_type": "markdown",
   "metadata": {
    "editable": false
   },
   "source": [
    "### Tuple\n",
    "Le **tuple** sono estremamente simili alle liste. Le uniche differenze risiedono nella sintassi con cui vengono dichiarate e dal fatto che, differentemente dalle liste, le tuple sono **immutabili**: questo significa che non è possibile riassegnare un elemento di una tupla. Tuttavia l'immutabilità non si applica anche allo stato interno degli elementi contenuti. Per il resto valgono tutte le operazioni viste in precedenza per le liste."
   ]
  },
  {
   "cell_type": "code",
   "execution_count": null,
   "metadata": {},
   "outputs": [],
   "source": [
    "tuple_example = (1, 'a', [3, 6])\n",
    "\n",
    "# Stampa \"<class 'tuple'>\"\n",
    "print(type(tuple_example))\n",
    "\n",
    "# Valgono le operazioni di slice\n",
    "print('Slice:', tuple_example[0:2])\n",
    "\n",
    "# Vale l'operazione di concatenazione\n",
    "print('Concatenazione:', tuple_example + ('Hi', 'There'))\n",
    "\n",
    "# È possibile dichiarare una tupla lasciando una ',' finale.\n",
    "# A volte questo è necessario: provate a rimuovere la ',' nella linea seguente e a ri-eseguire il codice\n",
    "tuple_example2 = (5,)\n",
    "print('Concatenazione:', tuple_example + tuple_example2)\n",
    "\n",
    "#esempioTupla[0] = 3 --> errore, le tuple sono immutabili\n",
    "\n",
    "# Gli elementi contenuti in una tupla hanno comunque uno stato mutabile\n",
    "tuple_example[2][0] = 4\n",
    "print('Dopo la modifica:', tuple_example)"
   ]
  },
  {
   "cell_type": "markdown",
   "metadata": {
    "editable": false
   },
   "source": [
    "### Set\n",
    "I **set** contengono un insieme **non ordinato** di elementi mutabili che possono essere anche di tipi diversi. La sintassi per la dichiarazione di un set è simile a quella utilizzata per dichiarare una lista o una tupla, ma vengono utilizzate le parentesi graffe per racchiudere gli elementi."
   ]
  },
  {
   "cell_type": "code",
   "execution_count": null,
   "metadata": {},
   "outputs": [],
   "source": [
    "set_example = {'a', 'b', 'a', 'c'}\n",
    "print(type(set_example))"
   ]
  },
  {
   "cell_type": "markdown",
   "metadata": {
    "editable": false
   },
   "source": [
    "Come avviene per altre strutture dati, l'istruzione **print(...)** è in grado di stampare il contenuto di una variabile di tipo set. Da notare che gli elementi duplicati sono stati rimossi e l'ordine iniziale degli elementi non è stato preservato."
   ]
  },
  {
   "cell_type": "code",
   "execution_count": null,
   "metadata": {},
   "outputs": [],
   "source": [
    "print(set_example)\n",
    "\n",
    "# È possibile utilizzare len(...) per ottenere il numero di elementi contenuti\n",
    "print('Numero elementi nel set:', len(set_example))"
   ]
  },
  {
   "cell_type": "markdown",
   "metadata": {
    "editable": false,
    "homework": true
   },
   "source": [
    "A differenza di liste e tuple, i set non possono contenere al loro interno elementi mutabili (es. una lista)."
   ]
  },
  {
   "cell_type": "code",
   "execution_count": null,
   "metadata": {
    "homework": true
   },
   "outputs": [],
   "source": [
    "set_example2 = {'a', 'a', [0], [0], [0, [1]], [0, [1]]}"
   ]
  },
  {
   "cell_type": "markdown",
   "metadata": {
    "editable": false
   },
   "source": [
    "### Dizionari\n",
    "I **dict** sono strutture dato in grado di contenere coppie **chiave-valore**. Non vi sono restrizioni sui valori. Le restrizioni riguardano solo le chiavi: è possibile utilizzare qualsiasi valore immutabile come chiave. Per cui sono ammessi numeri, stringhe, tuple (queste ultime solo se contengono esclusivamente numeri, stringhe o altre tuple)."
   ]
  },
  {
   "cell_type": "code",
   "execution_count": null,
   "metadata": {},
   "outputs": [],
   "source": [
    "dictionary_example = {'chiave1': 5, 'chiave2': 11}\n",
    "print(type(dictionary_example))\n",
    "\n",
    "print(dictionary_example)\n",
    "    \n",
    "# In un dizionario è anche possibile utilizzare chiavi di tipi diversi, tuple comprese\n",
    "dictionary_example2 = {'chiave1': 5, 72: 'Valore2', (3, 'a'): [1, 2, 3]}"
   ]
  },
  {
   "cell_type": "markdown",
   "metadata": {
    "editable": false
   },
   "source": [
    "Di seguito una breve panoramica delle principali operazioni consentite:"
   ]
  },
  {
   "cell_type": "code",
   "execution_count": null,
   "metadata": {},
   "outputs": [],
   "source": [
    "dictionary_example['chiave1'] = 3 # Cambio di un valore\n",
    "print('Dopo il cambio di valore:', dictionary_example['chiave1'])\n",
    "\n",
    "dictionary_example['chiaveN'] = 3 # Inserimento di una nuova coppia chiave-valore\n",
    "\n",
    "del dictionary_example['chiave1'] # Eliminazione di una coppia chiave-valore\n",
    "\n",
    "# Quale potrebbe essere il risultato della linea seguente? Provate a decommentarla e ad eseguirla\n",
    "#del dictionary_example['chiaveInesistente'] "
   ]
  },
  {
   "cell_type": "markdown",
   "metadata": {
    "editable": false
   },
   "source": [
    "## Blocchi condizionali e cicli\n",
    "A differenza di altri linguaggi (es. C, C#, Java, ecc.) in Python non è necessario delimitare i blocchi di codice utilizzando parentesi graffe ({ }) o una specifica terminologia (begin/end).\n",
    "\n",
    "In generale, Python affida la creazione di uno scope all'**indentazione del codice**. Questa è l'unica considerevole differenza sintattica rispetto ad altri linguaggi.\n",
    "\n",
    "Questo significa che l’indentazione è significativa, e che indentare in modo incorretto può portare a errori o a comportamenti imprevisti del programma. Ad esempio:"
   ]
  },
  {
   "cell_type": "code",
   "execution_count": null,
   "metadata": {
    "scrolled": true
   },
   "outputs": [],
   "source": [
    "flag = True                                                  # 1\n",
    "print('Eseguito sempre all’inizio')                          # 2\n",
    "if flag:                                                     # 3\n",
    "    print('Eseguito in mezzo solo se la condizione è vera')  # 4\n",
    "    print('Eseguito in mezzo solo se la condizione è vera')  # 5\n",
    "    print('Eseguito in mezzo solo se la condizione è vera')  # 6\n",
    "print('Eseguito sempre alla fine')                           # 7"
   ]
  },
  {
   "cell_type": "markdown",
   "metadata": {
    "editable": false
   },
   "source": [
    "In questo esempio si nota che:\n",
    "1.\tLe istruzioni 1, 2, 3 e 7 hanno lo stesso livello di indentazione, e vengono sempre eseguite (non dipendono da nessuna condizione).\n",
    "2.\tLe istruzioni 4, 5 e 6 hanno un livello di indentazione maggiore e vengono eseguite solamente se la variabile *flag* è vera.\n",
    "\n",
    "### If"
   ]
  },
  {
   "cell_type": "code",
   "execution_count": null,
   "metadata": {},
   "outputs": [],
   "source": [
    "value1 = 3\n",
    "value2 = 5\n",
    "\n",
    "if value1 > value2:    # La condizione dell'if non è racchiusa tra parentesi tonde\n",
    "    print('A')\n",
    "elif value1 == value2: # elif è la keyword Python per il costrutto 'else if'\n",
    "    print('B')\n",
    "    print('C')\n",
    "else:\n",
    "    print('D')"
   ]
  },
  {
   "cell_type": "markdown",
   "metadata": {
    "editable": false,
    "homework": true
   },
   "source": [
    "#### In\n",
    "È possibile utilizzare la seguente sintassi per verificare se una chiave è contenuta in un dizionario oppure se un dato valore è contenuto in una lista, tupla o set."
   ]
  },
  {
   "cell_type": "code",
   "execution_count": null,
   "metadata": {
    "homework": true
   },
   "outputs": [],
   "source": [
    "dictionary_example = {'chiave1': 5, 'chiave2': 11}\n",
    "\n",
    "if 'chiave1' in dictionary_example:\n",
    "    print('chiave1 presente')\n",
    "else:\n",
    "    print('chiave1 assente')\n",
    "\n",
    "set_example = {'a', 'b', 'a', 'c'}\n",
    "\n",
    "if 'a' in set_example:\n",
    "    print('a presente')\n",
    "else:\n",
    "    print('a assente')"
   ]
  },
  {
   "cell_type": "markdown",
   "metadata": {
    "editable": false,
    "homework": true
   },
   "source": [
    "È possibile verificare se una data chiave non è contenuta nel dizionario tramite **not in**:"
   ]
  },
  {
   "cell_type": "code",
   "execution_count": null,
   "metadata": {
    "homework": true
   },
   "outputs": [],
   "source": [
    "# Sintassi consigliata\n",
    "if 'chiave1' not in dictionary_example:\n",
    "    print('chiave1 assente')\n",
    "else:\n",
    "    print('chiave1 presente')\n",
    "    \n",
    "# Sintassi funzionante, ma sconsigliata\n",
    "if not ('chiave1' in dictionary_example):\n",
    "    print('chiave1 assente')\n",
    "else:\n",
    "    print('chiave1 presente')"
   ]
  },
  {
   "cell_type": "markdown",
   "metadata": {
    "editable": false
   },
   "source": [
    "### For"
   ]
  },
  {
   "cell_type": "code",
   "execution_count": null,
   "metadata": {},
   "outputs": [],
   "source": [
    "for i in range(6):\n",
    "    if i % 2 == 0:\n",
    "        print(i)"
   ]
  },
  {
   "cell_type": "code",
   "execution_count": null,
   "metadata": {},
   "outputs": [],
   "source": [
    "animals = ['cat', 'dog', 'monkey']\n",
    "for animal in animals:\n",
    "    print(animal)"
   ]
  },
  {
   "cell_type": "code",
   "execution_count": null,
   "metadata": {},
   "outputs": [],
   "source": [
    "animals = ['cat', 'dog', 'monkey']\n",
    "for idx, animal in enumerate(animals):\n",
    "    print('#%d: %s' % (idx + 1, animal))"
   ]
  },
  {
   "cell_type": "markdown",
   "metadata": {
    "editable": false,
    "homework": true
   },
   "source": [
    "La sintassi per iterare un set è esattamente quella usata nel caso di liste e tuple. Tuttavia non è possibile utilizzare la sintassi che fa uso di indici:"
   ]
  },
  {
   "cell_type": "code",
   "execution_count": null,
   "metadata": {
    "homework": true
   },
   "outputs": [],
   "source": [
    "set_example = {'a', 'b', 'a', 'c'}\n",
    "for x in set_example:\n",
    "    print(x)\n",
    "\n",
    "# Eseguire il seguente ciclo restituirebbe un errore: gli elementi di un set non sono ordinati\n",
    "#for i in range(len(set_example)):\n",
    "#    print(set_example[i])"
   ]
  },
  {
   "cell_type": "markdown",
   "metadata": {
    "editable": false,
    "homework": true
   },
   "source": [
    "Allo stesso modo è possibile iterare un dizionario. In questo caso vengono iterate le sole chiavi."
   ]
  },
  {
   "cell_type": "code",
   "execution_count": null,
   "metadata": {
    "homework": true
   },
   "outputs": [],
   "source": [
    "dictionary_example = {'chiave1': 5, 'chiave2': 11}\n",
    "\n",
    "for x in dictionary_example: # Itera le sole chiavi\n",
    "    print('Chiave:', x)\n",
    "    print('Valore associato:', dictionary_example[x])"
   ]
  },
  {
   "cell_type": "markdown",
   "metadata": {
    "editable": false,
    "homework": true
   },
   "source": [
    "In alternativa, per i dizionari è possibile utilizzare una sintassi più compatta:"
   ]
  },
  {
   "cell_type": "code",
   "execution_count": null,
   "metadata": {
    "homework": true
   },
   "outputs": [],
   "source": [
    "for key, value in dictionary_example.items(): # Itera le coppie chiave-valore\n",
    "    print('Alla chiave', key, 'corrisponde il valore', value)"
   ]
  },
  {
   "cell_type": "markdown",
   "metadata": {
    "editable": false
   },
   "source": [
    "### While"
   ]
  },
  {
   "cell_type": "code",
   "execution_count": null,
   "metadata": {
    "scrolled": true
   },
   "outputs": [],
   "source": [
    "while value2 > 0: # Come per l'if, la condizione non è racchiusa tra parentesi tonde\n",
    "    value2 -= 1\n",
    "    print(value2)"
   ]
  },
  {
   "cell_type": "markdown",
   "metadata": {
    "editable": false,
    "homework": true
   },
   "source": [
    "### Esercizio 1"
   ]
  },
  {
   "cell_type": "code",
   "execution_count": null,
   "metadata": {
    "homework": true
   },
   "outputs": [],
   "source": [
    "# Esercizio 1.0\n",
    "# Quindi, per iterare un array:\n",
    "list1 = ['a', 'b', 'c', 'd']\n",
    "for i in len(list1):\n",
    "    print('L\\'elemento all\\'indice', i, 'è:', list1[i])\n",
    "\n",
    "# ---> Oppure no?"
   ]
  },
  {
   "cell_type": "markdown",
   "metadata": {
    "editable": false,
    "homework": true
   },
   "source": [
    "La cella precedente presenta un errore. Lo *stack trace* è presentato in maniera diversa da come viene presentato in Java: in Python le chiamate più recenti e la descrizione dell'eccezione sono in basso anzichè in alto.\n",
    "\n",
    "In questo caso l'eccezione è *\"TypeError: 'int' object is not iterable\"*.\n",
    "\n",
    "Risolvete l'errore nella cella precedente. Per farlo andate a recuperare la sintassi del for vista poco prima. Per quale motivo è necessaria la correzione che avete apportato?"
   ]
  },
  {
   "cell_type": "markdown",
   "metadata": {
    "editable": false
   },
   "source": [
    "## Funzioni\n",
    "La dichiarazione di una funzione inizia con la *keyword* **def**. Questa è seguita dal nome della funzione, dalla lista dei parametri attesi racchiusi tra parentesi e infine dal carattere '**:**'."
   ]
  },
  {
   "cell_type": "code",
   "execution_count": null,
   "metadata": {},
   "outputs": [],
   "source": [
    "def sign(x):\n",
    "    if x > 0:\n",
    "        return 'positive'\n",
    "    elif x < 0:\n",
    "        return 'negative'\n",
    "    else:\n",
    "        return 'zero'\n",
    "\n",
    "for x in [-1, 0, 1]:\n",
    "    print(sign(x))"
   ]
  },
  {
   "cell_type": "markdown",
   "metadata": {
    "editable": false
   },
   "source": [
    "Inoltre è possibile richiamare le funzioni passando i valori dei parametri esplicitando il loro nome.\n",
    "Infine alcuni argomenti possono essere dichiarati come opzionali definendone un valore di *default*."
   ]
  },
  {
   "cell_type": "code",
   "execution_count": null,
   "metadata": {},
   "outputs": [],
   "source": [
    "def hello(name, loud=False):\n",
    "    if loud:\n",
    "        print('HELLO, %s!' % name.upper())\n",
    "    else:\n",
    "        print('Hello, %s' % name)\n",
    "\n",
    "hello('Bob')\n",
    "hello('Fred', True)\n",
    "hello(loud=True,name='Jack')"
   ]
  },
  {
   "cell_type": "markdown",
   "metadata": {
    "editable": false
   },
   "source": [
    "Le funzioni possono restituire valori di ritorno multipli:"
   ]
  },
  {
   "cell_type": "code",
   "execution_count": null,
   "metadata": {},
   "outputs": [],
   "source": [
    "def compute_square_area_perimeter(squareSideLength):\n",
    "    area = squareSideLength**2\n",
    "    perimeter = squareSideLength*4\n",
    "    return area, perimeter\n",
    "\n",
    "area, perimeter = compute_square_area_perimeter(7)\n",
    "print('Area: ', area)\n",
    "print('Perimetro: ', perimeter)"
   ]
  },
  {
   "cell_type": "markdown",
   "metadata": {
    "editable": false,
    "homework": true
   },
   "source": [
    "È possibile ignorare selettivamente alcuni dei risultati utilizzando il simbolo '**_**':"
   ]
  },
  {
   "cell_type": "code",
   "execution_count": null,
   "metadata": {
    "homework": true
   },
   "outputs": [],
   "source": [
    "def multiple_outputs3():\n",
    "    return 'a', 'b', 'c'\n",
    "\n",
    "result1, _, result3 = multiple_outputs3()\n",
    "\n",
    "print(result1, result3)\n",
    "\n",
    "# Più in generale\n",
    "my_tuple = 1, 2, 3\n",
    "_, result2, _ = my_tuple\n",
    "\n",
    "print(result2)"
   ]
  },
  {
   "cell_type": "markdown",
   "metadata": {
    "editable": false,
    "homework": true
   },
   "source": [
    "È anche possibile costruire funzioni che accettano un numero variabile di argomenti ma che allo stesso tempo permettono di avere parametri con nome. In questo caso nella dichiarazione della funzione viene fatto uso di **\\*args** e **\\*\\*kwargs**. Nella stessa dichiarazione è possibile utilizzare entrambi o anche uno solo di questi.\n",
    "\n",
    "**\\*args** indica che la funzione accetta un numero potenzialmente infinito di parametri senza nome. La funzione utilizza questo parametro come una tupla.\n",
    "\n",
    "**\\*\\*kwargs** indica che la funzione accetta un numero potenzialmente infinito di parametri con nome. La funzione utilizza questo parametro come un dizionario."
   ]
  },
  {
   "cell_type": "code",
   "execution_count": null,
   "metadata": {
    "homework": true
   },
   "outputs": [],
   "source": [
    "def print_arguments(*args, **kwargs):\n",
    "    print('Tipo di args:', type(args))\n",
    "    for idx, value in enumerate(args):\n",
    "        print('[args] Il valore all\\'indice {} è {}'.format(idx, value))\n",
    "        \n",
    "    print('Tipo di kwargs:', type(kwargs))\n",
    "    for key, value in kwargs.items():\n",
    "        print('[kwargs] Il valore associato alla chiave {} è {}'.format(key, value))\n",
    "\n",
    "print_arguments('a', 'b', 'c', 'd', arbitrary_parameter_name=5, arbitrary_parameter_name2=7)\n",
    "#print_arguments() # Anche questo è corretto: args e kwargs saranno vuoti"
   ]
  },
  {
   "cell_type": "markdown",
   "metadata": {
    "editable": false
   },
   "source": [
    "# Matplotlib\n",
    "**Matplotlib** è una delle librerie più conosciute per Python per la creazione e la visualizzazione di grafici.\n",
    "\n",
    "Matplotlib mette a disposizione numerosi strumenti. L'obiettivo dell'esercitazione odierna è presentarne le principali caratteristiche. Per approfondire le conoscenze su questa libreria potete fare riferimento alla [relativa documentazione](https://matplotlib.org/api/api_overview.html).\n",
    "\n",
    "## Import\n",
    "In Python è possibile importare librerie o file sorgenti esterni tramite la *keyword* **import** seguita dal nome del modulo da importare. La direttiva *import* verifica se nel percorso attuale è presente un file sorgente con il nome dato oppure se nel PC è installato un modulo con quel nome."
   ]
  },
  {
   "cell_type": "code",
   "execution_count": null,
   "metadata": {},
   "outputs": [],
   "source": [
    "import matplotlib.pyplot as plt"
   ]
  },
  {
   "cell_type": "markdown",
   "metadata": {
    "editable": false
   },
   "source": [
    "Vanno notate alcune cose riguardanti la sintassi utilizzata per l'*import*. Per prima cosa, come avviene in altri linguaggi, i moduli sono organizzati secondo una struttura gerarchica. In questo caso importiamo **pyplot**, sotto-modulo di **matplotlib**. Una caratteristica raramente presente nei linguaggi *mainstream* è la possibilità di dare un nome arbitrario al modulo appena importato. In questo caso, per convenzione, attribiuamo il nome *plt* al modulo *matplotlib.pyplot*. Tale nome potrà essere utilizzato successivamente tutte le volte che si vorrà fare riferimento al modulo *matplotlib.pyplot*."
   ]
  },
  {
   "cell_type": "markdown",
   "metadata": {
    "editable": false
   },
   "source": [
    "## Hello World\n",
    "La cella seguente riporta un esempio per la visualizzazione di un semplice grafico utilizzando Matplotlib. Notate come il risultato sia stato visualizzato direttamente nel notebook. La libreria è ovviamente utilizzabile anche al di fuori del notebook: in tal caso verrà creata un'apposita interfaccia grafica."
   ]
  },
  {
   "cell_type": "code",
   "execution_count": null,
   "metadata": {
    "scrolled": true
   },
   "outputs": [],
   "source": [
    "x1, y1 = [-1, 12], [1, 4]\n",
    "x2, y2 = [1, 10], [3, 2]\n",
    "plt.plot(x1, y1, x2, y2)\n",
    "plt.show()"
   ]
  },
  {
   "cell_type": "markdown",
   "metadata": {
    "editable": false
   },
   "source": [
    "La funzione **plot(...)** crea un grafico contenente punti e segmenti. Da notare il formato dei parametri: *x1* contiene le ascisse dei punti che formano il primo segmento, *y1* ne contiene le ordinate. Lo stesso vale per il secondo segmento (*x2* e *y2*)."
   ]
  },
  {
   "cell_type": "markdown",
   "metadata": {
    "editable": false
   },
   "source": [
    "## Caratteristiche e ulteriori funzionalità\n",
    "Il modulo appena importato mantiene internamente un riferimento alla vista che stiamo costruendo. Non è quindi necessario memorizzare l'istanza della vista in una variabile. In questa maniera possiamo comunque creare viste articolate o anche più di una in sequenza, come accade nell'esempio seguente:"
   ]
  },
  {
   "cell_type": "code",
   "execution_count": null,
   "metadata": {},
   "outputs": [],
   "source": [
    "# Aggiungiamo segmenti attraverso più chiamate alla funzione plot(...)\n",
    "x1, y1 = [-1, 12], [1, 4]\n",
    "x2, y2 = [1, 10], [3, 2]\n",
    "plt.plot(x1, y1, x2, y2, marker = 'o')\n",
    "\n",
    "x1, y1 = [0, 8], [0, 8]\n",
    "x2, y2 = [0, 8], [8, 0]\n",
    "plt.plot(x1, y1, x2, y2, marker = 'x')\n",
    "plt.show()\n",
    "\n",
    "# Creiamo un nuovo grafico con 4 segmenti, tutti inseriti con un'unica chiamata a plot(...)\n",
    "x1, y1 = [0, 0], [0, 8]\n",
    "x2, y2 = [0, 8], [8, 8]\n",
    "x3, y3 = [8, 8], [8, 0]\n",
    "x4, y4 = [8, 0], [0, 0]\n",
    "plt.plot(x1, y1, x2, y2, x3, y3, x4, y4, marker = 'x')\n",
    "plt.show()"
   ]
  },
  {
   "cell_type": "markdown",
   "metadata": {
    "editable": false
   },
   "source": [
    "Come avete appena visto la funzione **show(...)** si occupa di creare l'immagine finale ripulendo allo stesso tempo lo stato interno mantenuto dal modulo. Chiamate successive permettono di creare ulteriori viste.\n",
    "\n",
    "## Opzioni grafiche\n",
    "\n",
    "Avrete anche notato che plot accetta un numero arbitrario di parametri senza nome. Questo ci permette di aggiungere un numero imprecisato di segmenti in un'unica chiamata.\n",
    "\n",
    "In Matplolib è comune trovare funzioni che accettano un numero potenzialmente infinito di *parametri geometrici* e che lasciano ai *parametri con nome* il compito di curarne la presentazione grafica.\n",
    "\n",
    "Come ad esempio nella cella seguente:"
   ]
  },
  {
   "cell_type": "code",
   "execution_count": null,
   "metadata": {
    "scrolled": false
   },
   "outputs": [],
   "source": [
    "x1, y1 = [0, 0], [0, 8]\n",
    "x2, y2 = [0, 8], [8, 8]\n",
    "x3, y3 = [8, 8], [8, 0]\n",
    "x4, y4 = [8, 0], [0, 0]\n",
    "# Plot(...) mette a disposizione molte opzioni per controllare la grafica degli elementi\n",
    "# In questo esempio usiamo linewidth, color e marker\n",
    "plt.plot(x1, y1, x2, y2, x3, y3, x4, y4, linewidth = 1, color = (0.0, 1.0, 1.0), marker = 'D')\n",
    "plt.show()"
   ]
  },
  {
   "cell_type": "markdown",
   "metadata": {
    "editable": false
   },
   "source": [
    "## Istogrammi\n",
    "Tramite Matplotlib è possibile costruire una grande varietà di viste. Quello che segue è un esempio di istogramma."
   ]
  },
  {
   "cell_type": "code",
   "execution_count": null,
   "metadata": {},
   "outputs": [],
   "source": [
    "# La libreria random permette di generare numeri casuali\n",
    "import random\n",
    "        \n",
    "# Genera una lista di 10000 numeri presi da una distribuzione gaussiana\n",
    "mu, sigma = 100, 15\n",
    "x = [random.gauss(mu, sigma) for _ in range(10000)]\n",
    "\n",
    "# La funzione utilizzata per mostrare istogrammi è hist(...)\n",
    "plt.hist(x, bins=50, density=1, facecolor='green')\n",
    "\n",
    "# Modifica di qualche opzione grafica\n",
    "plt.title(r'$\\mathrm{Histogram\\ of\\ IQ:}\\ \\mu=100,\\ \\sigma=15$')\n",
    "plt.axis([40, 160, 0, 0.03])\n",
    "\n",
    "plt.show()"
   ]
  },
  {
   "cell_type": "markdown",
   "metadata": {
    "editable": false,
    "homework": true
   },
   "source": [
    "### Suggerimenti\n",
    "La documentazione per **plot(...)** è disponibile qui https://matplotlib.org/api/_as_gen/matplotlib.pyplot.plot.html.\n",
    "\n",
    "Le opzioni grafiche della funzione sono contenute nella sezione riguardante i **\\*\\*kwargs**, contenuta tra gli *Other Parameters*.\n",
    "\n",
    "Sicuramente sarà necessario utilizzare i parametri *color*, *marker*, *linewidth*.\n",
    "\n",
    "Attraverso la funzione **plot(...)** non è possibile inserire: la visualizzazione della griglia, i nomi degli assi, la creazione della scritta 'Annotazione'. Per questo dovrete cercare altre funzioni nella documentazione completa disponibile qui https://matplotlib.org/api/_as_gen/matplotlib.pyplot.html."
   ]
  }
 ],
 "metadata": {
  "anaconda-cloud": {},
  "celltoolbar": "Edit Metadata",
  "kernelspec": {
   "display_name": "Python 3",
   "language": "python",
   "name": "python3"
  },
  "language_info": {
   "codemirror_mode": {
    "name": "ipython",
    "version": 3
   },
   "file_extension": ".py",
   "mimetype": "text/x-python",
   "name": "python",
   "nbconvert_exporter": "python",
   "pygments_lexer": "ipython3",
   "version": "3.7.4"
  }
 },
 "nbformat": 4,
 "nbformat_minor": 2
}
