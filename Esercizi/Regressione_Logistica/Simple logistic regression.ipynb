{
 "cells": [
  {
   "cell_type": "markdown",
   "metadata": {},
   "source": [
    "# Simple logistic regression\n",
    "\n",
    "This notebook follows John H McDonald's [Handbook of Biological Statistics](http://www.biostathandbook.com/simplelogistic.html) chapter on simple logistic regression.\n",
    "\n",
    "This notebook is provided with a CC-BY-SA license."
   ]
  },
  {
   "cell_type": "code",
   "execution_count": null,
   "metadata": {},
   "outputs": [],
   "source": [
    "%matplotlib inline"
   ]
  },
  {
   "cell_type": "code",
   "execution_count": null,
   "metadata": {},
   "outputs": [],
   "source": [
    "import io\n",
    "import matplotlib.pyplot as plt\n",
    "import pandas as pd\n",
    "import numpy as np\n",
    "import scipy.stats\n",
    "import scipy.special\n",
    "import seaborn as sns\n",
    "sns.set_style('white')\n",
    "sns.set_context('notebook')"
   ]
  },
  {
   "cell_type": "markdown",
   "metadata": {},
   "source": [
    "Spider data from *Suzuki et al. (2006)*:"
   ]
  },
  {
   "cell_type": "code",
   "execution_count": null,
   "metadata": {},
   "outputs": [],
   "source": [
    "data = \"\"\"Grain size (mm)\tSpiders\n",
    "0.245\tabsent\n",
    "0.247\tabsent\n",
    "0.285\tpresent\n",
    "0.299\tpresent\n",
    "0.327\tpresent\n",
    "0.347\tpresent\n",
    "0.356\tabsent\n",
    "0.36\tpresent\n",
    "0.363\tabsent\n",
    "0.364\tpresent\n",
    "0.398\tabsent\n",
    "0.4\tpresent\n",
    "0.409\tabsent\n",
    "0.421\tpresent\n",
    "0.432\tabsent\n",
    "0.473\tpresent\n",
    "0.509\tpresent\n",
    "0.529\tpresent\n",
    "0.561\tabsent\n",
    "0.569\tabsent\n",
    "0.594\tpresent\n",
    "0.638\tpresent\n",
    "0.656\tpresent\n",
    "0.816\tpresent\n",
    "0.853\tpresent\n",
    "0.938\tpresent\n",
    "1.036\tpresent\n",
    "1.045\tpresent\n",
    "\"\"\"\n",
    "df = pd.read_table(io.StringIO(data))\n",
    "df.Spiders=df.Spiders == 'present'\n",
    "df.Spiders = df.Spiders.astype('int')\n",
    "df.head()"
   ]
  },
  {
   "cell_type": "code",
   "execution_count": null,
   "metadata": {},
   "outputs": [],
   "source": [
    "df.plot.scatter('Grain size (mm)', 'Spiders')\n",
    "plt.ylabel('Spiders present?')\n",
    "sns.despine()"
   ]
  },
  {
   "cell_type": "markdown",
   "metadata": {},
   "source": [
    "I will analyse this with the *scikit-learn* package."
   ]
  },
  {
   "cell_type": "code",
   "execution_count": null,
   "metadata": {},
   "outputs": [],
   "source": [
    "import sklearn.linear_model"
   ]
  },
  {
   "cell_type": "markdown",
   "metadata": {},
   "source": [
    "scikit-learn has a logisitic regression classifier which uses regularization. To eliminate regularization, we set the regularization parameter `C` to $10^{12}$."
   ]
  },
  {
   "cell_type": "code",
   "execution_count": null,
   "metadata": {},
   "outputs": [],
   "source": [
    "# C=1e12 is effectively no regularization - see https://github.com/scikit-learn/scikit-learn/issues/6738\n",
    "clf = sklearn.linear_model.LogisticRegression(C=1e12, random_state=0)\n",
    "clf.fit(df['Grain size (mm)'].values.reshape(-1, 1), df['Spiders'])\n",
    "print(clf.intercept_, clf.coef_)"
   ]
  },
  {
   "cell_type": "markdown",
   "metadata": {},
   "source": [
    "This is in agreement with the equation John reports:\n",
    "$$\n",
    "probability of spider presence = \\frac{e^{-1.6476+5.1215(grain \\; size)}}{(1+e^{-1.6476+5.1215(grain \\; size)}}\n",
    "$$"
   ]
  },
  {
   "cell_type": "code",
   "execution_count": null,
   "metadata": {},
   "outputs": [],
   "source": [
    "def plot_log_reg(x, y, data, clf, xmin=None, xmax=None, alpha=1, ax=None):\n",
    "    if ax is None:\n",
    "        fig, ax = plt.subplots()\n",
    "    else:\n",
    "        fig = ax.figure\n",
    "    ax.scatter(data[x], data[y], color='black', zorder=20, alpha=alpha)\n",
    "    if xmin is None:\n",
    "        xmin = x.min()\n",
    "    if xmax is None:\n",
    "        xmax = x.max()\n",
    "    X_test = np.linspace(xmin, xmax, 300)\n",
    "\n",
    "    loss = scipy.special.expit(X_test * clf.coef_ + clf.intercept_).ravel()\n",
    "    ax.plot(X_test, loss, linewidth=3)\n",
    "\n",
    "    ax.set_xlabel(x)\n",
    "    ax.set_ylabel(y)\n",
    "    fig.tight_layout()\n",
    "    sns.despine()\n",
    "    return fig, ax"
   ]
  },
  {
   "cell_type": "code",
   "execution_count": null,
   "metadata": {},
   "outputs": [],
   "source": [
    "plot_log_reg(x='Grain size (mm)', y='Spiders', data=df, clf=clf, xmin=0, xmax=1.5);"
   ]
  },
  {
   "cell_type": "markdown",
   "metadata": {},
   "source": [
    "## Second example"
   ]
  },
  {
   "cell_type": "code",
   "execution_count": null,
   "metadata": {},
   "outputs": [],
   "source": [
    "data = \"\"\"Location\tLatitude\tMpi90\tMpi100\tp, Mpi100\n",
    "Port Townsend, WA\t48.1\t47\t139\t0.748\n",
    "Neskowin, OR\t45.2\t177\t241\t0.577\n",
    "Siuslaw R., OR\t44\t1087\t1183\t0.521\n",
    "Umpqua R., OR\t43.7\t187\t175\t0.483\n",
    "Coos Bay, OR\t43.5\t397\t671\t0.628\n",
    "San Francisco, CA\t37.8\t40\t14\t0.259\n",
    "Carmel, CA\t36.6\t39\t17\t0.304\n",
    "Santa Barbara, CA\t34.3\t30\t0\t0\n",
    "\"\"\"\n",
    "df = pd.read_table(io.StringIO(data))\n",
    "df.head()"
   ]
  },
  {
   "cell_type": "code",
   "execution_count": null,
   "metadata": {},
   "outputs": [],
   "source": [
    "df.sort_values('Latitude').plot('Latitude', 'p, Mpi100', ls='', marker='o')\n",
    "plt.ylabel('Mpi100 proportion')\n",
    "plt.legend().set_visible(False)\n",
    "plt.xlim(30, 50)\n",
    "plt.ylim(-0.1, 1.1)\n",
    "sns.despine()"
   ]
  },
  {
   "cell_type": "code",
   "execution_count": null,
   "metadata": {},
   "outputs": [],
   "source": [
    "rows = []\n",
    "for i, row in df.iterrows():\n",
    "    for _ in range(row['Mpi90']):\n",
    "        rows.append({'Location':row['Location'], 'Latitude': row['Latitude'], 'Allele': 0})\n",
    "    for _ in range(row['Mpi100']):\n",
    "        rows.append({'Location':row['Location'], 'Latitude': row['Latitude'], 'Allele': 1})\n",
    "raw_df = pd.DataFrame(rows)\n",
    "raw_df.head()"
   ]
  },
  {
   "cell_type": "code",
   "execution_count": null,
   "metadata": {},
   "outputs": [],
   "source": [
    "clf = sklearn.linear_model.LogisticRegression(C=1e12, random_state=0)\n",
    "clf.fit(raw_df['Latitude'].values.reshape(-1, 1), raw_df['Allele'])\n",
    "print(clf.intercept_, clf.coef_)"
   ]
  },
  {
   "cell_type": "markdown",
   "metadata": {},
   "source": [
    "which is very close to McDonald's intercept of -7.6469 and slope of 0.1786."
   ]
  },
  {
   "cell_type": "code",
   "execution_count": null,
   "metadata": {},
   "outputs": [],
   "source": [
    "fig, ax = plot_log_reg(x='Latitude', y='Allele', data=raw_df, clf=clf, xmin=30, xmax=50, alpha=0.02)\n",
    "df.sort_values('Latitude').plot('Latitude', 'p, Mpi100', ls='', marker='o', ax=ax)"
   ]
  }
 ],
 "metadata": {
  "kernelspec": {
   "display_name": "Python 3",
   "language": "python",
   "name": "python3"
  },
  "language_info": {
   "codemirror_mode": {
    "name": "ipython",
    "version": 3
   },
   "file_extension": ".py",
   "mimetype": "text/x-python",
   "name": "python",
   "nbconvert_exporter": "python",
   "pygments_lexer": "ipython3",
   "version": "3.8.2"
  },
  "varInspector": {
   "cols": {
    "lenName": 16,
    "lenType": 16,
    "lenVar": 40
   },
   "kernels_config": {
    "python": {
     "delete_cmd_postfix": "",
     "delete_cmd_prefix": "del ",
     "library": "var_list.py",
     "varRefreshCmd": "print(var_dic_list())"
    },
    "r": {
     "delete_cmd_postfix": ") ",
     "delete_cmd_prefix": "rm(",
     "library": "var_list.r",
     "varRefreshCmd": "cat(var_dic_list()) "
    }
   },
   "types_to_exclude": [
    "module",
    "function",
    "builtin_function_or_method",
    "instance",
    "_Feature"
   ],
   "window_display": false
  }
 },
 "nbformat": 4,
 "nbformat_minor": 1
}
